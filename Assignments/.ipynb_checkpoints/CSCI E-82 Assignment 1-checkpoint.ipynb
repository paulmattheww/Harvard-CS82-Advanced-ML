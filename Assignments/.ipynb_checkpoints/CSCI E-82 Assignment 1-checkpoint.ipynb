{
 "cells": [
  {
   "cell_type": "markdown",
   "metadata": {},
   "source": [
    "## <center>CSCI E-82</center>\n",
    "## <center>HW 1  Dimensionality Reduction</center>\n",
    "### <center>Due: Sept 17, 2018 11:59pm EST</center>\n",
    "\n",
    "#### Note that this is an individual homework to be completed without collaborations except through Piazza.  \n",
    "\n",
    "#### We encourage you to make progress this weekend since the second homework will likely come out in a week before this one is due.\n",
    "\n"
   ]
  },
  {
   "cell_type": "markdown",
   "metadata": {},
   "source": [
    "### Your name:"
   ]
  },
  {
   "cell_type": "markdown",
   "metadata": {},
   "source": [
    "PAUL M. WASHBURN"
   ]
  },
  {
   "cell_type": "markdown",
   "metadata": {},
   "source": [
    "### Problem 1   (5 points)\n",
    "\n",
    "$$\\mathbf{X} = \\left[\\begin{array}\n",
    "{rrr}\n",
    "1 & 2 & 3 \\\\\n",
    "4 & 5 & 6 \\\\\n",
    "7 & 8 & 9\n",
    "\\end{array}\\right]\n",
    "$$\n",
    "\n",
    "$$\\mathbf{Y} = \\left[\\begin{array}\n",
    "{rrr}\n",
    "1 & 2 & 1 \\\\\n",
    "2 & 1 & 2  \n",
    "\\end{array}\\right]\n",
    "$$\n",
    "\n",
    "Compute XY<sup>T</sup>.  The answer can be computed by hand and written in Markdown like the above matrices, or computed in python.  Either way is acceptable."
   ]
  },
  {
   "cell_type": "code",
   "execution_count": 2,
   "metadata": {},
   "outputs": [],
   "source": [
    "import numpy as np\n",
    "import pandas as pd"
   ]
  },
  {
   "cell_type": "code",
   "execution_count": 76,
   "metadata": {},
   "outputs": [
    {
     "data": {
      "text/plain": [
       "array([[ 8, 10],\n",
       "       [20, 25],\n",
       "       [32, 40]])"
      ]
     },
     "execution_count": 76,
     "metadata": {},
     "output_type": "execute_result"
    }
   ],
   "source": [
    "X = np.arange(1, 10).reshape(3, 3)\n",
    "Y = np.array([[1, 2, 1], [2, 1, 2]])\n",
    "np.matmul(X, Y.T)"
   ]
  },
  {
   "cell_type": "code",
   "execution_count": 77,
   "metadata": {},
   "outputs": [
    {
     "data": {
      "text/plain": [
       "array([[ 8, 10],\n",
       "       [20, 25],\n",
       "       [32, 40]])"
      ]
     },
     "execution_count": 77,
     "metadata": {},
     "output_type": "execute_result"
    }
   ],
   "source": [
    "np.dot(X, Y.T)"
   ]
  },
  {
   "cell_type": "markdown",
   "metadata": {},
   "source": [
    "### Problem 2  \n",
    "\n",
    "This problem goes through a combination of python data manipulations as well as the full math projection using PCA.  We have divided the problem into multiple parts.\n",
    "\n"
   ]
  },
  {
   "cell_type": "markdown",
   "metadata": {},
   "source": [
    "### Problem 2a  (5 points)\n",
    "\n",
    "Download and load in the data set from the UCI archive https://archive.ics.uci.edu/ml/machine-learning-databases/ecoli/.  Print the dimensions and the first few rows to demonstrate a successful load."
   ]
  },
  {
   "cell_type": "code",
   "execution_count": 37,
   "metadata": {},
   "outputs": [
    {
     "name": "stdout",
     "output_type": "stream",
     "text": [
      "rows = 336, columns = 9\n"
     ]
    },
    {
     "data": {
      "text/html": [
       "<div>\n",
       "<style scoped>\n",
       "    .dataframe tbody tr th:only-of-type {\n",
       "        vertical-align: middle;\n",
       "    }\n",
       "\n",
       "    .dataframe tbody tr th {\n",
       "        vertical-align: top;\n",
       "    }\n",
       "\n",
       "    .dataframe thead th {\n",
       "        text-align: right;\n",
       "    }\n",
       "</style>\n",
       "<table border=\"1\" class=\"dataframe\">\n",
       "  <thead>\n",
       "    <tr style=\"text-align: right;\">\n",
       "      <th></th>\n",
       "      <th>sequence_name</th>\n",
       "      <th>mcg</th>\n",
       "      <th>gvh</th>\n",
       "      <th>lip</th>\n",
       "      <th>chg</th>\n",
       "      <th>aac</th>\n",
       "      <th>alm1</th>\n",
       "      <th>alm2</th>\n",
       "      <th>target</th>\n",
       "    </tr>\n",
       "  </thead>\n",
       "  <tbody>\n",
       "    <tr>\n",
       "      <th>0</th>\n",
       "      <td>AAT_ECOLI</td>\n",
       "      <td>0.49</td>\n",
       "      <td>0.29</td>\n",
       "      <td>0.48</td>\n",
       "      <td>0.5</td>\n",
       "      <td>0.56</td>\n",
       "      <td>0.24</td>\n",
       "      <td>0.35</td>\n",
       "      <td>cp</td>\n",
       "    </tr>\n",
       "    <tr>\n",
       "      <th>1</th>\n",
       "      <td>ACEA_ECOLI</td>\n",
       "      <td>0.07</td>\n",
       "      <td>0.40</td>\n",
       "      <td>0.48</td>\n",
       "      <td>0.5</td>\n",
       "      <td>0.54</td>\n",
       "      <td>0.35</td>\n",
       "      <td>0.44</td>\n",
       "      <td>cp</td>\n",
       "    </tr>\n",
       "    <tr>\n",
       "      <th>2</th>\n",
       "      <td>ACEK_ECOLI</td>\n",
       "      <td>0.56</td>\n",
       "      <td>0.40</td>\n",
       "      <td>0.48</td>\n",
       "      <td>0.5</td>\n",
       "      <td>0.49</td>\n",
       "      <td>0.37</td>\n",
       "      <td>0.46</td>\n",
       "      <td>cp</td>\n",
       "    </tr>\n",
       "    <tr>\n",
       "      <th>3</th>\n",
       "      <td>ACKA_ECOLI</td>\n",
       "      <td>0.59</td>\n",
       "      <td>0.49</td>\n",
       "      <td>0.48</td>\n",
       "      <td>0.5</td>\n",
       "      <td>0.52</td>\n",
       "      <td>0.45</td>\n",
       "      <td>0.36</td>\n",
       "      <td>cp</td>\n",
       "    </tr>\n",
       "    <tr>\n",
       "      <th>4</th>\n",
       "      <td>ADI_ECOLI</td>\n",
       "      <td>0.23</td>\n",
       "      <td>0.32</td>\n",
       "      <td>0.48</td>\n",
       "      <td>0.5</td>\n",
       "      <td>0.55</td>\n",
       "      <td>0.25</td>\n",
       "      <td>0.35</td>\n",
       "      <td>cp</td>\n",
       "    </tr>\n",
       "  </tbody>\n",
       "</table>\n",
       "</div>"
      ],
      "text/plain": [
       "  sequence_name   mcg   gvh   lip  chg   aac  alm1  alm2 target\n",
       "0     AAT_ECOLI  0.49  0.29  0.48  0.5  0.56  0.24  0.35     cp\n",
       "1    ACEA_ECOLI  0.07  0.40  0.48  0.5  0.54  0.35  0.44     cp\n",
       "2    ACEK_ECOLI  0.56  0.40  0.48  0.5  0.49  0.37  0.46     cp\n",
       "3    ACKA_ECOLI  0.59  0.49  0.48  0.5  0.52  0.45  0.36     cp\n",
       "4     ADI_ECOLI  0.23  0.32  0.48  0.5  0.55  0.25  0.35     cp"
      ]
     },
     "execution_count": 37,
     "metadata": {},
     "output_type": "execute_result"
    }
   ],
   "source": [
    "url = 'https://archive.ics.uci.edu/ml/machine-learning-databases/ecoli/ecoli.data'\n",
    "colnames = ['sequence_name', 'mcg', 'gvh', 'lip', 'chg', 'aac', 'alm1', 'alm2', 'target']\n",
    "df = pd.read_fwf(url, header=None)\n",
    "df.rename(columns=dict(zip(np.arange(0, 10), colnames)), inplace=True)\n",
    "\n",
    "print('rows = %i, columns = %i' %(df.shape[0], df.shape[1]))\n",
    "df.head()"
   ]
  },
  {
   "cell_type": "markdown",
   "metadata": {},
   "source": [
    "### Problem 2b  (10 points)\n",
    "Compute and print the covariance matrix for all columns excluding the first and last.  Rather than use the built-in function, compute this using python code for practice.  The following equation will suffice for this.\n",
    "\n",
    "Cov(X, Y) = Σ ( Xi - X ) ( Yi - Y ) / N \n"
   ]
  },
  {
   "cell_type": "code",
   "execution_count": 150,
   "metadata": {},
   "outputs": [
    {
     "data": {
      "text/html": [
       "<div>\n",
       "<style scoped>\n",
       "    .dataframe tbody tr th:only-of-type {\n",
       "        vertical-align: middle;\n",
       "    }\n",
       "\n",
       "    .dataframe tbody tr th {\n",
       "        vertical-align: top;\n",
       "    }\n",
       "\n",
       "    .dataframe thead th {\n",
       "        text-align: right;\n",
       "    }\n",
       "</style>\n",
       "<table border=\"1\" class=\"dataframe\">\n",
       "  <thead>\n",
       "    <tr style=\"text-align: right;\">\n",
       "      <th></th>\n",
       "      <th>mcg</th>\n",
       "      <th>gvh</th>\n",
       "      <th>lip</th>\n",
       "      <th>chg</th>\n",
       "      <th>aac</th>\n",
       "      <th>alm1</th>\n",
       "      <th>alm2</th>\n",
       "    </tr>\n",
       "  </thead>\n",
       "  <tbody>\n",
       "    <tr>\n",
       "      <th>mcg</th>\n",
       "      <td>0.037882</td>\n",
       "      <td>0.013115</td>\n",
       "      <td>0.002529</td>\n",
       "      <td>0.000373</td>\n",
       "      <td>0.005257</td>\n",
       "      <td>0.016670</td>\n",
       "      <td>0.006810</td>\n",
       "    </tr>\n",
       "    <tr>\n",
       "      <th>gvh</th>\n",
       "      <td>0.013115</td>\n",
       "      <td>0.021950</td>\n",
       "      <td>0.000574</td>\n",
       "      <td>0.000075</td>\n",
       "      <td>0.001266</td>\n",
       "      <td>0.005546</td>\n",
       "      <td>-0.003729</td>\n",
       "    </tr>\n",
       "    <tr>\n",
       "      <th>lip</th>\n",
       "      <td>0.002529</td>\n",
       "      <td>0.000574</td>\n",
       "      <td>0.007831</td>\n",
       "      <td>0.000753</td>\n",
       "      <td>0.000760</td>\n",
       "      <td>0.001829</td>\n",
       "      <td>-0.001067</td>\n",
       "    </tr>\n",
       "    <tr>\n",
       "      <th>chg</th>\n",
       "      <td>0.000373</td>\n",
       "      <td>0.000075</td>\n",
       "      <td>0.000753</td>\n",
       "      <td>0.000744</td>\n",
       "      <td>-0.000149</td>\n",
       "      <td>-0.000045</td>\n",
       "      <td>-0.000298</td>\n",
       "    </tr>\n",
       "    <tr>\n",
       "      <th>aac</th>\n",
       "      <td>0.005257</td>\n",
       "      <td>0.001266</td>\n",
       "      <td>0.000760</td>\n",
       "      <td>-0.000149</td>\n",
       "      <td>0.014976</td>\n",
       "      <td>0.007379</td>\n",
       "      <td>0.006475</td>\n",
       "    </tr>\n",
       "    <tr>\n",
       "      <th>alm1</th>\n",
       "      <td>0.016670</td>\n",
       "      <td>0.005546</td>\n",
       "      <td>0.001829</td>\n",
       "      <td>-0.000045</td>\n",
       "      <td>0.007379</td>\n",
       "      <td>0.046549</td>\n",
       "      <td>0.036566</td>\n",
       "    </tr>\n",
       "    <tr>\n",
       "      <th>alm2</th>\n",
       "      <td>0.006810</td>\n",
       "      <td>-0.003729</td>\n",
       "      <td>-0.001067</td>\n",
       "      <td>-0.000298</td>\n",
       "      <td>0.006475</td>\n",
       "      <td>0.036566</td>\n",
       "      <td>0.043853</td>\n",
       "    </tr>\n",
       "  </tbody>\n",
       "</table>\n",
       "</div>"
      ],
      "text/plain": [
       "           mcg       gvh       lip       chg       aac      alm1      alm2\n",
       "mcg   0.037882  0.013115  0.002529  0.000373  0.005257  0.016670  0.006810\n",
       "gvh   0.013115  0.021950  0.000574  0.000075  0.001266  0.005546 -0.003729\n",
       "lip   0.002529  0.000574  0.007831  0.000753  0.000760  0.001829 -0.001067\n",
       "chg   0.000373  0.000075  0.000753  0.000744 -0.000149 -0.000045 -0.000298\n",
       "aac   0.005257  0.001266  0.000760 -0.000149  0.014976  0.007379  0.006475\n",
       "alm1  0.016670  0.005546  0.001829 -0.000045  0.007379  0.046549  0.036566\n",
       "alm2  0.006810 -0.003729 -0.001067 -0.000298  0.006475  0.036566  0.043853"
      ]
     },
     "execution_count": 150,
     "metadata": {},
     "output_type": "execute_result"
    }
   ],
   "source": [
    "def cov_xy(m, y):\n",
    "    '''\n",
    "    Submit vectors as 1D arrays\n",
    "    '''\n",
    "    X = np.concatenate((m[:,np.newaxis], y[:,np.newaxis]), axis=1)\n",
    "    N = X.shape[0] - 1\n",
    "    X -= X.mean(axis=0)\n",
    "    C = (np.dot(X.T, X.conj()) / N).squeeze()\n",
    "    return C\n",
    "\n",
    "def cov_matrix(df, cols):\n",
    "    '''\n",
    "    Returns covariance matrix with column names\n",
    "    '''\n",
    "    # create empty dataframe with variance on the diagonals\n",
    "    cov_df = pd.DataFrame(np.diag(df[cols].var()), columns=cols, index=cols)\n",
    "\n",
    "    # populate cov_df empty dataframe with covariances\n",
    "    for X in cols:\n",
    "        for Y in cols:\n",
    "            # we already have the variances, so ignore when X == Y\n",
    "            if X != Y:\n",
    "                # populate empty dataframe with symmetrical value\n",
    "                _cov = cov_xy(df[X], df[Y])[0, 1]\n",
    "                cov_df.loc[Y, X] =  _cov\n",
    "            else:\n",
    "                pass\n",
    "    return cov_df\n",
    "\n",
    "cols = ['mcg', 'gvh', 'lip', 'chg', 'aac', 'alm1', 'alm2']\n",
    "cov_matrix(df, cols)"
   ]
  },
  {
   "cell_type": "code",
   "execution_count": 151,
   "metadata": {},
   "outputs": [
    {
     "data": {
      "text/html": [
       "<div>\n",
       "<style scoped>\n",
       "    .dataframe tbody tr th:only-of-type {\n",
       "        vertical-align: middle;\n",
       "    }\n",
       "\n",
       "    .dataframe tbody tr th {\n",
       "        vertical-align: top;\n",
       "    }\n",
       "\n",
       "    .dataframe thead th {\n",
       "        text-align: right;\n",
       "    }\n",
       "</style>\n",
       "<table border=\"1\" class=\"dataframe\">\n",
       "  <thead>\n",
       "    <tr style=\"text-align: right;\">\n",
       "      <th></th>\n",
       "      <th>mcg</th>\n",
       "      <th>gvh</th>\n",
       "      <th>lip</th>\n",
       "      <th>chg</th>\n",
       "      <th>aac</th>\n",
       "      <th>alm1</th>\n",
       "      <th>alm2</th>\n",
       "    </tr>\n",
       "  </thead>\n",
       "  <tbody>\n",
       "    <tr>\n",
       "      <th>mcg</th>\n",
       "      <td>0.037882</td>\n",
       "      <td>0.013115</td>\n",
       "      <td>0.002529</td>\n",
       "      <td>0.000373</td>\n",
       "      <td>0.005257</td>\n",
       "      <td>0.016670</td>\n",
       "      <td>0.006810</td>\n",
       "    </tr>\n",
       "    <tr>\n",
       "      <th>gvh</th>\n",
       "      <td>0.013115</td>\n",
       "      <td>0.021950</td>\n",
       "      <td>0.000574</td>\n",
       "      <td>0.000075</td>\n",
       "      <td>0.001266</td>\n",
       "      <td>0.005546</td>\n",
       "      <td>-0.003729</td>\n",
       "    </tr>\n",
       "    <tr>\n",
       "      <th>lip</th>\n",
       "      <td>0.002529</td>\n",
       "      <td>0.000574</td>\n",
       "      <td>0.007831</td>\n",
       "      <td>0.000753</td>\n",
       "      <td>0.000760</td>\n",
       "      <td>0.001829</td>\n",
       "      <td>-0.001067</td>\n",
       "    </tr>\n",
       "    <tr>\n",
       "      <th>chg</th>\n",
       "      <td>0.000373</td>\n",
       "      <td>0.000075</td>\n",
       "      <td>0.000753</td>\n",
       "      <td>0.000744</td>\n",
       "      <td>-0.000149</td>\n",
       "      <td>-0.000045</td>\n",
       "      <td>-0.000298</td>\n",
       "    </tr>\n",
       "    <tr>\n",
       "      <th>aac</th>\n",
       "      <td>0.005257</td>\n",
       "      <td>0.001266</td>\n",
       "      <td>0.000760</td>\n",
       "      <td>-0.000149</td>\n",
       "      <td>0.014976</td>\n",
       "      <td>0.007379</td>\n",
       "      <td>0.006475</td>\n",
       "    </tr>\n",
       "    <tr>\n",
       "      <th>alm1</th>\n",
       "      <td>0.016670</td>\n",
       "      <td>0.005546</td>\n",
       "      <td>0.001829</td>\n",
       "      <td>-0.000045</td>\n",
       "      <td>0.007379</td>\n",
       "      <td>0.046549</td>\n",
       "      <td>0.036566</td>\n",
       "    </tr>\n",
       "    <tr>\n",
       "      <th>alm2</th>\n",
       "      <td>0.006810</td>\n",
       "      <td>-0.003729</td>\n",
       "      <td>-0.001067</td>\n",
       "      <td>-0.000298</td>\n",
       "      <td>0.006475</td>\n",
       "      <td>0.036566</td>\n",
       "      <td>0.043853</td>\n",
       "    </tr>\n",
       "  </tbody>\n",
       "</table>\n",
       "</div>"
      ],
      "text/plain": [
       "           mcg       gvh       lip       chg       aac      alm1      alm2\n",
       "mcg   0.037882  0.013115  0.002529  0.000373  0.005257  0.016670  0.006810\n",
       "gvh   0.013115  0.021950  0.000574  0.000075  0.001266  0.005546 -0.003729\n",
       "lip   0.002529  0.000574  0.007831  0.000753  0.000760  0.001829 -0.001067\n",
       "chg   0.000373  0.000075  0.000753  0.000744 -0.000149 -0.000045 -0.000298\n",
       "aac   0.005257  0.001266  0.000760 -0.000149  0.014976  0.007379  0.006475\n",
       "alm1  0.016670  0.005546  0.001829 -0.000045  0.007379  0.046549  0.036566\n",
       "alm2  0.006810 -0.003729 -0.001067 -0.000298  0.006475  0.036566  0.043853"
      ]
     },
     "execution_count": 151,
     "metadata": {},
     "output_type": "execute_result"
    }
   ],
   "source": [
    "# make sure above is correct\n",
    "pd.DataFrame(np.cov(df[cols].T), columns=cols, index=cols)"
   ]
  },
  {
   "cell_type": "code",
   "execution_count": 155,
   "metadata": {},
   "outputs": [
    {
     "data": {
      "text/plain": [
       "True"
      ]
     },
     "execution_count": 155,
     "metadata": {},
     "output_type": "execute_result"
    }
   ],
   "source": [
    "# make sure above is correct\n",
    "np.allclose(cov_matrix(df, cols), df[cols].cov())"
   ]
  },
  {
   "cell_type": "markdown",
   "metadata": {},
   "source": [
    "### Problem 2c  (10 points)\n",
    "\n",
    "Compute the decomposition of the covariance matrix using singular value decomposition.  Using a python function is definitely the way to go here."
   ]
  },
  {
   "cell_type": "code",
   "execution_count": null,
   "metadata": {},
   "outputs": [],
   "source": []
  },
  {
   "cell_type": "markdown",
   "metadata": {},
   "source": [
    "### Problem 2d  (10 points)\n",
    "\n",
    "Compute the projection of the raw data onto the appropriate two eigenvectors.  Consider which columns should be projected and the normalizations."
   ]
  },
  {
   "cell_type": "code",
   "execution_count": null,
   "metadata": {},
   "outputs": [],
   "source": []
  },
  {
   "cell_type": "markdown",
   "metadata": {},
   "source": [
    "### Problem 2e  (10 points)\n",
    "\n",
    "Plot the projected points such that the 8 different classes can be visually identified.  Be sure to label the classes and axes.  Commont on the quality of the separation of the different classes using PCA."
   ]
  },
  {
   "cell_type": "code",
   "execution_count": null,
   "metadata": {},
   "outputs": [],
   "source": []
  },
  {
   "cell_type": "markdown",
   "metadata": {},
   "source": [
    "### Problem 2f (10 points)\n",
    "\n",
    "The PCA that you have just completed takes each data point and projects it using a weighted sum of features.  One could also do the opposite to map the features as a weighted sum of the data entries.  How could this be done?  What is a potential issue? Describe these in a few sentences (do not code it)."
   ]
  },
  {
   "cell_type": "code",
   "execution_count": null,
   "metadata": {},
   "outputs": [],
   "source": []
  },
  {
   "cell_type": "markdown",
   "metadata": {},
   "source": [
    "### Problem 3  MDS  (10 points)\n",
    "\n",
    "For the same data set, repeat 2e using sklearn's Multidimensional scaling algorithm.  "
   ]
  },
  {
   "cell_type": "code",
   "execution_count": null,
   "metadata": {},
   "outputs": [],
   "source": []
  },
  {
   "cell_type": "markdown",
   "metadata": {},
   "source": [
    "### Problem 4a  t-SNE  (5 points)\n",
    "\n",
    "Repeat 2e using a t-SNE plot with the default settings."
   ]
  },
  {
   "cell_type": "code",
   "execution_count": null,
   "metadata": {},
   "outputs": [],
   "source": []
  },
  {
   "cell_type": "markdown",
   "metadata": {},
   "source": [
    "### Problem 4b t-SNE perplexity  (5 points)\n",
    "\n",
    "Try out a few t-SNE plots by varying the perplexity.  State the best perplexity for separating the 8 different classes and describe your rationale in a sentence or two.  Report the average calculation time for the t-SNE projection over a number of iterations."
   ]
  },
  {
   "cell_type": "code",
   "execution_count": null,
   "metadata": {},
   "outputs": [],
   "source": []
  },
  {
   "cell_type": "markdown",
   "metadata": {},
   "source": [
    "### Problem 4c  t-SNE randomization (10 points)\n",
    "\n",
    "The S of t-SNE means stochastic or random, usually as a function of time.  Explore whether you can reproduce the result in 4b through a second projection and plot."
   ]
  },
  {
   "cell_type": "code",
   "execution_count": null,
   "metadata": {},
   "outputs": [],
   "source": []
  },
  {
   "cell_type": "markdown",
   "metadata": {},
   "source": [
    "### Problem 4d t-SNE Barnes-Hut  (5 points)\n",
    "\n",
    "The default t-SNE method of 4b uses the Barnes-Hut approximation.  Keeping the other parameters the same as 4b, plot the t-SNE result using the exact method.  Which method do you prefer?  Compare the average calculation time for the exact method over a number of iterations."
   ]
  },
  {
   "cell_type": "code",
   "execution_count": null,
   "metadata": {},
   "outputs": [],
   "source": []
  },
  {
   "cell_type": "markdown",
   "metadata": {},
   "source": [
    "### How many hours did this homework take?  \n",
    "\n",
    "This will not affect your grade.  We will be monitoring time spent on homework to be sure that we are not over-burdening students."
   ]
  },
  {
   "cell_type": "code",
   "execution_count": null,
   "metadata": {},
   "outputs": [],
   "source": []
  },
  {
   "cell_type": "markdown",
   "metadata": {},
   "source": [
    "### Last step (5 points)\n",
    "\n",
    "Save this notebook as LastnameFirstnameHW1.ipynb such as MuskElonHW1.ipynb.   Create a pdf of this notebook named similarly.  Submit both the python notebook and the pdf version to the Canvas dropbox.  We require both versions."
   ]
  },
  {
   "cell_type": "code",
   "execution_count": null,
   "metadata": {},
   "outputs": [],
   "source": []
  }
 ],
 "metadata": {
  "kernelspec": {
   "display_name": "Python 3",
   "language": "python",
   "name": "python3"
  },
  "language_info": {
   "codemirror_mode": {
    "name": "ipython",
    "version": 3
   },
   "file_extension": ".py",
   "mimetype": "text/x-python",
   "name": "python",
   "nbconvert_exporter": "python",
   "pygments_lexer": "ipython3",
   "version": "3.6.5"
  }
 },
 "nbformat": 4,
 "nbformat_minor": 2
}
