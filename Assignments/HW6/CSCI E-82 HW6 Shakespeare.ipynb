{
 "cells": [
  {
   "cell_type": "markdown",
   "metadata": {},
   "source": [
    "CSCI E-82 2018 \n",
    "Homework 6 \n",
    "Due: December 5, 2018\n",
    "\n",
    "Team members:\n",
    "Michelle Amaral\n",
    "Esthove Varghese Anish Raj Stephen Jeyaraj\n",
    "Paul Washburn\n",
    "\n",
    "The goal of this assignment is to determine whether the 36 plays attributed to William Shakespeare were indeed authored by one person, and if so, are we able to classify Shakespeare’s lines from those of his contemporaries. Authorship questions have arisen due to the inconceivability that only one person could write 36 of the greatest works of all time within a 24 year span. Alternative possibilities to consider, then, include: one or more ghost writers who wrote for Shakespeare; a collaborative group that included Shakespeare; a collaborative group that did not include Shakespeare. In addition, it is possible that Shakespeare solely authored some of the 36 plays but other people wrote the remainder, either by themselves or in collaboration with others.\n",
    "\n",
    "Although we don’t have a “gold” ground truth sample of Shakespeare’s writing, we can perform experiments to determine whether one person authored the 36 plays. Our null hypothesis is that one person wrote all 36 plays that are in question. The following experiments we conducted are an attempt to disprove this hypothesis.\n",
    "\n",
    "We began with an exploratory analysis of the data. When considering the number of lines in each play, “Hamlet” was the longest with 4,244 lines and “A Comedy of Errors” was the shortest with 2,055 lines. “Richard III” had the most characters with 71 while “Two Gentlemen of Verona” had the fewest with 18.\n",
    "\n",
    "Classification techniques were used to test if Shakespeare’s lines were sufficiently different from his contemporaries’ writings such that a model could be built that accepts any given line, then correctly classifies it as Shakespeare or not.  The plays of 6 of his contemporaries were gathered, processed and labeled as “not shakespeare”, then combined with Shakespeare’s.  Several classification algorithms were tested in combination with a TF-IDF and CountVectorizer pre-processing techniques.  Grid searches were performed to find best models.  While Shakespeare wrote about 33% of the lines in the dataset, the best model was able to classify 92% of that 33% correctly (recall).  Overall, the best model was very simple (using a CountVectorizer and MultinomialNB) and had an accuracy score of 85.98%.  It is likely that different techniques, such as word embeddings, could yield improvements.  "
   ]
  },
  {
   "cell_type": "code",
   "execution_count": 1,
   "metadata": {},
   "outputs": [],
   "source": [
    "import pandas as pd\n",
    "import numpy as np\n",
    "import matplotlib.pyplot as plt\n",
    "import re\n",
    "import string\n",
    "from time import time\n",
    "import spacy\n",
    "import nltk\n",
    "from nltk.corpus import stopwords\n",
    "from nltk.stem import WordNetLemmatizer\n",
    "from gensim import corpora, models, matutils, similarities\n",
    "from gensim.models.ldamulticore import LdaMulticore\n",
    "from tld import get_tld\n",
    "from sklearn.base import TransformerMixin\n",
    "from sklearn.feature_extraction.text import TfidfVectorizer\n",
    "from sklearn.feature_extraction.text import CountVectorizer\n",
    "import requests\n",
    "from bs4 import BeautifulSoup\n",
    "import gensim\n",
    "import seaborn as sns\n",
    "from sklearn.pipeline import Pipeline\n",
    "from sklearn.ensemble import RandomForestClassifier\n",
    "from sklearn.model_selection import train_test_split\n",
    "from sklearn.svm import LinearSVC\n",
    "import os\n",
    "import warnings\n",
    "from sklearn.model_selection import GridSearchCV\n",
    "from sklearn.metrics import accuracy_score\n",
    "from sklearn.naive_bayes import GaussianNB\n",
    "from xgboost import XGBClassifier\n",
    "from joblib import load, dump\n",
    "from sklearn.cluster import DBSCAN\n",
    "from sklearn import metrics\n",
    "from sklearn.metrics import confusion_matrix\n",
    "from sklearn.base import BaseEstimator\n",
    "from sklearn.naive_bayes import MultinomialNB\n",
    "\n",
    "warnings.filterwarnings('ignore')\n",
    "pd.options.display.max_rows = 999\n",
    "pd.options.display.max_columns = 999\n",
    "sns.set_style('whitegrid')\n",
    "%matplotlib inline\n",
    "\n",
    "def binary_confusion_matrix(y, y_hat, as_pct=False, verbose=True):\n",
    "    cm = pd.DataFrame(confusion_matrix(y, y_hat), \n",
    "                      columns=['(+) actual', '(-) actual'],\n",
    "                      index=['(+) predicted', '(-) predicted'])\n",
    "    if as_pct:\n",
    "        cm = cm / cm.sum().sum()\n",
    "        \n",
    "    P = cm['(+) actual'].sum()\n",
    "    N = cm['(-) actual'].sum()\n",
    "    total = P + N\n",
    "    TP = cm.loc['(+) predicted', '(+) actual']\n",
    "    FP = cm.loc['(+) predicted', '(-) actual']\n",
    "    TN = cm.loc['(-) predicted', '(-) actual']\n",
    "    FN = cm.loc['(-) predicted', '(+) actual']\n",
    "    TPR = TP / (TP + FN)          # recall/sensitivity\n",
    "    TNR = TN / (TN + FP)   # specificity\n",
    "    FPR = FP / (FP + TN)   # fall-out\n",
    "    FNR = FN / (FN + TP)   # miss rate\n",
    "    PPV = TP / (TP + FP)   # precision\n",
    "    NPV = TN / (TN + FN)   # neg predictive value\n",
    "    \n",
    "    if verbose:\n",
    "        print('''\n",
    "        Condition Positive:                        %i\n",
    "        Condition Negative:                        %i\n",
    "        Total Observations:                        %i\n",
    "        \n",
    "        True Positive:                             %i\n",
    "        True Negative:                             %i\n",
    "        False Positive:                            %i\n",
    "        False Negative                             %i\n",
    "        \n",
    "        True Positive Rate (recall):               %.2f%%\n",
    "        True Negative Rate (specificity):          %.2f%%\n",
    "        False Positive Rate (fall-out):            %.2f%%\n",
    "        False Negative Rate (miss rate):           %.2f%%\n",
    "        \n",
    "        Positive Predictive Value (precision):     %.2f%%\n",
    "        Negative Predictive Value:                 %.2f%%\n",
    "        ''' %(P, N, total,\n",
    "             TP, TN, FP, FN,\n",
    "             TPR*100, TNR*100, FPR*100, FNR*100, \n",
    "             PPV*100, NPV*100))\n",
    "        \n",
    "    metrics = {'P': P, 'N': N, 'total': total, \n",
    "              'TP': TP, 'FP': FP, 'TN': TN, 'FN': FN,\n",
    "              'TPR': TPR, 'TNR': TNR, 'FPR': FPR, 'FNR': FNR, 'PPV': PPV, 'NPV': NPV}\n",
    "    \n",
    "    return cm, metrics\n",
    "\n",
    "class TextCleaner(TransformerMixin):\n",
    "    \"\"\"Text cleaning to slot into sklearn interface\"\"\"\n",
    "\n",
    "    def __init__(self, remove_stopwords=True, remove_urls=True,\n",
    "                 remove_puncts=True, lemmatize=True, extra_punct='',\n",
    "                 custom_stopwords=[], custom_non_stopwords=[],\n",
    "                 verbose=True, parser='big'):\n",
    "        \"\"\"\n",
    "        INPUT: remove_stopwords - bool - remove is, there, he etc...\n",
    "               remove_urls - bool - 't www.monkey.com t' --> 't com t'\n",
    "               remove_punct - bool - all punct and digits gone\n",
    "               lemmatize - bool - whether to apply lemmtization\n",
    "               extra_punct - str - other characters to remove\n",
    "               custom_stopwords - list - add to standard stops\n",
    "               custom_non_stopwords - list - make sure are kept\n",
    "               verbose - bool - whether to print progress statements\n",
    "               parser - str - 'big' or small, one keeps more, and is slower\n",
    "        OUTPUT: self - **due to other method, not this one\n",
    "        \"\"\"\n",
    "        # Initialize passed Attributes to specify operations\n",
    "        self.remove_stopwords = remove_stopwords\n",
    "        self.remove_urls = remove_urls\n",
    "        self.remove_puncts = remove_puncts\n",
    "        self.lemmatize = lemmatize\n",
    "\n",
    "        # Change how operations work\n",
    "        self.custom_stopwords = custom_stopwords\n",
    "        self.custom_non_stopwords = custom_non_stopwords\n",
    "        self.verbose = verbose\n",
    "\n",
    "        # Set up punctation tranlation table\n",
    "        self.removals = string.punctuation + string.digits + extra_punct\n",
    "        self.trans_table = str.maketrans({key: None for key in self.removals})\n",
    "\n",
    "        #Load nlp model for parsing usage later\n",
    "        self.parser = spacy.load('en_core_web_sm', \n",
    "                                 disable=['parser','ner','textcat'])\n",
    "        #from spacy.lang.en import English\n",
    "        if parser == 'small':\n",
    "            self.parser = spacy.load('en')#English()\n",
    "\n",
    "        #Add custom stop words to nlp\n",
    "        for word in self.custom_stopwords:\n",
    "            self.parser.vocab[word].is_stop = True\n",
    "\n",
    "        #Set custom nlp words to be kept\n",
    "        for word in self.custom_non_stopwords:\n",
    "            self.parser.vocab[word].is_stop = False\n",
    "\n",
    "\n",
    "    def transform(self, X, y=None):\n",
    "        \"\"\"take array of docs to clean array of docs\"\"\"\n",
    "        # Potential replace urls with tld ie www.monkey.com to com\n",
    "        if self.remove_urls:\n",
    "            start_time = time()\n",
    "            if self.verbose:\n",
    "                print(\"CHANGING URLS to TLDS...  \", end='')\n",
    "            X = [self.remove_url(doc) for doc in X]\n",
    "            if self.verbose:\n",
    "                print(f\"{time() - start_time:.0f} seconds\")\n",
    "\n",
    "        # Potentially remove punctuation\n",
    "        if self.remove_puncts:\n",
    "            start_time = time()\n",
    "            if self.verbose:\n",
    "                print(\"REMOVING PUNCTUATION AND DIGITS... \", end='')\n",
    "            X = [str(doc).lower().translate(self.trans_table) for doc in X]\n",
    "            if self.verbose:\n",
    "                print(f\"{time() - start_time:.0f} seconds\")\n",
    "\n",
    "        # Using Spacy to parse text\n",
    "        start_time = time()\n",
    "        if self.verbose:\n",
    "            print(\"PARSING TEXT WITH SPACY... \", end='')\n",
    "            \n",
    "        X = list(self.parser.pipe(X))\n",
    "        if self.verbose:\n",
    "            print(f\"{time() - start_time:.0f} seconds\")\n",
    "\n",
    "        # Potential stopword removal\n",
    "        if self.remove_stopwords:\n",
    "            start_time = time()\n",
    "            if self.verbose:\n",
    "                print(\"REMOVING STOP WORDS FROM DOCUMENTS... \", end='')\n",
    "            X = [[word for word in doc if not word.is_stop] for doc in X]\n",
    "            if self.verbose:\n",
    "                print(f\"{time() - start_time:.0f} seconds\")\n",
    "\n",
    "\n",
    "        # Potential Lemmatization\n",
    "        if self.lemmatize:\n",
    "            start_time = time()\n",
    "            if self.verbose:\n",
    "                print(\"LEMMATIZING WORDS... \", end='')\n",
    "            X = [[word.lemma_ for word in doc] for doc in X]\n",
    "            if self.verbose:\n",
    "                print(f\"{time() - start_time:.0f} seconds\")\n",
    "\n",
    "        # Put back to normal if no lemmatizing happened\n",
    "        if not self.lemmatize:\n",
    "            X = [[str(word).lower() for word in doc] for doc in X]\n",
    "\n",
    "        # Join Back up\n",
    "        return [' '.join(lst) for lst in X]\n",
    "\n",
    "\n",
    "    def fit(self, X, y=None):\n",
    "        \"\"\"interface conforming, and allows use of fit_transform\"\"\"\n",
    "        return self\n",
    "\n",
    "\n",
    "    @staticmethod\n",
    "    def remove_url(text):\n",
    "        \"\"\"\n",
    "        DESCR: given a url string find urls and replace with top level domain\n",
    "               a bit lazy in that if there are multiple all are replaced by first\n",
    "        INPUT: text - str - 'this is www.monky.com in text'\n",
    "        OUTPIT: str - 'this is <com> in text'\n",
    "        \"\"\"\n",
    "        # Define string to match urls\n",
    "        url_re = '((?:www|https?)(://)?[^\\s]+)'\n",
    "\n",
    "        # Find potential things to replace\n",
    "        matches = re.findall(url_re, text)\n",
    "        if matches == []:\n",
    "            return text\n",
    "\n",
    "        # Get tld of first match\n",
    "        match = matches[0][0]\n",
    "        try:\n",
    "            tld = get_tld(match, fail_silently=True, fix_protocol=True)\n",
    "        except ValueError:\n",
    "            tld = None\n",
    "\n",
    "        # failures return none so change to empty\n",
    "        if tld is None:\n",
    "            tld = \"\"\n",
    "\n",
    "        # make this obvsiouyly an odd tag\n",
    "        tld = f\"<{tld}>\"\n",
    "\n",
    "        # Make replacements and return\n",
    "        return re.sub(url_re, tld, text)\n",
    "    \n",
    "class DenseTransformer(TransformerMixin, BaseEstimator):\n",
    "\n",
    "    def transform(self, X, y=None, **fit_params):\n",
    "        return X.todense()\n",
    "\n",
    "    def fit_transform(self, X, y=None, **fit_params):\n",
    "        self.fit(X, y, **fit_params)\n",
    "        return self.transform(X)\n",
    "\n",
    "    def fit(self, X, y=None, **fit_params):\n",
    "        return self"
   ]
  },
  {
   "cell_type": "code",
   "execution_count": 2,
   "metadata": {},
   "outputs": [
    {
     "data": {
      "text/plain": [
       "['christopher_marlowe.txt',\n",
       " 'alllines.txt',\n",
       " 'thomas_dekker.txt',\n",
       " 'ben_johnson.txt',\n",
       " 'Shakespeare_data.csv',\n",
       " 'philip_massinger.txt',\n",
       " 'keepempty.md',\n",
       " 'beaumont_fletcher.txt',\n",
       " 'thomas_kyd.txt']"
      ]
     },
     "execution_count": 2,
     "metadata": {},
     "output_type": "execute_result"
    }
   ],
   "source": [
    "os.listdir('data')"
   ]
  },
  {
   "cell_type": "markdown",
   "metadata": {},
   "source": [
    "Read in `shakespeare` data."
   ]
  },
  {
   "cell_type": "code",
   "execution_count": 3,
   "metadata": {},
   "outputs": [
    {
     "data": {
      "text/html": [
       "<div>\n",
       "<style scoped>\n",
       "    .dataframe tbody tr th:only-of-type {\n",
       "        vertical-align: middle;\n",
       "    }\n",
       "\n",
       "    .dataframe tbody tr th {\n",
       "        vertical-align: top;\n",
       "    }\n",
       "\n",
       "    .dataframe thead th {\n",
       "        text-align: right;\n",
       "    }\n",
       "</style>\n",
       "<table border=\"1\" class=\"dataframe\">\n",
       "  <thead>\n",
       "    <tr style=\"text-align: right;\">\n",
       "      <th></th>\n",
       "      <th>Dataline</th>\n",
       "      <th>Play</th>\n",
       "      <th>PlayerLinenumber</th>\n",
       "      <th>ActSceneLine</th>\n",
       "      <th>Player</th>\n",
       "      <th>PlayerLine</th>\n",
       "    </tr>\n",
       "  </thead>\n",
       "  <tbody>\n",
       "    <tr>\n",
       "      <th>0</th>\n",
       "      <td>1</td>\n",
       "      <td>Henry IV</td>\n",
       "      <td>NaN</td>\n",
       "      <td>NaN</td>\n",
       "      <td>NaN</td>\n",
       "      <td>ACT I</td>\n",
       "    </tr>\n",
       "    <tr>\n",
       "      <th>1</th>\n",
       "      <td>2</td>\n",
       "      <td>Henry IV</td>\n",
       "      <td>NaN</td>\n",
       "      <td>NaN</td>\n",
       "      <td>NaN</td>\n",
       "      <td>SCENE I. London. The palace.</td>\n",
       "    </tr>\n",
       "    <tr>\n",
       "      <th>2</th>\n",
       "      <td>3</td>\n",
       "      <td>Henry IV</td>\n",
       "      <td>NaN</td>\n",
       "      <td>NaN</td>\n",
       "      <td>NaN</td>\n",
       "      <td>Enter KING HENRY, LORD JOHN OF LANCASTER, the ...</td>\n",
       "    </tr>\n",
       "    <tr>\n",
       "      <th>3</th>\n",
       "      <td>4</td>\n",
       "      <td>Henry IV</td>\n",
       "      <td>1.0</td>\n",
       "      <td>1.1.1</td>\n",
       "      <td>KING HENRY IV</td>\n",
       "      <td>So shaken as we are, so wan with care,</td>\n",
       "    </tr>\n",
       "    <tr>\n",
       "      <th>4</th>\n",
       "      <td>5</td>\n",
       "      <td>Henry IV</td>\n",
       "      <td>1.0</td>\n",
       "      <td>1.1.2</td>\n",
       "      <td>KING HENRY IV</td>\n",
       "      <td>Find we a time for frighted peace to pant,</td>\n",
       "    </tr>\n",
       "  </tbody>\n",
       "</table>\n",
       "</div>"
      ],
      "text/plain": [
       "   Dataline      Play  PlayerLinenumber ActSceneLine         Player  \\\n",
       "0         1  Henry IV               NaN          NaN            NaN   \n",
       "1         2  Henry IV               NaN          NaN            NaN   \n",
       "2         3  Henry IV               NaN          NaN            NaN   \n",
       "3         4  Henry IV               1.0        1.1.1  KING HENRY IV   \n",
       "4         5  Henry IV               1.0        1.1.2  KING HENRY IV   \n",
       "\n",
       "                                          PlayerLine  \n",
       "0                                              ACT I  \n",
       "1                       SCENE I. London. The palace.  \n",
       "2  Enter KING HENRY, LORD JOHN OF LANCASTER, the ...  \n",
       "3             So shaken as we are, so wan with care,  \n",
       "4         Find we a time for frighted peace to pant,  "
      ]
     },
     "execution_count": 3,
     "metadata": {},
     "output_type": "execute_result"
    }
   ],
   "source": [
    "shakespeare = pd.read_csv('data/Shakespeare_data.csv')\n",
    "shakespeare.head()"
   ]
  },
  {
   "cell_type": "markdown",
   "metadata": {},
   "source": [
    "Merge in each play's year of publication."
   ]
  },
  {
   "cell_type": "code",
   "execution_count": 4,
   "metadata": {},
   "outputs": [
    {
     "data": {
      "text/plain": [
       "1594    8656\n",
       "1599    8241\n",
       "1600    7075\n",
       "1604    6760\n",
       "1607    6654\n",
       "1590    6472\n",
       "1605    6352\n",
       "1598    6099\n",
       "1596    5568\n",
       "1593    5532\n",
       "1595    5237\n",
       "1609    3958\n",
       "1592    3941\n",
       "1606    3862\n",
       "1601    3711\n",
       "1610    3489\n",
       "1612    3419\n",
       "1597    3205\n",
       "1602    3083\n",
       "1591    2983\n",
       "1608    2641\n",
       "1611    2403\n",
       "1589    2055\n",
       "Name: Year, dtype: int64"
      ]
     },
     "execution_count": 4,
     "metadata": {},
     "output_type": "execute_result"
    }
   ],
   "source": [
    "# Source: https://www.opensourceshakespeare.org/views/plays/plays_date.php\n",
    "# 36 plays (1589 - 1612)\n",
    "play_timeline = {\n",
    "    'A Comedy of Errors':'1589',\n",
    "    'Henry VI Part 2':'1590', \n",
    "    'Henry VI Part 3':'1590',\n",
    "    'Henry VI Part 1':'1591',\n",
    "    'Richard III':'1592',\n",
    "    'Taming of the Shrew':'1593',\n",
    "    'Titus Andronicus':'1593',\n",
    "    'Romeo and Juliet':'1594',\n",
    "    'Two Gentlemen of Verona':'1594',\n",
    "    'Loves Labours Lost':'1594',\n",
    "    'Richard II':'1595',\n",
    "    'A Midsummer nights dream':'1595',\n",
    "    'King John':'1596',\n",
    "    'Merchant of Venice':'1596',\n",
    "    'Henry IV':'1597',\n",
    "    'Henry V':'1598',\n",
    "    'Much Ado about nothing':'1598',\n",
    "    'Twelfth Night':'1599',\n",
    "    'As you like it':'1599',\n",
    "    'Julius Caesar':'1599',\n",
    "    'Hamlet':'1600',\n",
    "    'Merry Wives of Windsor':'1600',\n",
    "    'Troilus and Cressida':'1601',\n",
    "    'Alls well that ends well':'1602',\n",
    "    'Othello':'1604',\n",
    "    'Measure for measure':'1604',\n",
    "    'King Lear':'1605',\n",
    "    'macbeth':'1605',\n",
    "    'Antony and Cleopatra':'1606',\n",
    "    'Coriolanus':'1607',\n",
    "    'Timon of Athens':'1607',\n",
    "    'Pericles':'1608',\n",
    "    'Cymbeline':'1609',\n",
    "    'A Winters Tale':'1610',\n",
    "    'The Tempest':'1611',\n",
    "    'Henry VIII':'1612'\n",
    "}\n",
    "\n",
    "# Adding year\n",
    "shakespeare['Year'] = shakespeare['Play'].map(play_timeline).astype(int)\n",
    "shakespeare['Year'].value_counts()"
   ]
  },
  {
   "cell_type": "markdown",
   "metadata": {},
   "source": [
    "Merge in genre of each play.  "
   ]
  },
  {
   "cell_type": "code",
   "execution_count": 5,
   "metadata": {},
   "outputs": [
    {
     "data": {
      "text/plain": [
       "Tragedy    41353\n",
       "Comedy     38284\n",
       "History    31759\n",
       "Name: Genre, dtype: int64"
      ]
     },
     "execution_count": 5,
     "metadata": {},
     "output_type": "execute_result"
    }
   ],
   "source": [
    "play_genre = {\n",
    "    'A Comedy of Errors':'Comedy',\n",
    "    'Henry VI Part 2':'History', \n",
    "    'Henry VI Part 3':'History',\n",
    "    'Henry VI Part 1':'History',\n",
    "    'Richard III':'History',\n",
    "    'Taming of the Shrew':'Comedy',\n",
    "    'Titus Andronicus':'Tragedy',\n",
    "    'Romeo and Juliet':'Tragedy',\n",
    "    'Two Gentlemen of Verona':'Comedy',\n",
    "    'Loves Labours Lost':'Comedy',\n",
    "    'Richard II':'History',\n",
    "    'A Midsummer nights dream':'Comedy',\n",
    "    'King John':'History',\n",
    "    'Merchant of Venice':'Comedy',\n",
    "    'Henry IV':'History',\n",
    "    'Henry V':'History',\n",
    "    'Much Ado about nothing':'Comedy',\n",
    "    'Twelfth Night':'Comedy',\n",
    "    'As you like it':'Comedy',\n",
    "    'Julius Caesar':'Tragedy',\n",
    "    'Hamlet':'Tragedy',\n",
    "    'Merry Wives of Windsor':'Comedy',\n",
    "    'Troilus and Cressida':'Tragedy',\n",
    "    'Alls well that ends well':'Comedy',\n",
    "    'Othello':'Tragedy',\n",
    "    'Measure for measure':'Comedy',\n",
    "    'King Lear':'Tragedy',\n",
    "    'macbeth':'Tragedy',\n",
    "    'Antony and Cleopatra':'Tragedy',\n",
    "    'Coriolanus':'Tragedy',\n",
    "    'Timon of Athens':'Tragedy',\n",
    "    'Pericles':'History',\n",
    "    'Cymbeline':'Tragedy',\n",
    "    'A Winters Tale':'Comedy',\n",
    "    'The Tempest':'Comedy',\n",
    "    'Henry VIII':'History'\n",
    "}\n",
    "\n",
    "# Adding genre\n",
    "shakespeare['Genre'] = shakespeare['Play'].map(play_genre).fillna('Other')\n",
    "shakespeare['Genre'].value_counts()"
   ]
  },
  {
   "cell_type": "markdown",
   "metadata": {},
   "source": [
    "# Exploratory Analysis"
   ]
  },
  {
   "cell_type": "code",
   "execution_count": 9,
   "metadata": {},
   "outputs": [
    {
     "data": {
      "text/plain": [
       "(111396, 8)"
      ]
     },
     "execution_count": 9,
     "metadata": {},
     "output_type": "execute_result"
    }
   ],
   "source": [
    "shakespeare.shape"
   ]
  },
  {
   "cell_type": "code",
   "execution_count": 10,
   "metadata": {},
   "outputs": [
    {
     "data": {
      "image/png": "[encoded data removed]",
      "text/plain": [
       "<Figure size 1080x576 with 1 Axes>"
      ]
     },
     "metadata": {},
     "output_type": "display_data"
    }
   ],
   "source": [
    "f, ax = plt.subplots(figsize=(15, 8))\n",
    "ax = sns.countplot(x='Play', data=shakespeare)\n",
    "ax.set_xticklabels(ax.get_xticklabels(), rotation=40, ha=\"right\")\n",
    "plt.tight_layout()\n",
    "plt.show()"
   ]
  },
  {
   "cell_type": "code",
   "execution_count": 12,
   "metadata": {},
   "outputs": [
    {
     "data": {
      "text/html": [
       "<div>\n",
       "<style scoped>\n",
       "    .dataframe tbody tr th:only-of-type {\n",
       "        vertical-align: middle;\n",
       "    }\n",
       "\n",
       "    .dataframe tbody tr th {\n",
       "        vertical-align: top;\n",
       "    }\n",
       "\n",
       "    .dataframe thead th {\n",
       "        text-align: right;\n",
       "    }\n",
       "</style>\n",
       "<table border=\"1\" class=\"dataframe\">\n",
       "  <thead>\n",
       "    <tr style=\"text-align: right;\">\n",
       "      <th></th>\n",
       "      <th>Play</th>\n",
       "      <th>PlayerLinenumber</th>\n",
       "      <th>ActSceneLine</th>\n",
       "      <th>Player</th>\n",
       "      <th>PlayerLine</th>\n",
       "      <th>Year</th>\n",
       "      <th>Genre</th>\n",
       "    </tr>\n",
       "  </thead>\n",
       "  <tbody>\n",
       "    <tr>\n",
       "      <th>0</th>\n",
       "      <td>Henry IV</td>\n",
       "      <td>1.0</td>\n",
       "      <td>1.1.1</td>\n",
       "      <td>KING HENRY IV</td>\n",
       "      <td>So shaken as we are, so wan with care,</td>\n",
       "      <td>1597</td>\n",
       "      <td>History</td>\n",
       "    </tr>\n",
       "    <tr>\n",
       "      <th>1</th>\n",
       "      <td>Henry IV</td>\n",
       "      <td>1.0</td>\n",
       "      <td>1.1.2</td>\n",
       "      <td>KING HENRY IV</td>\n",
       "      <td>Find we a time for frighted peace to pant,</td>\n",
       "      <td>1597</td>\n",
       "      <td>History</td>\n",
       "    </tr>\n",
       "    <tr>\n",
       "      <th>2</th>\n",
       "      <td>Henry IV</td>\n",
       "      <td>1.0</td>\n",
       "      <td>1.1.3</td>\n",
       "      <td>KING HENRY IV</td>\n",
       "      <td>And breathe short-winded accents of new broils</td>\n",
       "      <td>1597</td>\n",
       "      <td>History</td>\n",
       "    </tr>\n",
       "    <tr>\n",
       "      <th>3</th>\n",
       "      <td>Henry IV</td>\n",
       "      <td>1.0</td>\n",
       "      <td>1.1.4</td>\n",
       "      <td>KING HENRY IV</td>\n",
       "      <td>To be commenced in strands afar remote.</td>\n",
       "      <td>1597</td>\n",
       "      <td>History</td>\n",
       "    </tr>\n",
       "    <tr>\n",
       "      <th>4</th>\n",
       "      <td>Henry IV</td>\n",
       "      <td>1.0</td>\n",
       "      <td>1.1.5</td>\n",
       "      <td>KING HENRY IV</td>\n",
       "      <td>No more the thirsty entrance of this soil</td>\n",
       "      <td>1597</td>\n",
       "      <td>History</td>\n",
       "    </tr>\n",
       "  </tbody>\n",
       "</table>\n",
       "</div>"
      ],
      "text/plain": [
       "       Play  PlayerLinenumber ActSceneLine         Player  \\\n",
       "0  Henry IV               1.0        1.1.1  KING HENRY IV   \n",
       "1  Henry IV               1.0        1.1.2  KING HENRY IV   \n",
       "2  Henry IV               1.0        1.1.3  KING HENRY IV   \n",
       "3  Henry IV               1.0        1.1.4  KING HENRY IV   \n",
       "4  Henry IV               1.0        1.1.5  KING HENRY IV   \n",
       "\n",
       "                                       PlayerLine  Year    Genre  \n",
       "0          So shaken as we are, so wan with care,  1597  History  \n",
       "1      Find we a time for frighted peace to pant,  1597  History  \n",
       "2  And breathe short-winded accents of new broils  1597  History  \n",
       "3         To be commenced in strands afar remote.  1597  History  \n",
       "4       No more the thirsty entrance of this soil  1597  History  "
      ]
     },
     "execution_count": 12,
     "metadata": {},
     "output_type": "execute_result"
    }
   ],
   "source": [
    "# Data pre-processing\n",
    "df = shakespeare\n",
    "df['Player'] = df['Player'].fillna('Other')\n",
    "df_clean = df[['Play', 'PlayerLinenumber', 'ActSceneLine', 'Player', 'PlayerLine', 'Year', \"Genre\"]].copy()\n",
    "df_clean = df_clean[df_clean['Player'] != 'Other']\n",
    "df_clean.reset_index(drop=True, inplace=True)\n",
    "df_clean.head()"
   ]
  },
  {
   "cell_type": "markdown",
   "metadata": {},
   "source": [
    "# LDA - Clustering using Topic Models across Genre"
   ]
  },
  {
   "cell_type": "code",
   "execution_count": 191,
   "metadata": {},
   "outputs": [
    {
     "name": "stdout",
     "output_type": "stream",
     "text": [
      "Dimension: (36, 3)\n"
     ]
    }
   ],
   "source": [
    "# Plotting Year and Genre distribution\n",
    "df_samp = df_clean[['Play', 'Year', 'Genre']].copy()\n",
    "df_samp = df_samp.drop_duplicates()\n",
    "print(\"Dimension:\", df_samp.shape)"
   ]
  },
  {
   "cell_type": "code",
   "execution_count": 192,
   "metadata": {},
   "outputs": [
    {
     "data": {
      "image/png": "[encoded data removed]",
      "text/plain": [
       "<Figure size 864x576 with 1 Axes>"
      ]
     },
     "metadata": {},
     "output_type": "display_data"
    }
   ],
   "source": [
    "f, ax = plt.subplots(figsize=(12,8))\n",
    "sns.stripplot(x='Year', y='Play', hue='Genre', data=df_samp);"
   ]
  },
  {
   "cell_type": "code",
   "execution_count": 193,
   "metadata": {},
   "outputs": [],
   "source": [
    "# Generate Meta\n",
    "def get_meta(df):\n",
    "    doc_tokens = TextCleaner().transform(df['PlayerLine'])\n",
    "    print(\"Token Length:\", len(doc_tokens))\n",
    "    \n",
    "    # Corpus preperation\n",
    "    dictionary = corpora.Dictionary(doc_tokens)\n",
    "    print(dictionary)\n",
    "\n",
    "    corpus = [dictionary.doc2bow(doc) for doc in doc_tokens]\n",
    "    \n",
    "    return dictionary, corpus\n",
    "\n",
    "# Perform LDA\n",
    "def get_lda(dictionary, corpus, num_topics=100):    \n",
    "    start = time()\n",
    "    lda = LdaMulticore(corpus, num_topics=num_topics, id2word=dictionary, workers=3, passes=50)\n",
    "    print(\"LDA compleded in %0.3fs\" % (time() - start))\n",
    "    \n",
    "    return lda\n",
    "\n",
    "# Generate Topic Distribution\n",
    "def get_topic_dist(lda, corpus):\n",
    "    doc_topic_dist = np.array([[tup[1] for tup in lst] for lst in lda[corpus]])\n",
    "    \n",
    "    return doc_topic_dist"
   ]
  },
  {
   "cell_type": "code",
   "execution_count": 212,
   "metadata": {},
   "outputs": [
    {
     "name": "stdout",
     "output_type": "stream",
     "text": [
      "\n",
      "Subset G1: (10, 2)\n",
      "              Play                                         PlayerLine\n",
      "0         Henry IV  So shaken as we are, so wan with care, Find we...\n",
      "1          Henry V  ACT I PROLOGUE Enter Chorus O for a Muse of fi...\n",
      "2  Henry VI Part 1  ACT I SCENE I. Westminster Abbey. Dead March. ...\n",
      "3  Henry VI Part 2  ACT I SCENE I. London. The palace. Flourish of...\n",
      "4  Henry VI Part 3  ACT I SCENE I. London. The Parliament-house. A...\n",
      "\n",
      "Subset G2: (14, 2)\n",
      "                       Play                                         PlayerLine\n",
      "0        A Comedy of Errors  ACT I SCENE I. A hall in DUKE SOLINUS'S palace...\n",
      "1  A Midsummer nights dream  ACT I SCENE I. Athens. The palace of THESEUS. ...\n",
      "2            A Winters Tale  ACT I SCENE I. Antechamber in LEONTES' palace....\n",
      "3  Alls well that ends well  ACT I SCENE I. Rousillon. The COUNT's palace. ...\n",
      "4            As you like it  ACT I SCENE I. Orchard of Oliver's house. Ente...\n",
      "\n",
      "Subset G3: (12, 2)\n",
      "                   Play                                         PlayerLine\n",
      "0  Antony and Cleopatra  ACT I SCENE I. Alexandria. A room in CLEOPATRA...\n",
      "1            Coriolanus  ACT I SCENE I. Rome. A street. Enter a company...\n",
      "2             Cymbeline  ACT I SCENE I. Britain. The garden of Cymbelin...\n",
      "3                Hamlet  ACT I SCENE I. Elsinore. A platform before the...\n",
      "4         Julius Caesar  ACT I SCENE I. Rome. A street. Enter FLAVIUS, ...\n"
     ]
    }
   ],
   "source": [
    "# Splitting into 3 subsets across genre\n",
    "df_g1 = df_clean[(df_clean['Genre'] == 'History')]\n",
    "df_g1 = df_g1.groupby('Play')['PlayerLine'].apply(' '.join).reset_index()\n",
    "print('\\nSubset G1:', df_g1.shape)\n",
    "print(df_g1.head())\n",
    "\n",
    "df_g2 = df_clean[(df_clean['Genre'] == 'Comedy')]\n",
    "df_g2 = df_g2.groupby('Play')['PlayerLine'].apply(' '.join).reset_index()\n",
    "print('\\nSubset G2:', df_g2.shape)\n",
    "print(df_g2.head())\n",
    "\n",
    "df_g3 = df_clean[(df_clean['Genre'] == 'Tragedy')]\n",
    "df_g3 = df_g3.groupby('Play')['PlayerLine'].apply(' '.join).reset_index()\n",
    "print('\\nSubset G3:', df_g3.shape)\n",
    "print(df_g3.head())"
   ]
  },
  {
   "cell_type": "code",
   "execution_count": 195,
   "metadata": {},
   "outputs": [
    {
     "name": "stdout",
     "output_type": "stream",
     "text": [
      "Dimension: (22, 2)\n",
      "REMOVING PUNCTUATION AND DIGITS... 0 seconds\n",
      "PARSING TEXT WITH SPACY... 37 seconds\n",
      "REMOVING STOP WORDS FROM DOCUMENTS... 1 seconds\n",
      "LEMMATIZING WORDS... 0 seconds\n",
      "Token Length: 22\n",
      "Dictionary(17123 unique tokens: ['', 'able', 'abominable', 'abroad', 'absence']...)\n",
      "LDA compleded in 107.661s\n"
     ]
    }
   ],
   "source": [
    "# Topic modeling on Genre: History + Tragedy\n",
    "df_g13 = pd.concat([df_g1, df_g3])\n",
    "print(\"Dimension:\", df_g13.shape)\n",
    "\n",
    "dictionary_g13, corpus_g13 = get_meta(df_g13)\n",
    "\n",
    "lda_g13 = get_lda(dictionary_g13, corpus_g13)"
   ]
  },
  {
   "cell_type": "code",
   "execution_count": 196,
   "metadata": {},
   "outputs": [
    {
     "name": "stdout",
     "output_type": "stream",
     "text": [
      "REMOVING PUNCTUATION AND DIGITS... 0 seconds\n",
      "PARSING TEXT WITH SPACY... 13 seconds\n",
      "REMOVING STOP WORDS FROM DOCUMENTS... 0 seconds\n",
      "LEMMATIZING WORDS... 0 seconds\n",
      "Token Length: 10\n",
      "Dictionary(10928 unique tokens: ['', 'able', 'abominable', 'abroad', 'absence']...)\n",
      "REMOVING PUNCTUATION AND DIGITS... 0 seconds\n",
      "PARSING TEXT WITH SPACY... 20 seconds\n",
      "REMOVING STOP WORDS FROM DOCUMENTS... 0 seconds\n",
      "LEMMATIZING WORDS... 0 seconds\n",
      "Token Length: 14\n",
      "Dictionary(11971 unique tokens: ['', 'abbess', 'abbey', 'abbeygate', 'abbeywall']...)\n"
     ]
    }
   ],
   "source": [
    "# Evaluation on individual Genre\n",
    "dictionary_g1, corpus_g1 = get_meta(df_g1)\n",
    "dictionary_g2, corpus_g2 = get_meta(df_g2)"
   ]
  },
  {
   "cell_type": "code",
   "execution_count": 201,
   "metadata": {},
   "outputs": [],
   "source": [
    "def jensen_shannon(query, matrix):\n",
    "    \"\"\"\n",
    "    This function implements a Jensen-Shannon similarity\n",
    "    between the input query (an LDA topic distribution for a document)\n",
    "    and the entire corpus of topic distributions.\n",
    "    It returns an array of length M where M is the number of documents in the corpus\n",
    "    \"\"\"\n",
    "    # lets keep with the p,q notation above\n",
    "    p = query[None,:].T # take transpose\n",
    "    q = matrix.T # transpose matrix\n",
    "    m = 0.5*(p + q)\n",
    "    return np.sqrt(0.5*(entropy(p,m) + entropy(q,m)))\n",
    "\n",
    "def get_most_similar_documents(query,matrix,k=10):\n",
    "    \"\"\"\n",
    "    This function implements the Jensen-Shannon distance above\n",
    "    and retruns the top k indices of the smallest jensen shannon distances\n",
    "    \"\"\"\n",
    "    sims = jensen_shannon(query,matrix) # list of jensen shannon distances\n",
    "    return sims.argsort()[:k] # the top k positional index of the smallest Jensen Shannon distances"
   ]
  },
  {
   "cell_type": "code",
   "execution_count": 232,
   "metadata": {},
   "outputs": [
    {
     "name": "stdout",
     "output_type": "stream",
     "text": [
      "[(12, 0.038594298), (39, 0.9514625)]\n",
      "[(12, 0.029595591), (23, 0.09643885), (39, 0.8265037), (63, 0.04274439)]\n",
      "[(12, 0.01248455), (39, 0.3681734), (63, 0.61194026)]\n",
      "[(12, 0.14027283), (31, 0.06663279), (39, 0.5925488), (55, 0.0350705), (63, 0.16539867)]\n",
      "[(12, 0.49539447), (31, 0.078951776), (39, 0.39315343), (63, 0.031585664)]\n",
      "[(12, 0.027403137), (39, 0.9435166), (63, 0.028991506)]\n",
      "[(12, 0.023138141), (39, 0.8275597), (63, 0.14848743)]\n",
      "[(31, 0.047438245), (39, 0.9524455)]\n",
      "[(12, 0.16071868), (39, 0.8386256)]\n",
      "[(12, 0.20706175), (31, 0.4705752), (39, 0.31719172)]\n"
     ]
    }
   ],
   "source": [
    "topics_g1 = lda_g13[corpus_g1]\n",
    "for topic in topics_g1:\n",
    "    print(topic)"
   ]
  },
  {
   "cell_type": "code",
   "execution_count": 231,
   "metadata": {},
   "outputs": [
    {
     "name": "stdout",
     "output_type": "stream",
     "text": [
      "[(31, 0.014087589), (39, 0.975197)]\n",
      "[(31, 0.019946849), (39, 0.95683503), (63, 0.011464457)]\n",
      "[(23, 0.023265023), (31, 0.017101724), (39, 0.925043), (63, 0.02705532)]\n",
      "[(23, 0.014034049), (31, 0.02330771), (39, 0.86194277), (63, 0.098584004)]\n",
      "[(31, 0.0568532), (39, 0.83919305), (63, 0.08443109)]\n",
      "[(12, 0.03269661), (31, 0.07481916), (39, 0.8430105), (55, 0.0146432305), (63, 0.027335322)]\n",
      "[(12, 0.028229704), (31, 0.04117369), (39, 0.88891816), (63, 0.032756653)]\n",
      "[(12, 0.01214263), (31, 0.024140242), (39, 0.92158043), (63, 0.030653412)]\n",
      "[(31, 0.0426069), (39, 0.89885896), (63, 0.03903643)]\n",
      "[(23, 0.011139563), (31, 0.041006025), (39, 0.89492625), (63, 0.04299931)]\n",
      "[(12, 0.010948052), (31, 0.13891901), (39, 0.80606765), (55, 0.012058752), (63, 0.025798993)]\n",
      "[(12, 0.011334601), (31, 0.11716195), (39, 0.793482), (55, 0.039217766), (63, 0.030994812)]\n",
      "[(23, 0.010955789), (31, 0.023749553), (39, 0.8765291), (55, 0.051332787), (63, 0.027613694)]\n",
      "[(31, 0.033380024), (39, 0.92437893), (63, 0.024229985)]\n"
     ]
    }
   ],
   "source": [
    "topics_g2 = lda_g13[corpus_g2]\n",
    "for topic in topics_g2:\n",
    "    print(topic)"
   ]
  },
  {
   "cell_type": "markdown",
   "metadata": {},
   "source": [
    "## Need to plot these topics and show intersection between genre so that our hypothesis (Shakespeare wrote them all) is satisfied\n",
    "\n",
    "### http://jeriwieringa.com/2017/06/21/Calculating-and-Visualizing-Topic-Significance-over-Time-Part-1/\n",
    "    "
   ]
  },
  {
   "cell_type": "code",
   "execution_count": null,
   "metadata": {},
   "outputs": [],
   "source": []
  },
  {
   "cell_type": "markdown",
   "metadata": {},
   "source": [
    "# Classify Whether or Not `is_shakespeare`\n",
    "\n",
    "The names of Shakespeare's contemporaries were derived from the [Royal Shakespeare Company](https://www.rsc.org.uk/shakespeares-contemporaries/meet-the-contemporaries) and the text of the plays\n",
    "was acquired from [archive.org](https://archive.org).\n",
    "\n",
    "_Hypothesis:_  Shakespeare's style is sufficiently unique from playwrights of his time that a classifier can be built that is capable of predicting whether or not a given line was written by Shakespeare or not.  "
   ]
  },
  {
   "cell_type": "code",
   "execution_count": 8,
   "metadata": {},
   "outputs": [
    {
     "name": "stdout",
     "output_type": "stream",
     "text": [
      "Acquiring plays for thomas_kyd\n",
      "Acquiring plays for christopher_marlowe\n",
      "Acquiring plays for ben_johnson\n",
      "Acquiring plays for thomas_dekker\n",
      "Acquiring plays for beaumont_fletcher\n",
      "Acquiring plays for philip_massinger\n"
     ]
    }
   ],
   "source": [
    "# use requests and bs4\n",
    "\n",
    "thomas_kyd = 'https://archive.org/stream/worksthomaskyd00kydgoog/worksthomaskyd00kydgoog_djvu.txt'\n",
    "christopher_marlowe = 'https://archive.org/stream/worksofchristoph00marlrich/worksofchristoph00marlrich_djvu.txt'\n",
    "ben_johnson = 'https://archive.org/stream/completeplaysofb01jonsuoft/completeplaysofb01jonsuoft_djvu.txt'\n",
    "thomas_dekker = 'https://archive.org/stream/dramaticworksth02shepgoog/dramaticworksth02shepgoog_djvu.txt'\n",
    "john_webster = 'NOT FOUND'\n",
    "beaumont_fletcher = 'https://archive.org/stream/worksoffrancisbe004beau/worksoffrancisbe004beau_djvu.txt'\n",
    "philip_massinger = 'https://archive.org/stream/plays00massgoog/plays00massgoog_djvu.txt'\n",
    "john_ford = 'NOT FOUND'\n",
    "\n",
    "urls = {'thomas_kyd': thomas_kyd, 'christopher_marlowe': christopher_marlowe,\n",
    "       'ben_johnson': ben_johnson, 'thomas_dekker': thomas_dekker,\n",
    "       'beaumont_fletcher': beaumont_fletcher, 'philip_massinger': philip_massinger}\n",
    "\n",
    "# not_shakespeare = list()\n",
    "for author, url in urls.items():\n",
    "    print('Acquiring plays for {}'.format(author))\n",
    "#     remove bad text by hand (e.g. credits)\n",
    "#     don't want to run twice\n",
    "#     get_url = requests.get(url)\n",
    "#     txt = get_url.text\n",
    "#     soup = BeautifulSoup(txt, \"html.parser\")\n",
    "#     txt_clean = str(soup.find_all('pre')[0])\n",
    "#     not_shakespeare.append(txt_clean)\n",
    "#     with open(r'data/{}.txt'.format(author), 'w') as f:\n",
    "#         f.write(txt_clean)"
   ]
  },
  {
   "cell_type": "markdown",
   "metadata": {},
   "source": [
    "Read in plays from six of Shakespeare's contemporaries.  Note that junk text was manually identified & removed from each file that mostly pertained to the credits and funding of the archive work (which were saved off in a separate file in this repository).  Introductions by other authors were also removed by hand. "
   ]
  },
  {
   "cell_type": "code",
   "execution_count": 9,
   "metadata": {},
   "outputs": [
    {
     "name": "stdout",
     "output_type": "stream",
     "text": [
      "Reading in plays for thomas_kyd\n",
      "Reading in plays for christopher_marlowe\n",
      "Reading in plays for ben_johnson\n",
      "Reading in plays for thomas_dekker\n",
      "Reading in plays for beaumont_fletcher\n",
      "Reading in plays for philip_massinger\n"
     ]
    }
   ],
   "source": [
    "collections = list()\n",
    "for author, _ in urls.items():\n",
    "    print('Reading in plays for {}'.format(author))\n",
    "    with open(r'data/{}.txt'.format(author), 'r') as f:\n",
    "        collections.append(f.readlines())"
   ]
  },
  {
   "cell_type": "markdown",
   "metadata": {},
   "source": [
    "Flatten the nested list using a `lambda` function, then splitting on newline characters such that lines are the unit of analysis."
   ]
  },
  {
   "cell_type": "code",
   "execution_count": 10,
   "metadata": {},
   "outputs": [
    {
     "name": "stdout",
     "output_type": "stream",
     "text": [
      "Did you remove the credits from the text files, so that only plays are in the data?\n"
     ]
    },
    {
     "data": {
      "text/plain": [
       "array(['\\n', '\\n', 'The Spanish Tragedie^ IV. It. \\n', '\\n',\n",
       "       \"The Latin elegiacs mingled with the English verses, might ' \\n\"],\n",
       "      dtype='<U100')"
      ]
     },
     "execution_count": 10,
     "metadata": {},
     "output_type": "execute_result"
    }
   ],
   "source": [
    "# set up data\n",
    "# remove the admin text in files BY HAND\n",
    "print('Did you remove the credits from the text files, so that only plays are in the data?')\n",
    "flatten = lambda l: [item for sublist in l for item in sublist]\n",
    "not_shakespeare = flatten(collections)\n",
    "not_shakespeare = [str(s).split('\\n') for s in not_shakespeare] \n",
    "not_shakespeare = flatten(collections)\n",
    "np.array(not_shakespeare)[:5]"
   ]
  },
  {
   "cell_type": "markdown",
   "metadata": {},
   "source": [
    "Note that there is still noise.  Newline characters and breaks between acts in the play need to be identified and removed.  \n",
    "\n",
    "Next Shakespeare's lines are read in from the Kaggle dataset."
   ]
  },
  {
   "cell_type": "code",
   "execution_count": 11,
   "metadata": {},
   "outputs": [
    {
     "data": {
      "text/plain": [
       "['\"ACT I\"\\n',\n",
       " '\"SCENE I. London. The palace.\"\\n',\n",
       " '\"Enter KING HENRY, LORD JOHN OF LANCASTER, the EARL of WESTMORELAND, SIR WALTER BLUNT, and others\"\\n',\n",
       " '\"So shaken as we are, so wan with care,\"\\n',\n",
       " '\"Find we a time for frighted peace to pant,\"\\n']"
      ]
     },
     "execution_count": 11,
     "metadata": {},
     "output_type": "execute_result"
    }
   ],
   "source": [
    "lines = list()\n",
    "with open('data/alllines.txt') as f:\n",
    "    lines.append(f.readlines())\n",
    "    \n",
    "lines = flatten(lines)\n",
    "lines[:5]"
   ]
  },
  {
   "cell_type": "markdown",
   "metadata": {},
   "source": [
    "Convert data to `X` and `y` by generating a vector of zeros for all lines that are from Shakespeare's contemporaries in alignment with the existing data.  The same is done with a vector of ones to represent the `y` for Shakespeare's lines.  These are then put into a `DataFrame` and shuffled using the `pd.DataFrame.sample` method."
   ]
  },
  {
   "cell_type": "code",
   "execution_count": 12,
   "metadata": {},
   "outputs": [
    {
     "data": {
      "text/html": [
       "<div>\n",
       "<style scoped>\n",
       "    .dataframe tbody tr th:only-of-type {\n",
       "        vertical-align: middle;\n",
       "    }\n",
       "\n",
       "    .dataframe tbody tr th {\n",
       "        vertical-align: top;\n",
       "    }\n",
       "\n",
       "    .dataframe thead th {\n",
       "        text-align: right;\n",
       "    }\n",
       "</style>\n",
       "<table border=\"1\" class=\"dataframe\">\n",
       "  <thead>\n",
       "    <tr style=\"text-align: right;\">\n",
       "      <th></th>\n",
       "      <th>X</th>\n",
       "      <th>y</th>\n",
       "    </tr>\n",
       "  </thead>\n",
       "  <tbody>\n",
       "    <tr>\n",
       "      <th>310973</th>\n",
       "      <td>\"Being spoke behind your back, than to your fa...</td>\n",
       "      <td>1</td>\n",
       "    </tr>\n",
       "    <tr>\n",
       "      <th>119000</th>\n",
       "      <td>Volp. And thou use them scurvily ! \\n</td>\n",
       "      <td>0</td>\n",
       "    </tr>\n",
       "    <tr>\n",
       "      <th>241107</th>\n",
       "      <td>\"her without her tongue. O, that woman that ca...</td>\n",
       "      <td>1</td>\n",
       "    </tr>\n",
       "    <tr>\n",
       "      <th>226243</th>\n",
       "      <td>\"life: which if I can save, so, if not, honour...</td>\n",
       "      <td>1</td>\n",
       "    </tr>\n",
       "    <tr>\n",
       "      <th>60178</th>\n",
       "      <td>\\n</td>\n",
       "      <td>0</td>\n",
       "    </tr>\n",
       "    <tr>\n",
       "      <th>193113</th>\n",
       "      <td>Of noble war extinguish Lovi^s dim tapar,] So ...</td>\n",
       "      <td>0</td>\n",
       "    </tr>\n",
       "    <tr>\n",
       "      <th>108087</th>\n",
       "      <td>\\n</td>\n",
       "      <td>0</td>\n",
       "    </tr>\n",
       "    <tr>\n",
       "      <th>105787</th>\n",
       "      <td>\\n</td>\n",
       "      <td>0</td>\n",
       "    </tr>\n",
       "    <tr>\n",
       "      <th>232199</th>\n",
       "      <td>\"spoil of the city until night: for with these...</td>\n",
       "      <td>1</td>\n",
       "    </tr>\n",
       "    <tr>\n",
       "      <th>250517</th>\n",
       "      <td>\"Pray, get you out.\"\\n</td>\n",
       "      <td>1</td>\n",
       "    </tr>\n",
       "    <tr>\n",
       "      <th>251520</th>\n",
       "      <td>\"They'll give him death by inches.\"\\n</td>\n",
       "      <td>1</td>\n",
       "    </tr>\n",
       "    <tr>\n",
       "      <th>230642</th>\n",
       "      <td>\"Methinks I should not thus be led along,\"\\n</td>\n",
       "      <td>1</td>\n",
       "    </tr>\n",
       "    <tr>\n",
       "      <th>53690</th>\n",
       "      <td>But neuer could effect their Stratagem. \\n</td>\n",
       "      <td>0</td>\n",
       "    </tr>\n",
       "    <tr>\n",
       "      <th>28912</th>\n",
       "      <td>\\n</td>\n",
       "      <td>0</td>\n",
       "    </tr>\n",
       "    <tr>\n",
       "      <th>122715</th>\n",
       "      <td>\\n</td>\n",
       "      <td>0</td>\n",
       "    </tr>\n",
       "    <tr>\n",
       "      <th>62430</th>\n",
       "      <td>But stay a while, let me be king till night, 2...</td>\n",
       "      <td>0</td>\n",
       "    </tr>\n",
       "    <tr>\n",
       "      <th>47541</th>\n",
       "      <td>\\n</td>\n",
       "      <td>0</td>\n",
       "    </tr>\n",
       "    <tr>\n",
       "      <th>320913</th>\n",
       "      <td>\"Tigers must prey, and Rome affords no prey\"\\n</td>\n",
       "      <td>1</td>\n",
       "    </tr>\n",
       "    <tr>\n",
       "      <th>125663</th>\n",
       "      <td>\\n</td>\n",
       "      <td>0</td>\n",
       "    </tr>\n",
       "    <tr>\n",
       "      <th>22079</th>\n",
       "      <td>sort as we behold the prouidence of our almigh...</td>\n",
       "      <td>0</td>\n",
       "    </tr>\n",
       "    <tr>\n",
       "      <th>130771</th>\n",
       "      <td>\\n</td>\n",
       "      <td>0</td>\n",
       "    </tr>\n",
       "    <tr>\n",
       "      <th>295692</th>\n",
       "      <td>\"Stood in your action.\"\\n</td>\n",
       "      <td>1</td>\n",
       "    </tr>\n",
       "    <tr>\n",
       "      <th>275707</th>\n",
       "      <td>\"And fortune led you well: you have the captiv...</td>\n",
       "      <td>1</td>\n",
       "    </tr>\n",
       "    <tr>\n",
       "      <th>11642</th>\n",
       "      <td>Hier, Nay, then I care not; come, and we shall...</td>\n",
       "      <td>0</td>\n",
       "    </tr>\n",
       "    <tr>\n",
       "      <th>157981</th>\n",
       "      <td>To trust thy sacred life to an Egyptian ? \\n</td>\n",
       "      <td>0</td>\n",
       "    </tr>\n",
       "  </tbody>\n",
       "</table>\n",
       "</div>"
      ],
      "text/plain": [
       "                                                        X  y\n",
       "310973  \"Being spoke behind your back, than to your fa...  1\n",
       "119000              Volp. And thou use them scurvily ! \\n  0\n",
       "241107  \"her without her tongue. O, that woman that ca...  1\n",
       "226243  \"life: which if I can save, so, if not, honour...  1\n",
       "60178                                                  \\n  0\n",
       "193113  Of noble war extinguish Lovi^s dim tapar,] So ...  0\n",
       "108087                                                 \\n  0\n",
       "105787                                                 \\n  0\n",
       "232199  \"spoil of the city until night: for with these...  1\n",
       "250517                             \"Pray, get you out.\"\\n  1\n",
       "251520              \"They'll give him death by inches.\"\\n  1\n",
       "230642       \"Methinks I should not thus be led along,\"\\n  1\n",
       "53690          But neuer could effect their Stratagem. \\n  0\n",
       "28912                                                  \\n  0\n",
       "122715                                                 \\n  0\n",
       "62430   But stay a while, let me be king till night, 2...  0\n",
       "47541                                                  \\n  0\n",
       "320913     \"Tigers must prey, and Rome affords no prey\"\\n  1\n",
       "125663                                                 \\n  0\n",
       "22079   sort as we behold the prouidence of our almigh...  0\n",
       "130771                                                 \\n  0\n",
       "295692                          \"Stood in your action.\"\\n  1\n",
       "275707  \"And fortune led you well: you have the captiv...  1\n",
       "11642   Hier, Nay, then I care not; come, and we shall...  0\n",
       "157981       To trust thy sacred life to an Egyptian ? \\n  0"
      ]
     },
     "execution_count": 12,
     "metadata": {},
     "output_type": "execute_result"
    }
   ],
   "source": [
    "X, y = np.array(not_shakespeare), np.zeros(len(not_shakespeare))\n",
    "X, y = np.hstack([X, lines]), np.hstack([y, np.ones([len(lines)])])\n",
    "\n",
    "_df = pd.DataFrame({'X': X, 'y': y})\n",
    "_df.y = _df.y.astype(np.int8)\n",
    "_df = _df.sample(random_state=7, frac=1)\n",
    "_df.head(25)"
   ]
  },
  {
   "cell_type": "markdown",
   "metadata": {},
   "source": [
    "Below filters are applied to remove newlines, `NaN`s, Act demarcations, paragraphs, and lines with fewer than eight words.  This appears to get a reasonable sample dataset with 103355 rows of lines in the datatset.  \n",
    "\n",
    "Filter out:\n",
    "\n",
    "- New lines\n",
    "- `NaN`s\n",
    "- Lines designating \"ACT _\"\n",
    "- New lines with paragraphs\n",
    "- Lines shorter than 8 words"
   ]
  },
  {
   "cell_type": "code",
   "execution_count": 13,
   "metadata": {},
   "outputs": [
    {
     "name": "stdout",
     "output_type": "stream",
     "text": [
      "(103355, 2)\n"
     ]
    },
    {
     "data": {
      "text/html": [
       "<div>\n",
       "<style scoped>\n",
       "    .dataframe tbody tr th:only-of-type {\n",
       "        vertical-align: middle;\n",
       "    }\n",
       "\n",
       "    .dataframe tbody tr th {\n",
       "        vertical-align: top;\n",
       "    }\n",
       "\n",
       "    .dataframe thead th {\n",
       "        text-align: right;\n",
       "    }\n",
       "</style>\n",
       "<table border=\"1\" class=\"dataframe\">\n",
       "  <thead>\n",
       "    <tr style=\"text-align: right;\">\n",
       "      <th></th>\n",
       "      <th>X</th>\n",
       "      <th>y</th>\n",
       "    </tr>\n",
       "  </thead>\n",
       "  <tbody>\n",
       "    <tr>\n",
       "      <th>310973</th>\n",
       "      <td>\"Being spoke behind your back, than to your fa...</td>\n",
       "      <td>1</td>\n",
       "    </tr>\n",
       "    <tr>\n",
       "      <th>241107</th>\n",
       "      <td>\"her without her tongue. O, that woman that ca...</td>\n",
       "      <td>1</td>\n",
       "    </tr>\n",
       "    <tr>\n",
       "      <th>226243</th>\n",
       "      <td>\"life: which if I can save, so, if not, honour...</td>\n",
       "      <td>1</td>\n",
       "    </tr>\n",
       "    <tr>\n",
       "      <th>193113</th>\n",
       "      <td>Of noble war extinguish Lovi^s dim tapar,] So ...</td>\n",
       "      <td>0</td>\n",
       "    </tr>\n",
       "    <tr>\n",
       "      <th>232199</th>\n",
       "      <td>\"spoil of the city until night: for with these...</td>\n",
       "      <td>1</td>\n",
       "    </tr>\n",
       "    <tr>\n",
       "      <th>62430</th>\n",
       "      <td>But stay a while, let me be king till night, 2...</td>\n",
       "      <td>0</td>\n",
       "    </tr>\n",
       "    <tr>\n",
       "      <th>22079</th>\n",
       "      <td>sort as we behold the prouidence of our almigh...</td>\n",
       "      <td>0</td>\n",
       "    </tr>\n",
       "    <tr>\n",
       "      <th>275707</th>\n",
       "      <td>\"And fortune led you well: you have the captiv...</td>\n",
       "      <td>1</td>\n",
       "    </tr>\n",
       "    <tr>\n",
       "      <th>11642</th>\n",
       "      <td>Hier, Nay, then I care not; come, and we shall...</td>\n",
       "      <td>0</td>\n",
       "    </tr>\n",
       "    <tr>\n",
       "      <th>157981</th>\n",
       "      <td>To trust thy sacred life to an Egyptian ? \\n</td>\n",
       "      <td>0</td>\n",
       "    </tr>\n",
       "    <tr>\n",
       "      <th>163387</th>\n",
       "      <td>316 more . . .] more, Cousin . . . Ff, T, as i...</td>\n",
       "      <td>0</td>\n",
       "    </tr>\n",
       "    <tr>\n",
       "      <th>321435</th>\n",
       "      <td>\"Ay, just, a verse in Horace, right, you have ...</td>\n",
       "      <td>1</td>\n",
       "    </tr>\n",
       "    <tr>\n",
       "      <th>161300</th>\n",
       "      <td>Start not ; it shall be so ; that while the pe...</td>\n",
       "      <td>0</td>\n",
       "    </tr>\n",
       "    <tr>\n",
       "      <th>170304</th>\n",
       "      <td>additional speeches are in rhyme, and form a r...</td>\n",
       "      <td>0</td>\n",
       "    </tr>\n",
       "    <tr>\n",
       "      <th>1753</th>\n",
       "      <td>^nt had to be so managed that he should be the...</td>\n",
       "      <td>0</td>\n",
       "    </tr>\n",
       "    <tr>\n",
       "      <th>116981</th>\n",
       "      <td>Lady P. I pray you lend me your dwarf. \\n</td>\n",
       "      <td>0</td>\n",
       "    </tr>\n",
       "    <tr>\n",
       "      <th>59330</th>\n",
       "      <td>Qu. In saying this, thou wrongst me Gaueston, ...</td>\n",
       "      <td>0</td>\n",
       "    </tr>\n",
       "    <tr>\n",
       "      <th>47348</th>\n",
       "      <td>Clo. Doe you heare sir ? you may saue that lab...</td>\n",
       "      <td>0</td>\n",
       "    </tr>\n",
       "    <tr>\n",
       "      <th>326144</th>\n",
       "      <td>\"Hector is dead, there is no more to say.\"\\n</td>\n",
       "      <td>1</td>\n",
       "    </tr>\n",
       "    <tr>\n",
       "      <th>167459</th>\n",
       "      <td>I'll set him further off, I'll give a remove 5 \\n</td>\n",
       "      <td>0</td>\n",
       "    </tr>\n",
       "    <tr>\n",
       "      <th>318107</th>\n",
       "      <td>\"there was very little honour showed in't. For...</td>\n",
       "      <td>1</td>\n",
       "    </tr>\n",
       "    <tr>\n",
       "      <th>22803</th>\n",
       "      <td>may with idlenes and ease become pestilent, br...</td>\n",
       "      <td>0</td>\n",
       "    </tr>\n",
       "    <tr>\n",
       "      <th>49401</th>\n",
       "      <td>some of his men to attend you with prouision f...</td>\n",
       "      <td>0</td>\n",
       "    </tr>\n",
       "    <tr>\n",
       "      <th>107289</th>\n",
       "      <td>ward, Tiberius; grew into that favour with the...</td>\n",
       "      <td>0</td>\n",
       "    </tr>\n",
       "    <tr>\n",
       "      <th>85100</th>\n",
       "      <td>Tho. You shall not follow him now, I pray you. \\n</td>\n",
       "      <td>0</td>\n",
       "    </tr>\n",
       "  </tbody>\n",
       "</table>\n",
       "</div>"
      ],
      "text/plain": [
       "                                                        X  y\n",
       "310973  \"Being spoke behind your back, than to your fa...  1\n",
       "241107  \"her without her tongue. O, that woman that ca...  1\n",
       "226243  \"life: which if I can save, so, if not, honour...  1\n",
       "193113  Of noble war extinguish Lovi^s dim tapar,] So ...  0\n",
       "232199  \"spoil of the city until night: for with these...  1\n",
       "62430   But stay a while, let me be king till night, 2...  0\n",
       "22079   sort as we behold the prouidence of our almigh...  0\n",
       "275707  \"And fortune led you well: you have the captiv...  1\n",
       "11642   Hier, Nay, then I care not; come, and we shall...  0\n",
       "157981       To trust thy sacred life to an Egyptian ? \\n  0\n",
       "163387  316 more . . .] more, Cousin . . . Ff, T, as i...  0\n",
       "321435  \"Ay, just, a verse in Horace, right, you have ...  1\n",
       "161300  Start not ; it shall be so ; that while the pe...  0\n",
       "170304  additional speeches are in rhyme, and form a r...  0\n",
       "1753    ^nt had to be so managed that he should be the...  0\n",
       "116981          Lady P. I pray you lend me your dwarf. \\n  0\n",
       "59330   Qu. In saying this, thou wrongst me Gaueston, ...  0\n",
       "47348   Clo. Doe you heare sir ? you may saue that lab...  0\n",
       "326144       \"Hector is dead, there is no more to say.\"\\n  1\n",
       "167459  I'll set him further off, I'll give a remove 5 \\n  0\n",
       "318107  \"there was very little honour showed in't. For...  1\n",
       "22803   may with idlenes and ease become pestilent, br...  0\n",
       "49401   some of his men to attend you with prouision f...  0\n",
       "107289  ward, Tiberius; grew into that favour with the...  0\n",
       "85100   Tho. You shall not follow him now, I pray you. \\n  0"
      ]
     },
     "execution_count": 13,
     "metadata": {},
     "output_type": "execute_result"
    }
   ],
   "source": [
    "# filter out (subjectively determined) noisy lines\n",
    "_df = _df.loc[_df.X != '\\n']\n",
    "_df = _df.loc[~_df.X.str.contains('nan')]\n",
    "_df = _df.loc[~_df.X.str.contains('ACT')]\n",
    "_df = _df.loc[_df.X != 'p\\n']\n",
    "_df = _df.loc[_df.X.str.split().str.len() > 8]\n",
    "\n",
    "print(_df.shape)\n",
    "\n",
    "_df.head(25)"
   ]
  },
  {
   "cell_type": "markdown",
   "metadata": {},
   "source": [
    "Check the distribution of the number of words in each line after the filter was applied.  Note that we have many  observations of reasonable length."
   ]
  },
  {
   "cell_type": "code",
   "execution_count": 14,
   "metadata": {},
   "outputs": [
    {
     "data": {
      "text/plain": [
       "count    103355.000000\n",
       "mean         10.344492\n",
       "std           1.874410\n",
       "min           9.000000\n",
       "25%           9.000000\n",
       "50%          10.000000\n",
       "75%          11.000000\n",
       "max         163.000000\n",
       "Name: X, dtype: float64"
      ]
     },
     "execution_count": 14,
     "metadata": {},
     "output_type": "execute_result"
    }
   ],
   "source": [
    "_df.X.str.split().str.len().describe()"
   ]
  },
  {
   "cell_type": "markdown",
   "metadata": {},
   "source": [
    "Check the breakdown between Shakespeare's lines and his contemporaries.  We see that Shakespeare's lines represent about 33% of the data."
   ]
  },
  {
   "cell_type": "code",
   "execution_count": 15,
   "metadata": {},
   "outputs": [
    {
     "data": {
      "text/plain": [
       "0.0    0.667154\n",
       "1.0    0.332846\n",
       "dtype: float64"
      ]
     },
     "execution_count": 15,
     "metadata": {},
     "output_type": "execute_result"
    }
   ],
   "source": [
    "# baseline\n",
    "pd.Series(y).value_counts() / y.shape[0]"
   ]
  },
  {
   "cell_type": "markdown",
   "metadata": {},
   "source": [
    "## Test Classifiers\n",
    "\n",
    "First we split the data 70-30, stratifying on the `y` vector and setting `random_state` for reproducibility.  "
   ]
  },
  {
   "cell_type": "code",
   "execution_count": 16,
   "metadata": {},
   "outputs": [],
   "source": [
    "# stratified split\n",
    "X_train, X_test, y_train, y_test = train_test_split(X, y, train_size=.7, random_state=777, stratify=y)"
   ]
  },
  {
   "cell_type": "markdown",
   "metadata": {},
   "source": [
    "### Test 1:  `TfidfVectorizer` feeding `LinearSVC` via `GridSearchCV`\n",
    "\n",
    "Below an `sklearn.pipeline` is set up to enable a grid-search of hyperparameters for the `TfidfVectorizer` and the `LinearSVC` objects.  A linear support vector classifier was chosen as a baseline model for its reputation on text data. The model is deliberately kept simple for use as a baseline first attempt.  "
   ]
  },
  {
   "cell_type": "code",
   "execution_count": 40,
   "metadata": {},
   "outputs": [
    {
     "name": "stdout",
     "output_type": "stream",
     "text": [
      "Fitting 3 folds for each of 18 candidates, totalling 54 fits\n"
     ]
    },
    {
     "name": "stderr",
     "output_type": "stream",
     "text": [
      "[Parallel(n_jobs=4)]: Done  42 tasks      | elapsed:  7.8min\n",
      "[Parallel(n_jobs=4)]: Done  54 out of  54 | elapsed: 12.5min finished\n"
     ]
    },
    {
     "data": {
      "text/plain": [
       "GridSearchCV(cv=3, error_score='raise',\n",
       "       estimator=Pipeline(memory=None,\n",
       "     steps=[('tfidf', TfidfVectorizer(analyzer='word', binary=False, decode_error='strict',\n",
       "        dtype=<class 'numpy.int64'>, encoding='utf-8', input='content',\n",
       "        lowercase=True, max_df=1.0, max_features=None, min_df=1,\n",
       "        ngram_range=(1, 1), norm='l2', preprocessor=None, smooth_idf=True,\n",
       " ...ax_iter=1000,\n",
       "     multi_class='ovr', penalty='l2', random_state=None, tol=0.0001,\n",
       "     verbose=0))]),\n",
       "       fit_params=None, iid=True, n_jobs=4,\n",
       "       param_grid={'tfidf__ngram_range': [(1, 2), (1, 3), (1, 4)], 'clf__C': [0.01, 0.1, 1, 10, 100, 1000]},\n",
       "       pre_dispatch='2*n_jobs', refit=True, return_train_score='warn',\n",
       "       scoring=None, verbose=1)"
      ]
     },
     "execution_count": 40,
     "metadata": {},
     "output_type": "execute_result"
    }
   ],
   "source": [
    "pipeline = Pipeline([\n",
    "    ('tfidf', TfidfVectorizer()),\n",
    "    ('clf', LinearSVC())\n",
    "])\n",
    "\n",
    "params = {'tfidf__ngram_range': [(1,2), (1,3), (1,4)],\n",
    "         'clf__C': [.01, .1, 1, 10, 100, 1000]}\n",
    "\n",
    "grid = GridSearchCV(pipeline, params, cv=3, verbose=1, n_jobs=4)\n",
    "grid.fit(X_train, y_train)"
   ]
  },
  {
   "cell_type": "markdown",
   "metadata": {},
   "source": [
    "Isolate the hyperparameters that characterize the `best_estimator_` from the `grid` object. "
   ]
  },
  {
   "cell_type": "code",
   "execution_count": 41,
   "metadata": {},
   "outputs": [
    {
     "data": {
      "text/plain": [
       "Pipeline(memory=None,\n",
       "     steps=[('tfidf', TfidfVectorizer(analyzer='word', binary=False, decode_error='strict',\n",
       "        dtype=<class 'numpy.int64'>, encoding='utf-8', input='content',\n",
       "        lowercase=True, max_df=1.0, max_features=None, min_df=1,\n",
       "        ngram_range=(1, 2), norm='l2', preprocessor=None, smooth_idf=True,\n",
       " ...ax_iter=1000,\n",
       "     multi_class='ovr', penalty='l2', random_state=None, tol=0.0001,\n",
       "     verbose=0))])"
      ]
     },
     "execution_count": 41,
     "metadata": {},
     "output_type": "execute_result"
    }
   ],
   "source": [
    "grid.best_estimator_"
   ]
  },
  {
   "cell_type": "markdown",
   "metadata": {},
   "source": [
    "The best model's `accuracy_score = 0.849` and is a solid baseline model."
   ]
  },
  {
   "cell_type": "code",
   "execution_count": 42,
   "metadata": {},
   "outputs": [
    {
     "name": "stdout",
     "output_type": "stream",
     "text": [
      "\n",
      "Training Accuracy: 0.9904598481259044\n",
      "Testing Accuracy: 0.8493984303414207\n",
      "\n",
      "\n",
      "        Condition Positive:                        61282\n",
      "        Condition Negative:                        39122\n",
      "        Total Observations:                        100404\n",
      "        \n",
      "        True Positive:                             56573\n",
      "        True Negative:                             28710\n",
      "        False Positive:                            10412\n",
      "        False Negative                             4709\n",
      "        \n",
      "        True Positive Rate (recall):               92.32%\n",
      "        True Negative Rate (specificity):          73.39%\n",
      "        False Positive Rate (fall-out):            26.61%\n",
      "        False Negative Rate (miss rate):           7.68%\n",
      "        \n",
      "        Positive Predictive Value (precision):     84.46%\n",
      "        Negative Predictive Value:                 85.91%\n",
      "        \n"
     ]
    },
    {
     "data": {
      "text/html": [
       "<div>\n",
       "<style scoped>\n",
       "    .dataframe tbody tr th:only-of-type {\n",
       "        vertical-align: middle;\n",
       "    }\n",
       "\n",
       "    .dataframe tbody tr th {\n",
       "        vertical-align: top;\n",
       "    }\n",
       "\n",
       "    .dataframe thead th {\n",
       "        text-align: right;\n",
       "    }\n",
       "</style>\n",
       "<table border=\"1\" class=\"dataframe\">\n",
       "  <thead>\n",
       "    <tr style=\"text-align: right;\">\n",
       "      <th></th>\n",
       "      <th>(+) actual</th>\n",
       "      <th>(-) actual</th>\n",
       "    </tr>\n",
       "  </thead>\n",
       "  <tbody>\n",
       "    <tr>\n",
       "      <th>(+) predicted</th>\n",
       "      <td>56573</td>\n",
       "      <td>10412</td>\n",
       "    </tr>\n",
       "    <tr>\n",
       "      <th>(-) predicted</th>\n",
       "      <td>4709</td>\n",
       "      <td>28710</td>\n",
       "    </tr>\n",
       "  </tbody>\n",
       "</table>\n",
       "</div>"
      ],
      "text/plain": [
       "               (+) actual  (-) actual\n",
       "(+) predicted       56573       10412\n",
       "(-) predicted        4709       28710"
      ]
     },
     "execution_count": 42,
     "metadata": {},
     "output_type": "execute_result"
    }
   ],
   "source": [
    "yhat_test = grid.predict(X_test.astype(str))\n",
    "test_acc = accuracy_score(y_test, yhat_test)\n",
    "yhat_train = grid.predict(X_train.astype(str))\n",
    "train_acc = accuracy_score(y_train, yhat_train) \n",
    "\n",
    "print(f'''\n",
    "Training Accuracy: {train_acc}\n",
    "Testing Accuracy: {test_acc}\n",
    "''')\n",
    "\n",
    "_, __ = binary_confusion_matrix(y_test, yhat_test)\n",
    "_"
   ]
  },
  {
   "cell_type": "code",
   "execution_count": 43,
   "metadata": {},
   "outputs": [
    {
     "data": {
      "text/plain": [
       "['linearsvc.joblib']"
      ]
     },
     "execution_count": 43,
     "metadata": {},
     "output_type": "execute_result"
    }
   ],
   "source": [
    "dump(grid, 'models/linearsvc.joblib')"
   ]
  },
  {
   "cell_type": "markdown",
   "metadata": {},
   "source": [
    "### Test 2:  `TfidfVectorizer` feeding `MultinomialNB` via `GridSearchCV`\n",
    "\n",
    "Now we test a similar pipeline setup to before, only this time with a `MultinomialNB`.  As with the previous approach, a grid-search is performed over a range of hyperparameters for both steps in the process.  \n",
    "\n",
    "Note:  Several classifiers were sampled, yet several crashed.  For example, `XGBClassifier`'s grid-search was terminated by hand due to compute time.  `RandomForestClassifier` was also terminated for the same reason.  \n",
    "\n",
    "Also, via experimentation it was determined that an `ngram_range=(1,2)` works best on this data, so this parameter was not varied for computational turnover consideration."
   ]
  },
  {
   "cell_type": "code",
   "execution_count": 36,
   "metadata": {},
   "outputs": [
    {
     "name": "stdout",
     "output_type": "stream",
     "text": [
      "Fitting 3 folds for each of 10 candidates, totalling 30 fits\n"
     ]
    },
    {
     "name": "stderr",
     "output_type": "stream",
     "text": [
      "[Parallel(n_jobs=4)]: Done  30 out of  30 | elapsed:  1.8min finished\n"
     ]
    },
    {
     "data": {
      "text/plain": [
       "GridSearchCV(cv=3, error_score='raise',\n",
       "       estimator=Pipeline(memory=None,\n",
       "     steps=[('tfidf', TfidfVectorizer(analyzer='word', binary=False, decode_error='strict',\n",
       "        dtype=<class 'numpy.int64'>, encoding='utf-8', input='content',\n",
       "        lowercase=True, max_df=1.0, max_features=None, min_df=1,\n",
       "        ngram_range=(1, 1), norm='l2', preprocessor=None, smooth_idf=True,\n",
       " ...rue,\n",
       "        vocabulary=None)), ('clf', MultinomialNB(alpha=1.0, class_prior=None, fit_prior=True))]),\n",
       "       fit_params=None, iid=True, n_jobs=4,\n",
       "       param_grid={'tfidf__ngram_range': [(1, 2)], 'clf__alpha': [0, 0.001, 0.01, 0.1, 1], 'clf__fit_prior': [True, False]},\n",
       "       pre_dispatch='2*n_jobs', refit=True, return_train_score='warn',\n",
       "       scoring=None, verbose=1)"
      ]
     },
     "execution_count": 36,
     "metadata": {},
     "output_type": "execute_result"
    }
   ],
   "source": [
    "pipeline = Pipeline([\n",
    "    ('tfidf', TfidfVectorizer()),\n",
    "    ('clf', MultinomialNB())\n",
    "])\n",
    "\n",
    "params = {'tfidf__ngram_range': [(1,2)],\n",
    "         'clf__alpha': [0, .001, .01, .1, 1],\n",
    "         'clf__fit_prior': [True, False] \n",
    "         }\n",
    "\n",
    "grid = GridSearchCV(pipeline, params, cv=3, verbose=1, n_jobs=4)\n",
    "grid.fit(X_train, y_train)"
   ]
  },
  {
   "cell_type": "code",
   "execution_count": 37,
   "metadata": {},
   "outputs": [
    {
     "name": "stdout",
     "output_type": "stream",
     "text": [
      "\n",
      "Training Accuracy: 0.9813294745873404\n",
      "Testing Accuracy: 0.8573264013385921\n",
      "\n",
      "\n",
      "        Condition Positive:                        67872\n",
      "        Condition Negative:                        32532\n",
      "        Total Observations:                        100404\n",
      "        \n",
      "        True Positive:                             60266\n",
      "        True Negative:                             25813\n",
      "        False Positive:                            6719\n",
      "        False Negative                             7606\n",
      "        \n",
      "        True Positive Rate (recall):               88.79%\n",
      "        True Negative Rate (specificity):          79.35%\n",
      "        False Positive Rate (fall-out):            20.65%\n",
      "        False Negative Rate (miss rate):           11.21%\n",
      "        \n",
      "        Positive Predictive Value (precision):     89.97%\n",
      "        Negative Predictive Value:                 77.24%\n",
      "        \n"
     ]
    },
    {
     "data": {
      "text/html": [
       "<div>\n",
       "<style scoped>\n",
       "    .dataframe tbody tr th:only-of-type {\n",
       "        vertical-align: middle;\n",
       "    }\n",
       "\n",
       "    .dataframe tbody tr th {\n",
       "        vertical-align: top;\n",
       "    }\n",
       "\n",
       "    .dataframe thead th {\n",
       "        text-align: right;\n",
       "    }\n",
       "</style>\n",
       "<table border=\"1\" class=\"dataframe\">\n",
       "  <thead>\n",
       "    <tr style=\"text-align: right;\">\n",
       "      <th></th>\n",
       "      <th>(+) actual</th>\n",
       "      <th>(-) actual</th>\n",
       "    </tr>\n",
       "  </thead>\n",
       "  <tbody>\n",
       "    <tr>\n",
       "      <th>(+) predicted</th>\n",
       "      <td>60266</td>\n",
       "      <td>6719</td>\n",
       "    </tr>\n",
       "    <tr>\n",
       "      <th>(-) predicted</th>\n",
       "      <td>7606</td>\n",
       "      <td>25813</td>\n",
       "    </tr>\n",
       "  </tbody>\n",
       "</table>\n",
       "</div>"
      ],
      "text/plain": [
       "               (+) actual  (-) actual\n",
       "(+) predicted       60266        6719\n",
       "(-) predicted        7606       25813"
      ]
     },
     "execution_count": 37,
     "metadata": {},
     "output_type": "execute_result"
    }
   ],
   "source": [
    "yhat_test = grid.predict(X_test.astype(str))\n",
    "test_acc = accuracy_score(y_test, yhat_test)\n",
    "yhat_train = grid.predict(X_train.astype(str))\n",
    "train_acc = accuracy_score(y_train, yhat_train) \n",
    "\n",
    "print(f'''\n",
    "Training Accuracy: {train_acc}\n",
    "Testing Accuracy: {test_acc}\n",
    "''')\n",
    "\n",
    "_, __ = binary_confusion_matrix(y_test, yhat_test)\n",
    "_"
   ]
  },
  {
   "cell_type": "code",
   "execution_count": 38,
   "metadata": {},
   "outputs": [
    {
     "data": {
      "text/plain": [
       "Pipeline(memory=None,\n",
       "     steps=[('tfidf', TfidfVectorizer(analyzer='word', binary=False, decode_error='strict',\n",
       "        dtype=<class 'numpy.int64'>, encoding='utf-8', input='content',\n",
       "        lowercase=True, max_df=1.0, max_features=None, min_df=1,\n",
       "        ngram_range=(1, 2), norm='l2', preprocessor=None, smooth_idf=True,\n",
       " ...rue,\n",
       "        vocabulary=None)), ('clf', MultinomialNB(alpha=0.1, class_prior=None, fit_prior=True))])"
      ]
     },
     "execution_count": 38,
     "metadata": {},
     "output_type": "execute_result"
    }
   ],
   "source": [
    "grid.best_estimator_"
   ]
  },
  {
   "cell_type": "code",
   "execution_count": 39,
   "metadata": {},
   "outputs": [
    {
     "data": {
      "text/plain": [
       "['models/multinomialnb.joblib']"
      ]
     },
     "execution_count": 39,
     "metadata": {},
     "output_type": "execute_result"
    }
   ],
   "source": [
    "dump(grid, 'models/multinomialnb.joblib')"
   ]
  },
  {
   "cell_type": "markdown",
   "metadata": {},
   "source": [
    "### Test 3:  `TfidfVectorizer` feeding `BernoulliNB` via `GridSearchCV`\n",
    "\n",
    "A similar model is tested for incremental improvement below.  "
   ]
  },
  {
   "cell_type": "code",
   "execution_count": 32,
   "metadata": {},
   "outputs": [
    {
     "name": "stdout",
     "output_type": "stream",
     "text": [
      "Fitting 3 folds for each of 6 candidates, totalling 18 fits\n"
     ]
    },
    {
     "name": "stderr",
     "output_type": "stream",
     "text": [
      "[Parallel(n_jobs=4)]: Done  18 out of  18 | elapsed:  1.2min finished\n"
     ]
    },
    {
     "data": {
      "text/plain": [
       "GridSearchCV(cv=3, error_score='raise',\n",
       "       estimator=Pipeline(memory=None,\n",
       "     steps=[('tfidf', TfidfVectorizer(analyzer='word', binary=False, decode_error='strict',\n",
       "        dtype=<class 'numpy.int64'>, encoding='utf-8', input='content',\n",
       "        lowercase=True, max_df=1.0, max_features=None, min_df=1,\n",
       "        ngram_range=(1, 1), norm='l2', preprocessor=None, smooth_idf=True,\n",
       " ... vocabulary=None)), ('clf', BernoulliNB(alpha=1.0, binarize=0.0, class_prior=None, fit_prior=True))]),\n",
       "       fit_params=None, iid=True, n_jobs=4,\n",
       "       param_grid={'tfidf__ngram_range': [(1, 2)], 'clf__alpha': [0, 0.01, 0.1, 1, 10, 100], 'clf__fit_prior': [True]},\n",
       "       pre_dispatch='2*n_jobs', refit=True, return_train_score='warn',\n",
       "       scoring=None, verbose=1)"
      ]
     },
     "execution_count": 32,
     "metadata": {},
     "output_type": "execute_result"
    }
   ],
   "source": [
    "pipeline = Pipeline([\n",
    "    ('tfidf', TfidfVectorizer()),\n",
    "    ('clf', BernoulliNB())\n",
    "])\n",
    "\n",
    "params = {'tfidf__ngram_range': [(1,2)],\n",
    "         'clf__alpha': [0, .001, .0001, .01, .1],\n",
    "         'clf__fit_prior': [True]\n",
    "         }\n",
    "\n",
    "grid = GridSearchCV(pipeline, params, cv=3, verbose=1, n_jobs=4)\n",
    "grid.fit(X_train, y_train)"
   ]
  },
  {
   "cell_type": "markdown",
   "metadata": {},
   "source": [
    "Note performance is not as good as `MultinomialNB`.  "
   ]
  },
  {
   "cell_type": "code",
   "execution_count": 35,
   "metadata": {},
   "outputs": [
    {
     "name": "stdout",
     "output_type": "stream",
     "text": [
      "\n",
      "Training Accuracy: 0.9681397344124163\n",
      "Testing Accuracy: 0.8427054699015976\n",
      "\n",
      "\n",
      "        Condition Positive:                        66384\n",
      "        Condition Negative:                        34020\n",
      "        Total Observations:                        100404\n",
      "        \n",
      "        True Positive:                             58788\n",
      "        True Negative:                             25823\n",
      "        False Positive:                            8197\n",
      "        False Negative                             7596\n",
      "        \n",
      "        True Positive Rate (recall):               88.56%\n",
      "        True Negative Rate (specificity):          75.91%\n",
      "        False Positive Rate (fall-out):            24.09%\n",
      "        False Negative Rate (miss rate):           11.44%\n",
      "        \n",
      "        Positive Predictive Value (precision):     87.76%\n",
      "        Negative Predictive Value:                 77.27%\n",
      "        \n"
     ]
    },
    {
     "data": {
      "text/html": [
       "<div>\n",
       "<style scoped>\n",
       "    .dataframe tbody tr th:only-of-type {\n",
       "        vertical-align: middle;\n",
       "    }\n",
       "\n",
       "    .dataframe tbody tr th {\n",
       "        vertical-align: top;\n",
       "    }\n",
       "\n",
       "    .dataframe thead th {\n",
       "        text-align: right;\n",
       "    }\n",
       "</style>\n",
       "<table border=\"1\" class=\"dataframe\">\n",
       "  <thead>\n",
       "    <tr style=\"text-align: right;\">\n",
       "      <th></th>\n",
       "      <th>(+) actual</th>\n",
       "      <th>(-) actual</th>\n",
       "    </tr>\n",
       "  </thead>\n",
       "  <tbody>\n",
       "    <tr>\n",
       "      <th>(+) predicted</th>\n",
       "      <td>58788</td>\n",
       "      <td>8197</td>\n",
       "    </tr>\n",
       "    <tr>\n",
       "      <th>(-) predicted</th>\n",
       "      <td>7596</td>\n",
       "      <td>25823</td>\n",
       "    </tr>\n",
       "  </tbody>\n",
       "</table>\n",
       "</div>"
      ],
      "text/plain": [
       "               (+) actual  (-) actual\n",
       "(+) predicted       58788        8197\n",
       "(-) predicted        7596       25823"
      ]
     },
     "execution_count": 35,
     "metadata": {},
     "output_type": "execute_result"
    }
   ],
   "source": [
    "yhat_test = grid.predict(X_test.astype(str))\n",
    "test_acc = accuracy_score(y_test, yhat_test)\n",
    "yhat_train = grid.predict(X_train.astype(str))\n",
    "train_acc = accuracy_score(y_train, yhat_train) \n",
    "\n",
    "print(f'''\n",
    "Training Accuracy: {train_acc}\n",
    "Testing Accuracy: {test_acc}\n",
    "''')\n",
    "\n",
    "_, __ = binary_confusion_matrix(y_test, yhat_test)\n",
    "_"
   ]
  },
  {
   "cell_type": "code",
   "execution_count": 33,
   "metadata": {},
   "outputs": [
    {
     "data": {
      "text/plain": [
       "Pipeline(memory=None,\n",
       "     steps=[('tfidf', TfidfVectorizer(analyzer='word', binary=False, decode_error='strict',\n",
       "        dtype=<class 'numpy.int64'>, encoding='utf-8', input='content',\n",
       "        lowercase=True, max_df=1.0, max_features=None, min_df=1,\n",
       "        ngram_range=(1, 2), norm='l2', preprocessor=None, smooth_idf=True,\n",
       " ...vocabulary=None)), ('clf', BernoulliNB(alpha=0.01, binarize=0.0, class_prior=None, fit_prior=True))])"
      ]
     },
     "execution_count": 33,
     "metadata": {},
     "output_type": "execute_result"
    }
   ],
   "source": [
    "grid.best_estimator_"
   ]
  },
  {
   "cell_type": "code",
   "execution_count": 34,
   "metadata": {},
   "outputs": [
    {
     "data": {
      "text/plain": [
       "['models/bernoullinb.joblib']"
      ]
     },
     "execution_count": 34,
     "metadata": {},
     "output_type": "execute_result"
    }
   ],
   "source": [
    "dump(grid, 'models/bernoullinb.joblib')"
   ]
  },
  {
   "cell_type": "markdown",
   "metadata": {},
   "source": [
    "### Test 4:  Try and Improve Best Model with `CountVectorizer` as Feeding Mechanism"
   ]
  },
  {
   "cell_type": "code",
   "execution_count": 49,
   "metadata": {},
   "outputs": [
    {
     "name": "stdout",
     "output_type": "stream",
     "text": [
      "Fitting 3 folds for each of 6 candidates, totalling 18 fits\n"
     ]
    },
    {
     "name": "stderr",
     "output_type": "stream",
     "text": [
      "[Parallel(n_jobs=4)]: Done  18 out of  18 | elapsed:  1.3min finished\n"
     ]
    },
    {
     "data": {
      "text/plain": [
       "GridSearchCV(cv=3, error_score='raise',\n",
       "       estimator=Pipeline(memory=None,\n",
       "     steps=[('count', CountVectorizer(analyzer='word', binary=False, decode_error='strict',\n",
       "        dtype=<class 'numpy.int64'>, encoding='utf-8', input='content',\n",
       "        lowercase=True, max_df=1.0, max_features=None, min_df=1,\n",
       "        ngram_range=(1, 1), preprocessor=None, stop_words=None,\n",
       "        strip_accents=None, token_pattern='(?u)\\\\b\\\\w\\\\w+\\\\b',\n",
       "        tokenizer=None, vocabulary=None)), ('clf', MultinomialNB(alpha=1.0, class_prior=None, fit_prior=True))]),\n",
       "       fit_params=None, iid=True, n_jobs=4,\n",
       "       param_grid={'count__ngram_range': [(1, 2), (1, 3)], 'count__min_df': [1, 2, 4], 'clf__alpha': [0.1], 'clf__fit_prior': [True]},\n",
       "       pre_dispatch='2*n_jobs', refit=True, return_train_score='warn',\n",
       "       scoring=None, verbose=1)"
      ]
     },
     "execution_count": 49,
     "metadata": {},
     "output_type": "execute_result"
    }
   ],
   "source": [
    "pipeline = Pipeline([\n",
    "    ('count', CountVectorizer()),\n",
    "    ('clf', MultinomialNB())\n",
    "])\n",
    "\n",
    "params = {'count__ngram_range': [(1,2), (1,3)],\n",
    "         'count__min_df': [1, 2, 4],\n",
    "         'clf__alpha': [.1],\n",
    "         'clf__fit_prior': [True] \n",
    "         }\n",
    "\n",
    "grid = GridSearchCV(pipeline, params, cv=3, verbose=1, n_jobs=4)\n",
    "grid.fit(X_train, y_train)"
   ]
  },
  {
   "cell_type": "code",
   "execution_count": 50,
   "metadata": {},
   "outputs": [
    {
     "name": "stdout",
     "output_type": "stream",
     "text": [
      "\n",
      "Training Accuracy: 0.9726515646275926\n",
      "Testing Accuracy: 0.8598163419784073\n",
      "\n",
      "\n",
      "        Condition Positive:                        62954\n",
      "        Condition Negative:                        37450\n",
      "        Total Observations:                        100404\n",
      "        \n",
      "        True Positive:                             57932\n",
      "        True Negative:                             28397\n",
      "        False Positive:                            9053\n",
      "        False Negative                             5022\n",
      "        \n",
      "        True Positive Rate (recall):               92.02%\n",
      "        True Negative Rate (specificity):          75.83%\n",
      "        False Positive Rate (fall-out):            24.17%\n",
      "        False Negative Rate (miss rate):           7.98%\n",
      "        \n",
      "        Positive Predictive Value (precision):     86.49%\n",
      "        Negative Predictive Value:                 84.97%\n",
      "        \n",
      "Pipeline(memory=None,\n",
      "     steps=[('count', CountVectorizer(analyzer='word', binary=False, decode_error='strict',\n",
      "        dtype=<class 'numpy.int64'>, encoding='utf-8', input='content',\n",
      "        lowercase=True, max_df=1.0, max_features=None, min_df=1,\n",
      "        ngram_range=(1, 2), preprocessor=None, stop_words=None,\n",
      "        strip_accents=None, token_pattern='(?u)\\\\b\\\\w\\\\w+\\\\b',\n",
      "        tokenizer=None, vocabulary=None)), ('clf', MultinomialNB(alpha=0.1, class_prior=None, fit_prior=True))])\n"
     ]
    },
    {
     "data": {
      "text/html": [
       "<div>\n",
       "<style scoped>\n",
       "    .dataframe tbody tr th:only-of-type {\n",
       "        vertical-align: middle;\n",
       "    }\n",
       "\n",
       "    .dataframe tbody tr th {\n",
       "        vertical-align: top;\n",
       "    }\n",
       "\n",
       "    .dataframe thead th {\n",
       "        text-align: right;\n",
       "    }\n",
       "</style>\n",
       "<table border=\"1\" class=\"dataframe\">\n",
       "  <thead>\n",
       "    <tr style=\"text-align: right;\">\n",
       "      <th></th>\n",
       "      <th>(+) actual</th>\n",
       "      <th>(-) actual</th>\n",
       "    </tr>\n",
       "  </thead>\n",
       "  <tbody>\n",
       "    <tr>\n",
       "      <th>(+) predicted</th>\n",
       "      <td>57932</td>\n",
       "      <td>9053</td>\n",
       "    </tr>\n",
       "    <tr>\n",
       "      <th>(-) predicted</th>\n",
       "      <td>5022</td>\n",
       "      <td>28397</td>\n",
       "    </tr>\n",
       "  </tbody>\n",
       "</table>\n",
       "</div>"
      ],
      "text/plain": [
       "               (+) actual  (-) actual\n",
       "(+) predicted       57932        9053\n",
       "(-) predicted        5022       28397"
      ]
     },
     "execution_count": 50,
     "metadata": {},
     "output_type": "execute_result"
    }
   ],
   "source": [
    "yhat_test = grid.predict(X_test.astype(str))\n",
    "test_acc = accuracy_score(y_test, yhat_test)\n",
    "yhat_train = grid.predict(X_train.astype(str))\n",
    "train_acc = accuracy_score(y_train, yhat_train) \n",
    "\n",
    "print(f'''\n",
    "Training Accuracy: {train_acc}\n",
    "Testing Accuracy: {test_acc}\n",
    "''')\n",
    "\n",
    "_, __ = binary_confusion_matrix(y_test, yhat_test)\n",
    "print(grid.best_estimator_)\n",
    "_"
   ]
  },
  {
   "cell_type": "code",
   "execution_count": 51,
   "metadata": {},
   "outputs": [
    {
     "data": {
      "text/plain": [
       "['models/multinomialnb_countvec.joblib']"
      ]
     },
     "execution_count": 51,
     "metadata": {},
     "output_type": "execute_result"
    }
   ],
   "source": [
    "dump(grid, 'models/multinomialnb_countvec.joblib')"
   ]
  },
  {
   "cell_type": "markdown",
   "metadata": {},
   "source": [
    "## Conclusions on Classification of `is_shakespeare`\n",
    "\n",
    "It is clear that using some sensible pre-processing steps alongside some versatile algorithms that we are able to classify reasonably well whether a given line from a play (from Shakespeare's time) was indeed written by Shakespeare.  These models are likely only scratching the surface, and it is likely that custom word embeddings could improve on these models.  It is also possible that semantic analysis could help in modeling efforts.  \n",
    "\n",
    "The highest accuracy score was achieved using the `CountVectorizer` feeding a `MultinomialNB` model, achieving 85.98% accuracy on the test set.  This model also achieved a true positive rate of 92% and a precision of 86.49%.  All-in-all these are pretty good numbers given the simplicity of the approaches.  "
   ]
  }
 ],
 "metadata": {
  "kernelspec": {
   "display_name": "Python 3",
   "language": "python",
   "name": "python3"
  },
  "language_info": {
   "codemirror_mode": {
    "name": "ipython",
    "version": 3
   },
   "file_extension": ".py",
   "mimetype": "text/x-python",
   "name": "python",
   "nbconvert_exporter": "python",
   "pygments_lexer": "ipython3",
   "version": "3.6.5"
  }
 },
 "nbformat": 4,
 "nbformat_minor": 2
}
