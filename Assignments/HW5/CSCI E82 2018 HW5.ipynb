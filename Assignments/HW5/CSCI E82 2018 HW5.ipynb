{
 "cells": [
  {
   "cell_type": "markdown",
   "metadata": {},
   "source": [
    "### CSCI E-82  Homework 5 on CNNs\n",
    "\n",
    "### Due by 11/13/18 at 11:59pm EST to the Canvas dropbox\n",
    "\n",
    "## This is an individual homework so there should be no collaboration for this homework.\n",
    "\n",
    "\n",
    "### Under each problem, we have a place for you to write the answer, or write runnable code that will produce the answer.  Show your work.\n"
   ]
  },
  {
   "cell_type": "markdown",
   "metadata": {},
   "source": [
    "This is a busy time of year with homework and an exam coming up.  We are looking for a successful working result that builds upon the section code and enables you to gain some proficiency with this important and growing field of deep learning. \n",
    "\n",
    "Depending on your computer, some of the runs may still take a few minutes per epoch.  As a result, Problem 4 may take the better part of a day to run, so plan accordingly.  "
   ]
  },
  {
   "cell_type": "markdown",
   "metadata": {},
   "source": [
    "## Your Name: "
   ]
  },
  {
   "cell_type": "markdown",
   "metadata": {},
   "source": [
    "Paul M. Washburn"
   ]
  },
  {
   "cell_type": "markdown",
   "metadata": {},
   "source": [
    "ideas\n",
    "- trump tweets vs. stock and bond markets\n",
    "- topic extraction on trump tweets"
   ]
  },
  {
   "cell_type": "markdown",
   "metadata": {},
   "source": [
    "## Dataset\n",
    "\n",
    "WikiArt is an amazing resource containing centuries of artwork.  Since such datasets are wonderful for deep learning, Kaggle has hosted a challenge to characterize the 'fingerprints' of various artists.  The Kaggle dataset contains metadata and also a set of images that have been resized so that the shorter dimension is 256 pixels.  To make this homework reasonably fast even for those without GPUs, we have further reduced the images to 64 x 64.  CNNs and neural networks in general prefer to have consistent sizes.  To achieve this, we cut the center 256 pixels from the longer dimension and then shrunk the images by a factor of 4. This isn't a perfect solution since it did cut off a few heads as you will see.\n",
    "\n",
    "The selected images are for portraits and landscapes.  No, we're not talking about the orientation but rather the content of the images. Thanks to help from Rashmi and Dave, we have a small enough data set that should give reasonable results in a timely manner even on just a CPU.\n",
    "\n",
    "The data were originally divided into a training and a test set.  We have further divided the training set into a train and validation set.  In this homework you will be using the training set and validation set to train and assess your deep learning models.  At the final step, you will see how well your final training worked on the test set.  In each of these directories, there is a truth.txt file that has the image name and whether it is a portrait or landscape scene."
   ]
  },
  {
   "cell_type": "code",
   "execution_count": 79,
   "metadata": {},
   "outputs": [
    {
     "name": "stdout",
     "output_type": "stream",
     "text": [
      "Tensorflow is installed and is version:  1.12.0\n",
      "Keras is installed and is version:  2.1.6-tf\n"
     ]
    }
   ],
   "source": [
    "import warnings\n",
    "warnings.filterwarnings('ignore')\n",
    "import tensorflow as tf\n",
    "import pandas as pd\n",
    "import numpy as np\n",
    "import os\n",
    "import shutil\n",
    "from matplotlib import pyplot as plt\n",
    "from tensorflow import keras\n",
    "from PIL import Image\n",
    "import glob\n",
    "from tensorflow.keras.optimizers import *\n",
    "from tensorflow.keras.layers import *\n",
    "from tensorflow.keras.models import *\n",
    "from tensorflow.keras.preprocessing.image import ImageDataGenerator\n",
    "from tensorflow.keras import backend as K\n",
    "from tensorflow.keras.callbacks import TensorBoard, EarlyStopping\n",
    "from time import time\n",
    "\n",
    "if K.backend()=='tensorflow':\n",
    "    K.set_image_data_format('channels_last')\n",
    "%matplotlib inline\n",
    "\n",
    "print(\"Tensorflow is installed and is version: \",  tf.__version__)\n",
    "print(\"Keras is installed and is version: \", tf.keras.__version__)"
   ]
  },
  {
   "cell_type": "code",
   "execution_count": 55,
   "metadata": {},
   "outputs": [],
   "source": [
    "class TrainValTensorBoard(TensorBoard):\n",
    "    def __init__(self, log_dir='./logs/{}'.format(time()), **kwargs):\n",
    "        # Make the original `TensorBoard` log to a subdirectory 'training'\n",
    "        training_log_dir = os.path.join(log_dir, 'training')\n",
    "        super(TrainValTensorBoard, self).__init__(training_log_dir, **kwargs)\n",
    "\n",
    "        # Log the validation metrics to a separate subdirectory\n",
    "        self.val_log_dir = os.path.join(log_dir, 'validation')\n",
    "\n",
    "    def set_model(self, model):\n",
    "        # Setup writer for validation metrics\n",
    "        self.val_writer = tf.summary.FileWriter(self.val_log_dir)\n",
    "        super(TrainValTensorBoard, self).set_model(model)\n",
    "\n",
    "    def on_epoch_end(self, epoch, logs=None):\n",
    "        # Pop the validation logs and handle them separately with\n",
    "        # `self.val_writer`. Also rename the keys so that they can\n",
    "        # be plotted on the same figure with the training metrics\n",
    "        logs = logs or {}\n",
    "        val_logs = {k.replace('val_', ''): v for k, v in logs.items() if k.startswith('val_')}\n",
    "        for name, value in val_logs.items():\n",
    "            summary = tf.Summary()\n",
    "            summary_value = summary.value.add()\n",
    "            summary_value.simple_value = value.item()\n",
    "            summary_value.tag = name\n",
    "            self.val_writer.add_summary(summary, epoch)\n",
    "        self.val_writer.flush()\n",
    "\n",
    "        # Pass the remaining logs to `TensorBoard.on_epoch_end`\n",
    "        logs = {k: v for k, v in logs.items() if not k.startswith('val_')}\n",
    "        super(TrainValTensorBoard, self).on_epoch_end(epoch, logs)\n",
    "\n",
    "    def on_train_end(self, logs=None):\n",
    "        super(TrainValTensorBoard, self).on_train_end(logs)\n",
    "        self.val_writer.close()"
   ]
  },
  {
   "cell_type": "markdown",
   "metadata": {},
   "source": [
    "## Problem 1 (5 points)\n",
    "\n",
    "Read in and display the first 5 portraits and the first 5 landscapes.  Note, if you are using the OpenCV tools, then the color may be distorted.  The cvtColor() method using cv2.COLOR_BGR2RGB may be useful.  However, it is likely easier to use the generator and plot_strip example from section."
   ]
  },
  {
   "cell_type": "code",
   "execution_count": 35,
   "metadata": {},
   "outputs": [
    {
     "data": {
      "image/png": "[encoded data removed]",
      "text/plain": [
       "<Figure size 1224x360 with 5 Axes>"
      ]
     },
     "metadata": {},
     "output_type": "display_data"
    }
   ],
   "source": [
    "image_list = []\n",
    "train_files = glob.glob('data/images64/train/*.jpg')\n",
    "i = 0\n",
    "\n",
    "fig, axes = plt.subplots(1, 5, figsize=(17, 5))\n",
    "for f in train_files:\n",
    "    while i < 5:\n",
    "        ax = axes[i]\n",
    "        img = Image.open(f)\n",
    "        ax.imshow(np.asarray(img))\n",
    "        i += 1\n",
    "        img.close()\n",
    "plt.show()"
   ]
  },
  {
   "cell_type": "markdown",
   "metadata": {},
   "source": [
    "## Problem 2 (25 points)\n",
    "\n",
    "Construct a baseline CNN classifier using Keras for the training set and assess the validation set performance at each epoch. The goal is to correctly classify portraits from landscapes. Plot the resulting performance on the training and validation set as a function of epoch using the criteria over which you are optimizing.  You should run at least 20 epochs for this problem."
   ]
  },
  {
   "cell_type": "code",
   "execution_count": 12,
   "metadata": {},
   "outputs": [],
   "source": [
    "base_dir = 'data/images64'\n",
    "train_dir = os.path.join(base_dir, 'train')\n",
    "validation_dir = os.path.join(base_dir, 'validation')\n",
    "test_dir = os.path.join(base_dir, 'test')"
   ]
  },
  {
   "cell_type": "code",
   "execution_count": 45,
   "metadata": {},
   "outputs": [],
   "source": [
    "train_labels = pd.read_table('data/images64/train/truth.txt', header=None)\n",
    "val_labels = pd.read_table('data/images64/validation/truth.txt', header=None)"
   ]
  },
  {
   "cell_type": "markdown",
   "metadata": {},
   "source": [
    " ***Do not re-run the code below - It was to move files***"
   ]
  },
  {
   "cell_type": "code",
   "execution_count": 57,
   "metadata": {},
   "outputs": [],
   "source": [
    "# os.mkdir(os.path.join(train_dir, 'landscape'))\n",
    "# os.mkdir(os.path.join(train_dir, 'portrait'))\n",
    "# os.mkdir(os.path.join(validation_dir, 'landscape'))\n",
    "# os.mkdir(os.path.join(validation_dir, 'portrait'))"
   ]
  },
  {
   "cell_type": "code",
   "execution_count": 59,
   "metadata": {},
   "outputs": [],
   "source": [
    "# # move training files\n",
    "# for landscape_pic in train_labels.loc[train_labels[1]=='landscape', 0]:\n",
    "#     current_home = os.path.join(train_dir, landscape_pic)\n",
    "#     new_home = os.path.join(os.path.join(train_dir, 'landscape'), landscape_pic)\n",
    "#     shutil.move(current_home, new_home)\n",
    "    \n",
    "# for portrait_pic in train_labels.loc[train_labels[1]=='portrait', 0]:\n",
    "#     current_home = os.path.join(train_dir, portrait_pic)\n",
    "#     new_home = os.path.join(os.path.join(train_dir, 'portrait'), portrait_pic)\n",
    "#     shutil.move(current_home, new_home)\n",
    "    \n",
    "# # move validation files\n",
    "# for landscape_pic in val_labels.loc[val_labels[1]=='landscape', 0]:\n",
    "#     current_home = os.path.join(validation_dir, landscape_pic)\n",
    "#     new_home = os.path.join(os.path.join(validation_dir, 'landscape'), landscape_pic)\n",
    "#     shutil.move(current_home, new_home)\n",
    "    \n",
    "# for portrait_pic in val_labels.loc[val_labels[1]=='portrait', 0]:\n",
    "#     current_home = os.path.join(validation_dir, portrait_pic)\n",
    "#     new_home = os.path.join(os.path.join(validation_dir, 'portrait'), portrait_pic)\n",
    "#     shutil.move(current_home, new_home)"
   ]
  },
  {
   "cell_type": "code",
   "execution_count": 77,
   "metadata": {},
   "outputs": [
    {
     "name": "stdout",
     "output_type": "stream",
     "text": [
      "Found 16315 images belonging to 2 classes.\n",
      "Found 8158 images belonging to 2 classes.\n"
     ]
    }
   ],
   "source": [
    "train_generator = ImageDataGenerator(rescale=1./255).flow_from_directory(\n",
    "        # This is the target directory\n",
    "        train_dir,\n",
    "        # All images will be resized to 64x64\n",
    "        target_size=(64, 64),\n",
    "        batch_size=128,\n",
    "        # Since we use binary_crossentropy loss, we need binary labels\n",
    "        class_mode='binary')\n",
    "\n",
    "validation_generator = ImageDataGenerator(rescale=1./255).flow_from_directory(\n",
    "        validation_dir,\n",
    "        target_size=(64, 64),\n",
    "        batch_size=128,\n",
    "        class_mode='binary')"
   ]
  },
  {
   "cell_type": "code",
   "execution_count": 78,
   "metadata": {
    "scrolled": false
   },
   "outputs": [
    {
     "name": "stdout",
     "output_type": "stream",
     "text": [
      "Epoch 1/10\n",
      "100/100 [==============================] - 97s 973ms/step - loss: 0.5721 - acc: 0.6906 - val_loss: 0.4250 - val_acc: 0.7961\n",
      "Epoch 2/10\n",
      "100/100 [==============================] - 93s 931ms/step - loss: 0.3982 - acc: 0.8180 - val_loss: 0.3633 - val_acc: 0.8370\n",
      "Epoch 3/10\n",
      "100/100 [==============================] - 94s 942ms/step - loss: 0.3673 - acc: 0.8378 - val_loss: 0.3228 - val_acc: 0.8595\n",
      "Epoch 4/10\n",
      "100/100 [==============================] - 91s 911ms/step - loss: 0.2985 - acc: 0.8752 - val_loss: 0.2812 - val_acc: 0.8827\n",
      "Epoch 5/10\n",
      "100/100 [==============================] - 94s 937ms/step - loss: 0.2619 - acc: 0.8925 - val_loss: 0.2975 - val_acc: 0.8681\n",
      "Epoch 6/10\n",
      "100/100 [==============================] - 93s 927ms/step - loss: 0.2341 - acc: 0.9046 - val_loss: 0.2592 - val_acc: 0.8950\n",
      "Epoch 7/10\n",
      "100/100 [==============================] - 96s 962ms/step - loss: 0.2237 - acc: 0.9105 - val_loss: 0.2612 - val_acc: 0.8908\n",
      "Epoch 8/10\n",
      "100/100 [==============================] - 91s 905ms/step - loss: 0.1995 - acc: 0.9198 - val_loss: 0.2943 - val_acc: 0.8931\n",
      "Epoch 9/10\n",
      "100/100 [==============================] - 95s 952ms/step - loss: 0.1832 - acc: 0.9254 - val_loss: 0.2425 - val_acc: 0.9084\n",
      "Epoch 10/10\n",
      "100/100 [==============================] - 93s 928ms/step - loss: 0.1489 - acc: 0.9396 - val_loss: 0.3501 - val_acc: 0.8823\n",
      "_________________________________________________________________\n",
      "Layer (type)                 Output Shape              Param #   \n",
      "=================================================================\n",
      "conv1 (Conv2D)               (None, 63, 63, 32)        416       \n",
      "_________________________________________________________________\n",
      "max_pool1 (AveragePooling2D) (None, 31, 31, 32)        0         \n",
      "_________________________________________________________________\n",
      "conv2 (Conv2D)               (None, 27, 27, 64)        51264     \n",
      "_________________________________________________________________\n",
      "conv3 (Conv2D)               (None, 23, 23, 32)        51232     \n",
      "_________________________________________________________________\n",
      "max_pool2 (AveragePooling2D) (None, 11, 11, 32)        0         \n",
      "_________________________________________________________________\n",
      "flatten (Flatten)            (None, 3872)              0         \n",
      "_________________________________________________________________\n",
      "fc1 (Dense)                  (None, 128)               495744    \n",
      "_________________________________________________________________\n",
      "fc2 (Dense)                  (None, 1)                 129       \n",
      "=================================================================\n",
      "Total params: 598,785\n",
      "Trainable params: 598,785\n",
      "Non-trainable params: 0\n",
      "_________________________________________________________________\n"
     ]
    }
   ],
   "source": [
    "K.clear_session()\n",
    "\n",
    "kernel_size = (2, 2)\n",
    " \n",
    "early_stopping = EarlyStopping(patience=3)\n",
    "tensorboard = TensorBoard(log_dir=\"logs/{}\".format(time()))\n",
    "\n",
    "model = Sequential(name='cnn')\n",
    "\n",
    "# first convolution\n",
    "model.add(Conv2D(32, kernel_size, activation='relu',\n",
    "                 input_shape=(64, 64, 3), \n",
    "                 name='conv1'))\n",
    "model.add(AveragePooling2D(kernel_size, name='max_pool1'))\n",
    "\n",
    "# second convolution\n",
    "model.add(Conv2D(64, (5, 5), activation='relu', name = 'conv2'))\n",
    "model.add(Conv2D(32, (5, 5), activation='relu', name = 'conv3'))\n",
    "model.add(AveragePooling2D(kernel_size, name='max_pool2'))\n",
    "\n",
    "# model.add(Conv2D(64, (5, 5), activation='relu', name = 'conv4'))\n",
    "# model.add(Conv2D(32, (5, 5), activation='relu', name = 'conv5'))\n",
    "# model.add(AveragePooling2D(kernel_size, name='max_pool3'))\n",
    "\n",
    "model.add(Flatten())\n",
    "model.add(Dense(128, activation='relu', name='fc1'))\n",
    "model.add(Dense(1, activation='sigmoid', name='fc2'))\n",
    "\n",
    "sgd = SGD(lr = 0.05, decay=1e-6, momentum=0.9, nesterov=True)\n",
    "\n",
    "model.compile(loss='binary_crossentropy',\n",
    "              #optimizer=optimizers.RMSprop(lr=1e-4),\n",
    "              optimizer=sgd,\n",
    "              metrics=['accuracy'])\n",
    "\n",
    "\n",
    "# fit model\n",
    "history = model.fit_generator(train_generator,\n",
    "                            steps_per_epoch=100,\n",
    "                            epochs=10,\n",
    "                            validation_data=validation_generator,\n",
    "                            validation_steps=50,\n",
    "                            verbose=1, \n",
    "                            callbacks=[tensorboard, early_stopping])\n",
    "\n",
    "model.summary()"
   ]
  },
  {
   "cell_type": "markdown",
   "metadata": {},
   "source": [
    "To start tensorboard:\n",
    "\n",
    "```\n",
    "Pauls-MacBook-Pro:HW5 pmw$ tensorboard --logdir=logs\n",
    "```"
   ]
  },
  {
   "cell_type": "markdown",
   "metadata": {},
   "source": [
    "## Problem 3 (5 points)\n",
    "\n",
    "From the pattern of training and validation curves, describe what is good/bad and what you plan to do next to improve the result."
   ]
  },
  {
   "cell_type": "code",
   "execution_count": null,
   "metadata": {},
   "outputs": [],
   "source": []
  },
  {
   "cell_type": "markdown",
   "metadata": {},
   "source": [
    "## Problem 4 (45 points)\n",
    "\n",
    "This step is where we want you to do most of your personal learning.  Your goal is to improve the network using a combination of architecture choices, parameter tuning, and experimenting with different optimizers/dropout/regularization/etc. Treat each of these as separate optimization/exploration steps for now.  We would like to see 3 separate steps that cover different areas.  The format of the 3 steps should be as follows:\n",
    "  * State the hypothesis/strategy for how you will improve/explore a particular aspect.\n",
    "  * Describe what types of tests you are running and why (i.e. what range of parameters are you choosing and why)\n",
    "  * Include the code and results\n",
    "  * State your interpretation of the results\n",
    " \n",
    "We're not looking for research in deep learning, but we want you to gain some hands-on experience working with Keras and figuring out what works. A good example may be comparing strategies to overcome overfitting, or comparing a few different CNN architectures in terms of performance and speed, or comparing data augmentation types and results.  \n",
    " \n"
   ]
  },
  {
   "cell_type": "markdown",
   "metadata": {},
   "source": [
    "### Hypothesis 1"
   ]
  },
  {
   "cell_type": "code",
   "execution_count": null,
   "metadata": {},
   "outputs": [],
   "source": []
  },
  {
   "cell_type": "markdown",
   "metadata": {},
   "source": [
    "### Hypothesis 2"
   ]
  },
  {
   "cell_type": "code",
   "execution_count": null,
   "metadata": {},
   "outputs": [],
   "source": []
  },
  {
   "cell_type": "markdown",
   "metadata": {},
   "source": [
    "### Hypothesis 3"
   ]
  },
  {
   "cell_type": "code",
   "execution_count": null,
   "metadata": {},
   "outputs": [],
   "source": []
  },
  {
   "cell_type": "markdown",
   "metadata": {},
   "source": [
    "## Problem 5 (10 points)\n",
    "\n",
    "Assess your best model on the test data.  Plot the corresponding ROC curve from the results (since we've provided the truth).  This was not directly covered in section, but will require a prediction using images in the same format as the training.  We suggest referring to the Keras API else use a Google to search to find how to make predictions."
   ]
  },
  {
   "cell_type": "code",
   "execution_count": null,
   "metadata": {},
   "outputs": [],
   "source": []
  },
  {
   "cell_type": "markdown",
   "metadata": {},
   "source": [
    "## Problem 6 (5 points)\n",
    "\n",
    "Display the 5 images [worst] misclassified images for each class.  Worst is in brackets since certain architectures may only make a binary decision rather than a score.  In that case, plot 5 of each."
   ]
  },
  {
   "cell_type": "code",
   "execution_count": null,
   "metadata": {},
   "outputs": [],
   "source": []
  },
  {
   "cell_type": "markdown",
   "metadata": {},
   "source": [
    "## Problem 7 (2 points)\n",
    "How many hours did this homework take you? The answer to this question will not affect your grade."
   ]
  },
  {
   "cell_type": "code",
   "execution_count": null,
   "metadata": {},
   "outputs": [],
   "source": []
  },
  {
   "cell_type": "markdown",
   "metadata": {},
   "source": [
    "## Last step (3 points)\n",
    "Save this notebook as LastnameFirstnameHW5.ipynb such as PriceDavid.ipynb. Create a pdf of this notebook named similarly. Submit both the python notebook and the pdf version to the Canvas dropbox. We require both versions."
   ]
  },
  {
   "cell_type": "code",
   "execution_count": null,
   "metadata": {},
   "outputs": [],
   "source": []
  }
 ],
 "metadata": {
  "kernelspec": {
   "display_name": "Python 3",
   "language": "python",
   "name": "python3"
  },
  "language_info": {
   "codemirror_mode": {
    "name": "ipython",
    "version": 3
   },
   "file_extension": ".py",
   "mimetype": "text/x-python",
   "name": "python",
   "nbconvert_exporter": "python",
   "pygments_lexer": "ipython3",
   "version": "3.6.5"
  }
 },
 "nbformat": 4,
 "nbformat_minor": 2
}
