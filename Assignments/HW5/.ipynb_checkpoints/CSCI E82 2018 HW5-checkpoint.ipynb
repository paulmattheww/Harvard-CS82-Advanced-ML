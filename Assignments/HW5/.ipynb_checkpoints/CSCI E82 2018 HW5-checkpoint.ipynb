{
 "cells": [
  {
   "cell_type": "markdown",
   "metadata": {},
   "source": [
    "### CSCI E-82  Homework 5 on CNNs\n",
    "\n",
    "### Due by 11/13/18 at 11:59pm EST to the Canvas dropbox\n",
    "\n",
    "## This is an individual homework so there should be no collaboration for this homework.\n",
    "\n",
    "\n",
    "### Under each problem, we have a place for you to write the answer, or write runnable code that will produce the answer.  Show your work.\n"
   ]
  },
  {
   "cell_type": "markdown",
   "metadata": {},
   "source": [
    "This is a busy time of year with homework and an exam coming up.  We are looking for a successful working result that builds upon the section code and enables you to gain some proficiency with this important and growing field of deep learning. \n",
    "\n",
    "Depending on your computer, some of the runs may still take a few minutes per epoch.  As a result, Problem 4 may take the better part of a day to run, so plan accordingly.  "
   ]
  },
  {
   "cell_type": "markdown",
   "metadata": {},
   "source": [
    "## Your Name: "
   ]
  },
  {
   "cell_type": "markdown",
   "metadata": {},
   "source": [
    "Paul M. Washburn"
   ]
  },
  {
   "cell_type": "markdown",
   "metadata": {},
   "source": [
    "ideas\n",
    "- trump tweets vs. stock and bond markets\n",
    "- topic extraction on trump tweets"
   ]
  },
  {
   "cell_type": "markdown",
   "metadata": {},
   "source": [
    "## Dataset\n",
    "\n",
    "WikiArt is an amazing resource containing centuries of artwork.  Since such datasets are wonderful for deep learning, Kaggle has hosted a challenge to characterize the 'fingerprints' of various artists.  The Kaggle dataset contains metadata and also a set of images that have been resized so that the shorter dimension is 256 pixels.  To make this homework reasonably fast even for those without GPUs, we have further reduced the images to 64 x 64.  CNNs and neural networks in general prefer to have consistent sizes.  To achieve this, we cut the center 256 pixels from the longer dimension and then shrunk the images by a factor of 4. This isn't a perfect solution since it did cut off a few heads as you will see.\n",
    "\n",
    "The selected images are for portraits and landscapes.  No, we're not talking about the orientation but rather the content of the images. Thanks to help from Rashmi and Dave, we have a small enough data set that should give reasonable results in a timely manner even on just a CPU.\n",
    "\n",
    "The data were originally divided into a training and a test set.  We have further divided the training set into a train and validation set.  In this homework you will be using the training set and validation set to train and assess your deep learning models.  At the final step, you will see how well your final training worked on the test set.  In each of these directories, there is a truth.txt file that has the image name and whether it is a portrait or landscape scene."
   ]
  },
  {
   "cell_type": "code",
   "execution_count": 1,
   "metadata": {},
   "outputs": [
    {
     "name": "stdout",
     "output_type": "stream",
     "text": [
      "Tensorflow is installed and is version:  1.10.0\n",
      "Keras is installed and is version:  2.1.6-tf\n"
     ]
    }
   ],
   "source": [
    "import warnings\n",
    "warnings.filterwarnings('ignore')\n",
    "import tensorflow as tf\n",
    "import pandas as pd\n",
    "import numpy as np\n",
    "import os\n",
    "import shutil\n",
    "from matplotlib import pyplot as plt\n",
    "from tensorflow import keras\n",
    "from PIL import Image\n",
    "import glob\n",
    "from tensorflow.keras.optimizers import *\n",
    "from tensorflow.keras.layers import *\n",
    "from tensorflow.keras.models import *\n",
    "from tensorflow.keras.preprocessing.image import ImageDataGenerator\n",
    "from tensorflow.keras import backend as K\n",
    "from tensorflow.keras.callbacks import TensorBoard, EarlyStopping\n",
    "from time import time\n",
    "\n",
    "if K.backend()=='tensorflow':\n",
    "    K.set_image_data_format('channels_last')\n",
    "%matplotlib inline\n",
    "\n",
    "print(\"Tensorflow is installed and is version: \",  tf.__version__)\n",
    "print(\"Keras is installed and is version: \", tf.keras.__version__)"
   ]
  },
  {
   "cell_type": "code",
   "execution_count": 2,
   "metadata": {},
   "outputs": [],
   "source": [
    "class TrainValTensorBoard(TensorBoard):\n",
    "    def __init__(self, log_dir='./logs/{}'.format(time()), **kwargs):\n",
    "        # Make the original `TensorBoard` log to a subdirectory 'training'\n",
    "        training_log_dir = os.path.join(log_dir, 'training')\n",
    "        super(TrainValTensorBoard, self).__init__(training_log_dir, **kwargs)\n",
    "\n",
    "        # Log the validation metrics to a separate subdirectory\n",
    "        self.val_log_dir = os.path.join(log_dir, 'validation')\n",
    "\n",
    "    def set_model(self, model):\n",
    "        # Setup writer for validation metrics\n",
    "        self.val_writer = tf.summary.FileWriter(self.val_log_dir)\n",
    "        super(TrainValTensorBoard, self).set_model(model)\n",
    "\n",
    "    def on_epoch_end(self, epoch, logs=None):\n",
    "        # Pop the validation logs and handle them separately with\n",
    "        # `self.val_writer`. Also rename the keys so that they can\n",
    "        # be plotted on the same figure with the training metrics\n",
    "        logs = logs or {}\n",
    "        val_logs = {k.replace('val_', ''): v for k, v in logs.items() if k.startswith('val_')}\n",
    "        for name, value in val_logs.items():\n",
    "            summary = tf.Summary()\n",
    "            summary_value = summary.value.add()\n",
    "            summary_value.simple_value = value.item()\n",
    "            summary_value.tag = name\n",
    "            self.val_writer.add_summary(summary, epoch)\n",
    "        self.val_writer.flush()\n",
    "\n",
    "        # Pass the remaining logs to `TensorBoard.on_epoch_end`\n",
    "        logs = {k: v for k, v in logs.items() if not k.startswith('val_')}\n",
    "        super(TrainValTensorBoard, self).on_epoch_end(epoch, logs)\n",
    "\n",
    "    def on_train_end(self, logs=None):\n",
    "        super(TrainValTensorBoard, self).on_train_end(logs)\n",
    "        self.val_writer.close()"
   ]
  },
  {
   "cell_type": "code",
   "execution_count": 5,
   "metadata": {},
   "outputs": [],
   "source": [
    "base_dir = 'data/images64'\n",
    "train_dir = os.path.join(base_dir, 'train')\n",
    "validation_dir = os.path.join(base_dir, 'validation')\n",
    "test_dir = os.path.join(base_dir, 'test')"
   ]
  },
  {
   "cell_type": "code",
   "execution_count": 6,
   "metadata": {},
   "outputs": [],
   "source": [
    "train_labels = pd.read_table('data/images64/train/truth.txt', header=None)\n",
    "val_labels = pd.read_table('data/images64/validation/truth.txt', header=None)"
   ]
  },
  {
   "cell_type": "markdown",
   "metadata": {},
   "source": [
    "***Do Not Re-run Code Below, Only Run Once***\n",
    "```python\n",
    "os.mkdir(os.path.join(train_dir, 'landscape'))\n",
    "os.mkdir(os.path.join(train_dir, 'portrait'))\n",
    "os.mkdir(os.path.join(validation_dir, 'landscape'))\n",
    "os.mkdir(os.path.join(validation_dir, 'portrait'))\n",
    "```"
   ]
  },
  {
   "cell_type": "markdown",
   "metadata": {},
   "source": [
    "```python\n",
    "# move training files\n",
    "for landscape_pic in train_labels.loc[train_labels[1]=='landscape', 0]:\n",
    "    current_home = os.path.join(train_dir, landscape_pic)\n",
    "    new_home = os.path.join(os.path.join(train_dir, 'landscape'), landscape_pic)\n",
    "    shutil.move(current_home, new_home)\n",
    "    \n",
    "for portrait_pic in train_labels.loc[train_labels[1]=='portrait', 0]:\n",
    "    current_home = os.path.join(train_dir, portrait_pic)\n",
    "    new_home = os.path.join(os.path.join(train_dir, 'portrait'), portrait_pic)\n",
    "    shutil.move(current_home, new_home)\n",
    "    \n",
    "# move validation files\n",
    "for landscape_pic in val_labels.loc[val_labels[1]=='landscape', 0]:\n",
    "    current_home = os.path.join(validation_dir, landscape_pic)\n",
    "    new_home = os.path.join(os.path.join(validation_dir, 'landscape'), landscape_pic)\n",
    "    shutil.move(current_home, new_home)\n",
    "    \n",
    "for portrait_pic in val_labels.loc[val_labels[1]=='portrait', 0]:\n",
    "    current_home = os.path.join(validation_dir, portrait_pic)\n",
    "    new_home = os.path.join(os.path.join(validation_dir, 'portrait'), portrait_pic)\n",
    "    shutil.move(current_home, new_home)\n",
    "```"
   ]
  },
  {
   "cell_type": "markdown",
   "metadata": {},
   "source": [
    "## Problem 1 (5 points)\n",
    "\n",
    "Read in and display the first 5 portraits and the first 5 landscapes.  Note, if you are using the OpenCV tools, then the color may be distorted.  The cvtColor() method using cv2.COLOR_BGR2RGB may be useful.  However, it is likely easier to use the generator and plot_strip example from section."
   ]
  },
  {
   "cell_type": "code",
   "execution_count": 9,
   "metadata": {},
   "outputs": [
    {
     "data": {
      "image/png": "[encoded data removed]",
      "text/plain": [
       "<Figure size 1224x360 with 5 Axes>"
      ]
     },
     "metadata": {},
     "output_type": "display_data"
    }
   ],
   "source": [
    "train_files = glob.glob('data/images64/train/landscape/*.jpg')\n",
    "i = 0\n",
    "fig, axes = plt.subplots(1, 5, figsize=(17, 5))\n",
    "for f in train_files:\n",
    "    while i < 5:\n",
    "        img = Image.open(f)\n",
    "        axes[i].imshow(np.asarray(img))\n",
    "        img.close()\n",
    "    i += 1\n",
    "plt.show()"
   ]
  },
  {
   "cell_type": "markdown",
   "metadata": {},
   "source": [
    "## Problem 2 (25 points)\n",
    "\n",
    "Construct a baseline CNN classifier using Keras for the training set and assess the validation set performance at each epoch. The goal is to correctly classify portraits from landscapes. Plot the resulting performance on the training and validation set as a function of epoch using the criteria over which you are optimizing.  You should run at least 20 epochs for this problem."
   ]
  },
  {
   "cell_type": "code",
   "execution_count": 14,
   "metadata": {},
   "outputs": [
    {
     "name": "stdout",
     "output_type": "stream",
     "text": [
      "Found 16315 images belonging to 2 classes.\n",
      "Found 8158 images belonging to 2 classes.\n"
     ]
    }
   ],
   "source": [
    "# select batch_size\n",
    "batch_size = 256\n",
    "\n",
    "train_datagen = ImageDataGenerator(rescale=1./255,\n",
    "                                   #featurewise_center=True,\n",
    "                                   #featurewise_std_normalization=True,\n",
    "                                   rotation_range=20,\n",
    "                                   width_shift_range=0.2,\n",
    "                                   height_shift_range=0.2,\n",
    "                                   horizontal_flip=True)\n",
    "train_generator = train_datagen.flow_from_directory(\n",
    "        train_dir,\n",
    "        target_size=(64, 64),\n",
    "        batch_size=batch_size, # somewhat arbitrarily chosen\n",
    "        class_mode='binary')\n",
    "\n",
    "val_datagen = ImageDataGenerator(rescale=1./255,\n",
    "                                #featurewise_center=True,\n",
    "                                #featurewise_std_normalization=True,\n",
    "                                rotation_range=20,\n",
    "                                width_shift_range=0.2,\n",
    "                                height_shift_range=0.2,\n",
    "                                horizontal_flip=True)\n",
    "validation_generator = val_datagen.flow_from_directory(validation_dir,\n",
    "                                                        target_size=(64, 64),\n",
    "                                                        batch_size=batch_size,\n",
    "                                                        class_mode='binary')"
   ]
  },
  {
   "cell_type": "code",
   "execution_count": 17,
   "metadata": {},
   "outputs": [],
   "source": [
    "np.random.seed(777)"
   ]
  },
  {
   "cell_type": "code",
   "execution_count": 18,
   "metadata": {
    "scrolled": false
   },
   "outputs": [
    {
     "name": "stdout",
     "output_type": "stream",
     "text": [
      "Epoch 1/25\n",
      "100/100 [==============================] - 165s 2s/step - loss: 0.5147 - acc: 0.7456 - val_loss: 0.4054 - val_acc: 0.8146\n",
      "Epoch 2/25\n",
      "100/100 [==============================] - 162s 2s/step - loss: 0.3820 - acc: 0.8307 - val_loss: 0.3444 - val_acc: 0.8524\n",
      "Epoch 3/25\n",
      "100/100 [==============================] - 166s 2s/step - loss: 0.3449 - acc: 0.8540 - val_loss: 0.3155 - val_acc: 0.8702\n",
      "Epoch 4/25\n",
      "100/100 [==============================] - 166s 2s/step - loss: 0.3257 - acc: 0.8609 - val_loss: 0.2901 - val_acc: 0.8830\n",
      "Epoch 5/25\n",
      "100/100 [==============================] - 164s 2s/step - loss: 0.2989 - acc: 0.8796 - val_loss: 0.2790 - val_acc: 0.8945\n",
      "Epoch 6/25\n",
      "100/100 [==============================] - 167s 2s/step - loss: 0.2953 - acc: 0.8795 - val_loss: 0.2697 - val_acc: 0.8919\n",
      "Epoch 7/25\n",
      "100/100 [==============================] - 164s 2s/step - loss: 0.2827 - acc: 0.8876 - val_loss: 0.2678 - val_acc: 0.8960\n",
      "Epoch 8/25\n",
      "100/100 [==============================] - 166s 2s/step - loss: 0.2723 - acc: 0.8927 - val_loss: 0.2577 - val_acc: 0.8953\n",
      "Epoch 9/25\n",
      "100/100 [==============================] - 166s 2s/step - loss: 0.2700 - acc: 0.8937 - val_loss: 0.2594 - val_acc: 0.8943\n",
      "Epoch 10/25\n",
      "100/100 [==============================] - 166s 2s/step - loss: 0.2672 - acc: 0.8946 - val_loss: 0.2534 - val_acc: 0.9021\n",
      "Epoch 11/25\n",
      "100/100 [==============================] - 165s 2s/step - loss: 0.2648 - acc: 0.8946 - val_loss: 0.2382 - val_acc: 0.9061\n",
      "Epoch 12/25\n",
      "100/100 [==============================] - 161s 2s/step - loss: 0.2580 - acc: 0.8973 - val_loss: 0.2533 - val_acc: 0.9071\n",
      "Epoch 13/25\n",
      "100/100 [==============================] - 164s 2s/step - loss: 0.2543 - acc: 0.9001 - val_loss: 0.2484 - val_acc: 0.9015\n",
      "Epoch 14/25\n",
      "100/100 [==============================] - 163s 2s/step - loss: 0.2469 - acc: 0.9031 - val_loss: 0.2381 - val_acc: 0.9073\n",
      "Epoch 15/25\n",
      "100/100 [==============================] - 162s 2s/step - loss: 0.2447 - acc: 0.9033 - val_loss: 0.2262 - val_acc: 0.9138\n",
      "Epoch 16/25\n",
      "100/100 [==============================] - 167s 2s/step - loss: 0.2388 - acc: 0.9063 - val_loss: 0.2338 - val_acc: 0.9097\n",
      "Epoch 17/25\n",
      "100/100 [==============================] - 167s 2s/step - loss: 0.2365 - acc: 0.9090 - val_loss: 0.2237 - val_acc: 0.9130\n",
      "Epoch 18/25\n",
      "100/100 [==============================] - 169s 2s/step - loss: 0.2365 - acc: 0.9098 - val_loss: 0.2303 - val_acc: 0.9076\n",
      "Epoch 19/25\n",
      "100/100 [==============================] - 169s 2s/step - loss: 0.2404 - acc: 0.9052 - val_loss: 0.2341 - val_acc: 0.9058\n",
      "Epoch 20/25\n",
      "100/100 [==============================] - 168s 2s/step - loss: 0.2324 - acc: 0.9075 - val_loss: 0.2567 - val_acc: 0.8923\n",
      "_________________________________________________________________\n",
      "Layer (type)                 Output Shape              Param #   \n",
      "=================================================================\n",
      "conv1 (Conv2D)               (None, 64, 64, 32)        896       \n",
      "_________________________________________________________________\n",
      "avg_pool1 (AveragePooling2D) (None, 21, 21, 32)        0         \n",
      "_________________________________________________________________\n",
      "conv2 (Conv2D)               (None, 21, 21, 64)        51264     \n",
      "_________________________________________________________________\n",
      "conv3 (Conv2D)               (None, 21, 21, 32)        51232     \n",
      "_________________________________________________________________\n",
      "avg_pool2 (AveragePooling2D) (None, 7, 7, 32)          0         \n",
      "_________________________________________________________________\n",
      "flatten (Flatten)            (None, 1568)              0         \n",
      "_________________________________________________________________\n",
      "fc1 (Dense)                  (None, 1024)              1606656   \n",
      "_________________________________________________________________\n",
      "fc2 (Dense)                  (None, 1)                 1025      \n",
      "=================================================================\n",
      "Total params: 1,711,073\n",
      "Trainable params: 1,711,073\n",
      "Non-trainable params: 0\n",
      "_________________________________________________________________\n"
     ]
    }
   ],
   "source": [
    "K.clear_session()\n",
    "\n",
    "kernel_size = (3,3)\n",
    " \n",
    "early_stopping = EarlyStopping(patience=3)\n",
    "tensorboard = TensorBoard(log_dir=\"logs/{}\".format(time()))\n",
    "\n",
    "model = Sequential(name='cnn')\n",
    "\n",
    "# first convolution\n",
    "model.add(Conv2D(32, kernel_size, activation='relu',\n",
    "                 input_shape=(64, 64, 3), \n",
    "                 name='conv1',\n",
    "                 padding='same'))\n",
    "model.add(AveragePooling2D(kernel_size, name='avg_pool1'))\n",
    "\n",
    "# second convolution\n",
    "model.add(Conv2D(64, (5, 5), activation='relu', name = 'conv2', padding='same'))\n",
    "model.add(Conv2D(32, (5, 5), activation='relu', name = 'conv3', padding='same'))\n",
    "model.add(AveragePooling2D(kernel_size, name='avg_pool2'))\n",
    "\n",
    "# model.add(Conv2D(64, (5, 5), activation='relu', name = 'conv4'))\n",
    "# model.add(Conv2D(32, (5, 5), activation='relu', name = 'conv5'))\n",
    "# model.add(AveragePooling2D(kernel_size, name='max_pool3'))\n",
    "\n",
    "model.add(Flatten())\n",
    "model.add(Dense(1024, activation='relu', name='fc1')) #128\n",
    "model.add(Dense(1, activation='sigmoid', name='fc2'))\n",
    "\n",
    "sgd = SGD(lr = 0.05, decay=1e-6, momentum=0.9, nesterov=True)\n",
    "\n",
    "model.compile(loss='binary_crossentropy',\n",
    "              #optimizer=optimizers.RMSprop(lr=1e-4),\n",
    "              #optimizer=sgd,\n",
    "              optimizer=Adam(lr=1e-4, decay=1e-6),\n",
    "              metrics=['accuracy'])\n",
    "\n",
    "\n",
    "# fit model\n",
    "history = model.fit_generator(train_generator,\n",
    "                            steps_per_epoch=100,\n",
    "                            epochs=25,\n",
    "                            validation_data=validation_generator,\n",
    "                            validation_steps=50,\n",
    "                            verbose=1, \n",
    "                            callbacks=[tensorboard, early_stopping])\n",
    "\n",
    "model.summary()"
   ]
  },
  {
   "cell_type": "code",
   "execution_count": 20,
   "metadata": {},
   "outputs": [],
   "source": [
    "model.save_weights('models/attempt_0.h5')"
   ]
  },
  {
   "cell_type": "markdown",
   "metadata": {},
   "source": [
    "To start tensorboard:\n",
    "\n",
    "```\n",
    "Pauls-MacBook-Pro:HW5 pmw$ tensorboard --logdir=logs\n",
    "```"
   ]
  },
  {
   "cell_type": "markdown",
   "metadata": {},
   "source": [
    "## Problem 3 (5 points)\n",
    "\n",
    "From the pattern of training and validation curves, describe what is good/bad and what you plan to do next to improve the result."
   ]
  },
  {
   "cell_type": "markdown",
   "metadata": {},
   "source": [
    "## Problem 4 (45 points)\n",
    "\n",
    "This step is where we want you to do most of your personal learning.  Your goal is to improve the network using a combination of architecture choices, parameter tuning, and experimenting with different optimizers/dropout/regularization/etc. Treat each of these as separate optimization/exploration steps for now.  We would like to see 3 separate steps that cover different areas.  The format of the 3 steps should be as follows:\n",
    "  * State the hypothesis/strategy for how you will improve/explore a particular aspect.\n",
    "  * Describe what types of tests you are running and why (i.e. what range of parameters are you choosing and why)\n",
    "  * Include the code and results\n",
    "  * State your interpretation of the results\n",
    " \n",
    "We're not looking for research in deep learning, but we want you to gain some hands-on experience working with Keras and figuring out what works. A good example may be comparing strategies to overcome overfitting, or comparing a few different CNN architectures in terms of performance and speed, or comparing data augmentation types and results.  \n",
    " \n"
   ]
  },
  {
   "cell_type": "markdown",
   "metadata": {},
   "source": [
    "### Hypothesis 1:  Adding another full convolution layer"
   ]
  },
  {
   "cell_type": "code",
   "execution_count": 10,
   "metadata": {},
   "outputs": [
    {
     "name": "stdout",
     "output_type": "stream",
     "text": [
      "Epoch 1/25\n",
      "100/100 [==============================] - 188s 2s/step - loss: 0.5693 - acc: 0.7221 - val_loss: 0.4646 - val_acc: 0.7817\n",
      "Epoch 2/25\n",
      "100/100 [==============================] - 179s 2s/step - loss: 0.4066 - acc: 0.8172 - val_loss: 0.3649 - val_acc: 0.8451\n",
      "Epoch 3/25\n",
      "100/100 [==============================] - 171s 2s/step - loss: 0.3770 - acc: 0.8340 - val_loss: 0.3373 - val_acc: 0.8585\n",
      "Epoch 4/25\n",
      "100/100 [==============================] - 169s 2s/step - loss: 0.3465 - acc: 0.8545 - val_loss: 0.3176 - val_acc: 0.8725\n",
      "Epoch 5/25\n",
      "100/100 [==============================] - 168s 2s/step - loss: 0.3179 - acc: 0.8711 - val_loss: 0.2994 - val_acc: 0.8816\n",
      "Epoch 6/25\n",
      "100/100 [==============================] - 172s 2s/step - loss: 0.3141 - acc: 0.8736 - val_loss: 0.3023 - val_acc: 0.8790\n",
      "Epoch 7/25\n",
      "100/100 [==============================] - 172s 2s/step - loss: 0.2985 - acc: 0.8796 - val_loss: 0.3089 - val_acc: 0.8697\n",
      "Epoch 8/25\n",
      "100/100 [==============================] - 171s 2s/step - loss: 0.3027 - acc: 0.8782 - val_loss: 0.2789 - val_acc: 0.8906\n",
      "Epoch 9/25\n",
      "100/100 [==============================] - 170s 2s/step - loss: 0.2907 - acc: 0.8836 - val_loss: 0.2637 - val_acc: 0.8953\n",
      "Epoch 10/25\n",
      "100/100 [==============================] - 169s 2s/step - loss: 0.2795 - acc: 0.8882 - val_loss: 0.2651 - val_acc: 0.8945\n",
      "Epoch 11/25\n",
      "100/100 [==============================] - 165s 2s/step - loss: 0.2718 - acc: 0.8911 - val_loss: 0.2668 - val_acc: 0.8928\n",
      "Epoch 12/25\n",
      "100/100 [==============================] - 171s 2s/step - loss: 0.2730 - acc: 0.8889 - val_loss: 0.2662 - val_acc: 0.8917\n",
      "_________________________________________________________________\n",
      "Layer (type)                 Output Shape              Param #   \n",
      "=================================================================\n",
      "conv1 (Conv2D)               (None, 64, 64, 32)        896       \n",
      "_________________________________________________________________\n",
      "avg_pool1 (AveragePooling2D) (None, 21, 21, 32)        0         \n",
      "_________________________________________________________________\n",
      "conv2 (Conv2D)               (None, 21, 21, 64)        51264     \n",
      "_________________________________________________________________\n",
      "conv3 (Conv2D)               (None, 21, 21, 32)        51232     \n",
      "_________________________________________________________________\n",
      "avg_pool2 (AveragePooling2D) (None, 7, 7, 32)          0         \n",
      "_________________________________________________________________\n",
      "conv4 (Conv2D)               (None, 7, 7, 64)          51264     \n",
      "_________________________________________________________________\n",
      "conv5 (Conv2D)               (None, 7, 7, 32)          51232     \n",
      "_________________________________________________________________\n",
      "avg_pool3 (AveragePooling2D) (None, 2, 2, 32)          0         \n",
      "_________________________________________________________________\n",
      "flatten (Flatten)            (None, 128)               0         \n",
      "_________________________________________________________________\n",
      "fc1 (Dense)                  (None, 1024)              132096    \n",
      "_________________________________________________________________\n",
      "fc2 (Dense)                  (None, 1)                 1025      \n",
      "=================================================================\n",
      "Total params: 339,009\n",
      "Trainable params: 339,009\n",
      "Non-trainable params: 0\n",
      "_________________________________________________________________\n"
     ]
    }
   ],
   "source": [
    "np.random.seed(777)\n",
    "\n",
    "K.clear_session()\n",
    "\n",
    "kernel_size = (3, 3)\n",
    " \n",
    "early_stopping = EarlyStopping(patience=3)\n",
    "tensorboard = TensorBoard(log_dir=\"logs/{}\".format(time()))\n",
    "\n",
    "model = Sequential(name='cnn')\n",
    "\n",
    "# first convolution\n",
    "model.add(Conv2D(32, kernel_size, activation='relu',\n",
    "                 input_shape=(64, 64, 3), \n",
    "                 name='conv1',\n",
    "                 padding='same'))\n",
    "model.add(AveragePooling2D(kernel_size, name='avg_pool1'))\n",
    "\n",
    "# second convolution\n",
    "model.add(Conv2D(64, (5, 5), activation='relu', name = 'conv2', padding='same'))\n",
    "model.add(Conv2D(32, (5, 5), activation='relu', name = 'conv3', padding='same'))\n",
    "model.add(AveragePooling2D(kernel_size, name='avg_pool2'))\n",
    "\n",
    "# third - new - convolution\n",
    "model.add(Conv2D(64, (5, 5), activation='relu', name = 'conv4', padding='same'))\n",
    "model.add(Conv2D(32, (5, 5), activation='relu', name = 'conv5', padding='same'))\n",
    "model.add(AveragePooling2D(kernel_size, name='avg_pool3'))\n",
    "\n",
    "model.add(Flatten())\n",
    "model.add(Dense(1024, activation='relu', name='fc1'))\n",
    "model.add(Dense(1, activation='sigmoid', name='fc2'))\n",
    "\n",
    "sgd = SGD(lr = 0.05, decay=1e-6, momentum=0.9, nesterov=True)\n",
    "\n",
    "model.compile(loss='binary_crossentropy',\n",
    "              #optimizer=optimizers.RMSprop(lr=1e-4),\n",
    "              #optimizer=sgd,\n",
    "              optimizer=Adam(lr=1e-4, decay=1e-6),\n",
    "              metrics=['accuracy'])\n",
    "\n",
    "\n",
    "# fit model\n",
    "history = model.fit_generator(train_generator,\n",
    "                            steps_per_epoch=100,\n",
    "                            epochs=25,\n",
    "                            validation_data=validation_generator,\n",
    "                            validation_steps=50,\n",
    "                            verbose=1, \n",
    "                            callbacks=[tensorboard, early_stopping])\n",
    "\n",
    "model.summary()"
   ]
  },
  {
   "cell_type": "code",
   "execution_count": 11,
   "metadata": {},
   "outputs": [],
   "source": [
    "model.save_weights('models/attempt_1.h5')"
   ]
  },
  {
   "cell_type": "markdown",
   "metadata": {},
   "source": [
    "### Hypothesis 2:  Using `MaxPooling2D` will improve the accuracy"
   ]
  },
  {
   "cell_type": "code",
   "execution_count": 12,
   "metadata": {},
   "outputs": [
    {
     "name": "stdout",
     "output_type": "stream",
     "text": [
      "Epoch 1/25\n",
      "100/100 [==============================] - 171s 2s/step - loss: 0.5248 - acc: 0.7598 - val_loss: 0.3965 - val_acc: 0.8272\n",
      "Epoch 2/25\n",
      "100/100 [==============================] - 170s 2s/step - loss: 0.3770 - acc: 0.8372 - val_loss: 0.3397 - val_acc: 0.8555\n",
      "Epoch 3/25\n",
      "100/100 [==============================] - 170s 2s/step - loss: 0.3416 - acc: 0.8579 - val_loss: 0.3206 - val_acc: 0.8636\n",
      "Epoch 4/25\n",
      "100/100 [==============================] - 171s 2s/step - loss: 0.3199 - acc: 0.8678 - val_loss: 0.2974 - val_acc: 0.8756\n",
      "Epoch 5/25\n",
      "100/100 [==============================] - 170s 2s/step - loss: 0.3020 - acc: 0.8777 - val_loss: 0.2985 - val_acc: 0.8837\n",
      "Epoch 6/25\n",
      "100/100 [==============================] - 173s 2s/step - loss: 0.2825 - acc: 0.8875 - val_loss: 0.2700 - val_acc: 0.8921\n",
      "Epoch 7/25\n",
      "100/100 [==============================] - 167s 2s/step - loss: 0.2671 - acc: 0.8930 - val_loss: 0.2995 - val_acc: 0.8758\n",
      "Epoch 8/25\n",
      "100/100 [==============================] - 171s 2s/step - loss: 0.2656 - acc: 0.8918 - val_loss: 0.2731 - val_acc: 0.8892\n",
      "Epoch 9/25\n",
      "100/100 [==============================] - 171s 2s/step - loss: 0.2679 - acc: 0.8892 - val_loss: 0.2841 - val_acc: 0.8762\n",
      "_________________________________________________________________\n",
      "Layer (type)                 Output Shape              Param #   \n",
      "=================================================================\n",
      "conv1 (Conv2D)               (None, 64, 64, 32)        896       \n",
      "_________________________________________________________________\n",
      "max_pool1 (MaxPooling2D)     (None, 21, 21, 32)        0         \n",
      "_________________________________________________________________\n",
      "conv2 (Conv2D)               (None, 21, 21, 64)        51264     \n",
      "_________________________________________________________________\n",
      "conv3 (Conv2D)               (None, 21, 21, 32)        51232     \n",
      "_________________________________________________________________\n",
      "max_pool2 (MaxPooling2D)     (None, 7, 7, 32)          0         \n",
      "_________________________________________________________________\n",
      "conv4 (Conv2D)               (None, 7, 7, 64)          51264     \n",
      "_________________________________________________________________\n",
      "conv5 (Conv2D)               (None, 7, 7, 32)          51232     \n",
      "_________________________________________________________________\n",
      "max_pool3 (AveragePooling2D) (None, 2, 2, 32)          0         \n",
      "_________________________________________________________________\n",
      "flatten (Flatten)            (None, 128)               0         \n",
      "_________________________________________________________________\n",
      "fc1 (Dense)                  (None, 1024)              132096    \n",
      "_________________________________________________________________\n",
      "fc2 (Dense)                  (None, 1)                 1025      \n",
      "=================================================================\n",
      "Total params: 339,009\n",
      "Trainable params: 339,009\n",
      "Non-trainable params: 0\n",
      "_________________________________________________________________\n"
     ]
    }
   ],
   "source": [
    "K.clear_session()\n",
    "\n",
    "kernel_size = (3, 3)\n",
    " \n",
    "early_stopping = EarlyStopping(patience=3)\n",
    "tensorboard = TensorBoard(log_dir=\"logs/{}\".format(time()))\n",
    "\n",
    "model = Sequential(name='cnn')\n",
    "\n",
    "# first convolution\n",
    "model.add(Conv2D(32, kernel_size, activation='relu',\n",
    "                 input_shape=(64, 64, 3), \n",
    "                 name='conv1',\n",
    "                 padding='same'))\n",
    "model.add(MaxPooling2D(kernel_size, name='max_pool1'))\n",
    "\n",
    "# second convolution\n",
    "model.add(Conv2D(64, (5, 5), activation='relu', name = 'conv2', padding='same'))\n",
    "model.add(Conv2D(32, (5, 5), activation='relu', name = 'conv3', padding='same'))\n",
    "model.add(MaxPooling2D(kernel_size, name='max_pool2'))\n",
    "\n",
    "# third - new - convolution\n",
    "model.add(Conv2D(64, (5, 5), activation='relu', name = 'conv4', padding='same'))\n",
    "model.add(Conv2D(32, (5, 5), activation='relu', name = 'conv5', padding='same'))\n",
    "model.add(AveragePooling2D(kernel_size, name='max_pool3'))\n",
    "\n",
    "model.add(Flatten())\n",
    "model.add(Dense(1024, activation='relu', name='fc1'))\n",
    "model.add(Dense(1, activation='sigmoid', name='fc2'))\n",
    "\n",
    "sgd = SGD(lr = 0.05, decay=1e-6, momentum=0.9, nesterov=True)\n",
    "\n",
    "model.compile(loss='binary_crossentropy',\n",
    "              #optimizer=optimizers.RMSprop(lr=1e-4),\n",
    "              optimizer=Adam(lr=1e-4, decay=1e-6),#sgd,\n",
    "              metrics=['accuracy'])\n",
    "\n",
    "\n",
    "# fit model\n",
    "history = model.fit_generator(train_generator,\n",
    "                            steps_per_epoch=100,\n",
    "                            epochs=25,\n",
    "                            validation_data=validation_generator,\n",
    "                            validation_steps=50,\n",
    "                            verbose=1, \n",
    "                            callbacks=[tensorboard, early_stopping])\n",
    "\n",
    "model.summary()"
   ]
  },
  {
   "cell_type": "code",
   "execution_count": 13,
   "metadata": {},
   "outputs": [],
   "source": [
    "model.save_weights('models/attempt_2.h5')"
   ]
  },
  {
   "cell_type": "markdown",
   "metadata": {},
   "source": [
    "### Hypothesis 3:  Regularizing L1 and L2 will improve the model"
   ]
  },
  {
   "cell_type": "code",
   "execution_count": 16,
   "metadata": {},
   "outputs": [
    {
     "name": "stdout",
     "output_type": "stream",
     "text": [
      "Epoch 1/25\n",
      "100/100 [==============================] - 636s 6s/step - loss: 0.4800 - acc: 0.7647 - val_loss: 0.3933 - val_acc: 0.8237\n",
      "Epoch 2/25\n",
      "100/100 [==============================] - 611s 6s/step - loss: 0.3732 - acc: 0.8342 - val_loss: 0.3409 - val_acc: 0.8530\n",
      "Epoch 3/25\n",
      "100/100 [==============================] - 606s 6s/step - loss: 0.3236 - acc: 0.8647 - val_loss: 0.2920 - val_acc: 0.8861\n",
      "Epoch 4/25\n",
      "100/100 [==============================] - 608s 6s/step - loss: 0.2955 - acc: 0.8786 - val_loss: 0.2627 - val_acc: 0.8957\n",
      "Epoch 5/25\n",
      "100/100 [==============================] - 610s 6s/step - loss: 0.2695 - acc: 0.8918 - val_loss: 0.2705 - val_acc: 0.8895\n",
      "Epoch 6/25\n",
      "100/100 [==============================] - 627s 6s/step - loss: 0.2552 - acc: 0.8968 - val_loss: 0.2780 - val_acc: 0.8887\n",
      "_________________________________________________________________\n",
      "Layer (type)                 Output Shape              Param #   \n",
      "=================================================================\n",
      "conv1 (Conv2D)               (None, 64, 64, 32)        4736      \n",
      "_________________________________________________________________\n",
      "max_pool1 (MaxPooling2D)     (None, 32, 32, 32)        0         \n",
      "_________________________________________________________________\n",
      "conv2 (Conv2D)               (None, 32, 32, 64)        100416    \n",
      "_________________________________________________________________\n",
      "conv3 (Conv2D)               (None, 32, 32, 32)        100384    \n",
      "_________________________________________________________________\n",
      "max_pool2 (MaxPooling2D)     (None, 16, 16, 32)        0         \n",
      "_________________________________________________________________\n",
      "conv4 (Conv2D)               (None, 16, 16, 64)        100416    \n",
      "_________________________________________________________________\n",
      "conv5 (Conv2D)               (None, 16, 16, 32)        100384    \n",
      "_________________________________________________________________\n",
      "max_pool3 (AveragePooling2D) (None, 8, 8, 32)          0         \n",
      "_________________________________________________________________\n",
      "flatten (Flatten)            (None, 2048)              0         \n",
      "_________________________________________________________________\n",
      "fc1 (Dense)                  (None, 1024)              2098176   \n",
      "_________________________________________________________________\n",
      "fc2 (Dense)                  (None, 1)                 1025      \n",
      "=================================================================\n",
      "Total params: 2,505,537\n",
      "Trainable params: 2,505,537\n",
      "Non-trainable params: 0\n",
      "_________________________________________________________________\n"
     ]
    }
   ],
   "source": [
    "from keras import regularizers\n",
    "\n",
    "K.clear_session()\n",
    "\n",
    "kernel_size = (7, 7)\n",
    "pool_size = (2, 2)\n",
    " \n",
    "early_stopping = EarlyStopping(patience=2)\n",
    "tensorboard = TensorBoard(log_dir=\"logs/{}\".format(time()))\n",
    "\n",
    "model = Sequential(name='cnn')\n",
    "\n",
    "# first convolution\n",
    "model.add(Conv2D(32, kernel_size, activation='relu',\n",
    "                 input_shape=(64, 64, 3), \n",
    "                 name='conv1',\n",
    "                 padding='same'))\n",
    "model.add(MaxPooling2D(pool_size, name='max_pool1'))\n",
    "\n",
    "# second convolution\n",
    "model.add(Conv2D(64, kernel_size, activation='relu', name = 'conv2', padding='same'))\n",
    "model.add(Conv2D(32, kernel_size, activation='relu', name = 'conv3', padding='same'))\n",
    "model.add(MaxPooling2D(pool_size, name='max_pool2'))\n",
    "\n",
    "# third - new - convolution\n",
    "model.add(Conv2D(64, kernel_size, activation='relu', name = 'conv4', padding='same'))\n",
    "model.add(Conv2D(32, kernel_size, activation='relu', name = 'conv5', padding='same'))\n",
    "model.add(AveragePooling2D(pool_size, name='max_pool3'))\n",
    "\n",
    "model.add(Flatten())\n",
    "model.add(Dense(1024, activation='relu', name='fc1'))\n",
    "model.add(Dense(1, activation='sigmoid', name='fc2'))\n",
    "\n",
    "sgd = SGD(lr = 0.05, decay=1e-6, momentum=0.9, nesterov=True)\n",
    "\n",
    "model.compile(loss='binary_crossentropy',\n",
    "              #optimizer=RMSprop(lr=1e-4),\n",
    "              optimizer=Adam(lr=1e-4, decay=1e-6),#sgd,\n",
    "              metrics=['accuracy'])\n",
    "\n",
    "\n",
    "# fit model\n",
    "history = model.fit_generator(train_generator,\n",
    "                            steps_per_epoch=100,\n",
    "                            epochs=25,\n",
    "                            validation_data=validation_generator,\n",
    "                            validation_steps=50,\n",
    "                            verbose=1, \n",
    "                            callbacks=[tensorboard, early_stopping])\n",
    "\n",
    "model.summary()"
   ]
  },
  {
   "cell_type": "code",
   "execution_count": 9,
   "metadata": {},
   "outputs": [],
   "source": [
    "model.save_weights('models/attempt_3.h5')"
   ]
  },
  {
   "cell_type": "markdown",
   "metadata": {},
   "source": [
    "## Problem 5 (10 points)\n",
    "\n",
    "Assess your best model on the test data.  Plot the corresponding ROC curve from the results (since we've provided the truth).  This was not directly covered in section, but will require a prediction using images in the same format as the training.  We suggest referring to the Keras API else use a Google to search to find how to make predictions."
   ]
  },
  {
   "cell_type": "code",
   "execution_count": 23,
   "metadata": {},
   "outputs": [
    {
     "name": "stdout",
     "output_type": "stream",
     "text": [
      "_________________________________________________________________\n",
      "Layer (type)                 Output Shape              Param #   \n",
      "=================================================================\n",
      "conv1 (Conv2D)               (None, 64, 64, 32)        896       \n",
      "_________________________________________________________________\n",
      "avg_pool1 (AveragePooling2D) (None, 21, 21, 32)        0         \n",
      "_________________________________________________________________\n",
      "conv2 (Conv2D)               (None, 21, 21, 64)        51264     \n",
      "_________________________________________________________________\n",
      "conv3 (Conv2D)               (None, 21, 21, 32)        51232     \n",
      "_________________________________________________________________\n",
      "avg_pool2 (AveragePooling2D) (None, 7, 7, 32)          0         \n",
      "_________________________________________________________________\n",
      "flatten (Flatten)            (None, 1568)              0         \n",
      "_________________________________________________________________\n",
      "fc1 (Dense)                  (None, 1024)              1606656   \n",
      "_________________________________________________________________\n",
      "fc2 (Dense)                  (None, 1)                 1025      \n",
      "=================================================================\n",
      "Total params: 1,711,073\n",
      "Trainable params: 1,711,073\n",
      "Non-trainable params: 0\n",
      "_________________________________________________________________\n"
     ]
    }
   ],
   "source": [
    "#model = load_weights('models/attempt_0.h5')\n",
    "model.summary()"
   ]
  },
  {
   "cell_type": "code",
   "execution_count": 35,
   "metadata": {},
   "outputs": [],
   "source": [
    "test_labels = pd.read_table('data/images64/test/truth.txt', header=None)"
   ]
  },
  {
   "cell_type": "markdown",
   "metadata": {},
   "source": [
    "```python\n",
    "# run this only once\n",
    "os.mkdir(os.path.join(test_dir, 'landscape'))\n",
    "os.mkdir(os.path.join(test_dir, 'portrait'))\n",
    "\n",
    "# move test files\n",
    "for landscape_pic in test_labels.loc[test_labels[1]=='landscape', 0]:\n",
    "    current_home = os.path.join(test_dir, landscape_pic)\n",
    "    new_home = os.path.join(os.path.join(test_dir, 'landscape'), landscape_pic)\n",
    "    shutil.move(current_home, new_home)\n",
    "\n",
    "for portrait_pic in test_labels.loc[test_labels[1]=='portrait', 0]:\n",
    "    current_home = os.path.join(test_dir, portrait_pic)\n",
    "    new_home = os.path.join(os.path.join(test_dir, 'portrait'), portrait_pic)\n",
    "    shutil.move(current_home, new_home)\n",
    "```"
   ]
  },
  {
   "cell_type": "code",
   "execution_count": null,
   "metadata": {},
   "outputs": [
    {
     "name": "stdout",
     "output_type": "stream",
     "text": [
      "Found 7379 images belonging to 2 classes.\n"
     ]
    }
   ],
   "source": [
    "batch_size = 256\n",
    "\n",
    "test_datagen = ImageDataGenerator(rescale=1./255)\n",
    "test_generator = test_datagen.flow_from_directory(\n",
    "        test_dir,\n",
    "        target_size=(64, 64),\n",
    "        batch_size=1, # somewhat arbitrarily chosen\n",
    "        class_mode='binary')\n",
    "\n",
    "model.predict_generator(test_generator)"
   ]
  },
  {
   "cell_type": "code",
   "execution_count": null,
   "metadata": {},
   "outputs": [],
   "source": [
    "import scikitplot as skplt\n",
    "\n",
    "skplt.metrics.plot_roc_curve()"
   ]
  },
  {
   "cell_type": "markdown",
   "metadata": {},
   "source": [
    "## Problem 6 (5 points)\n",
    "\n",
    "Display the 5 images [worst] misclassified images for each class.  Worst is in brackets since certain architectures may only make a binary decision rather than a score.  In that case, plot 5 of each."
   ]
  },
  {
   "cell_type": "code",
   "execution_count": null,
   "metadata": {},
   "outputs": [],
   "source": []
  },
  {
   "cell_type": "markdown",
   "metadata": {},
   "source": [
    "## Problem 7 (2 points)\n",
    "How many hours did this homework take you? The answer to this question will not affect your grade."
   ]
  },
  {
   "cell_type": "code",
   "execution_count": null,
   "metadata": {},
   "outputs": [],
   "source": []
  },
  {
   "cell_type": "markdown",
   "metadata": {},
   "source": [
    "## Last step (3 points)\n",
    "Save this notebook as LastnameFirstnameHW5.ipynb such as PriceDavid.ipynb. Create a pdf of this notebook named similarly. Submit both the python notebook and the pdf version to the Canvas dropbox. We require both versions."
   ]
  },
  {
   "cell_type": "code",
   "execution_count": null,
   "metadata": {},
   "outputs": [],
   "source": []
  }
 ],
 "metadata": {
  "kernelspec": {
   "display_name": "Python 3",
   "language": "python",
   "name": "python3"
  },
  "language_info": {
   "codemirror_mode": {
    "name": "ipython",
    "version": 3
   },
   "file_extension": ".py",
   "mimetype": "text/x-python",
   "name": "python",
   "nbconvert_exporter": "python",
   "pygments_lexer": "ipython3",
   "version": "3.6.5"
  }
 },
 "nbformat": 4,
 "nbformat_minor": 2
}
