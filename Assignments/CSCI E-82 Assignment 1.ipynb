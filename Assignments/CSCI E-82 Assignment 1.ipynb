{
 "cells": [
  {
   "cell_type": "markdown",
   "metadata": {},
   "source": [
    "## <center>CSCI E-82</center>\n",
    "## <center>HW 1  Dimensionality Reduction</center>\n",
    "### <center>Due: Sept 17, 2018 11:59pm EST</center>\n",
    "\n",
    "#### Note that this is an individual homework to be completed without collaborations except through Piazza.  \n",
    "\n",
    "#### We encourage you to make progress this weekend since the second homework will likely come out in a week before this one is due.\n",
    "\n"
   ]
  },
  {
   "cell_type": "markdown",
   "metadata": {},
   "source": [
    "### Your name:"
   ]
  },
  {
   "cell_type": "markdown",
   "metadata": {},
   "source": [
    "PAUL M. WASHBURN"
   ]
  },
  {
   "cell_type": "markdown",
   "metadata": {},
   "source": [
    "### Problem 1   (5 points)\n",
    "\n",
    "$$\\mathbf{X} = \\left[\\begin{array}\n",
    "{rrr}\n",
    "1 & 2 & 3 \\\\\n",
    "4 & 5 & 6 \\\\\n",
    "7 & 8 & 9\n",
    "\\end{array}\\right]\n",
    "$$\n",
    "\n",
    "$$\\mathbf{Y} = \\left[\\begin{array}\n",
    "{rrr}\n",
    "1 & 2 & 1 \\\\\n",
    "2 & 1 & 2  \n",
    "\\end{array}\\right]\n",
    "$$\n",
    "\n",
    "Compute XY<sup>T</sup>.  The answer can be computed by hand and written in Markdown like the above matrices, or computed in python.  Either way is acceptable."
   ]
  },
  {
   "cell_type": "code",
   "execution_count": 1,
   "metadata": {},
   "outputs": [],
   "source": [
    "import numpy as np\n",
    "import pandas as pd\n",
    "import matplotlib.pyplot as plt\n",
    "import seaborn as sns\n",
    "%matplotlib inline"
   ]
  },
  {
   "cell_type": "code",
   "execution_count": 2,
   "metadata": {},
   "outputs": [
    {
     "data": {
      "text/plain": [
       "array([[ 8, 10],\n",
       "       [20, 25],\n",
       "       [32, 40]])"
      ]
     },
     "execution_count": 2,
     "metadata": {},
     "output_type": "execute_result"
    }
   ],
   "source": [
    "X = np.arange(1, 10).reshape(3, 3)\n",
    "Y = np.array([[1, 2, 1], [2, 1, 2]])\n",
    "np.matmul(X, Y.T)"
   ]
  },
  {
   "cell_type": "code",
   "execution_count": 3,
   "metadata": {},
   "outputs": [
    {
     "data": {
      "text/plain": [
       "array([[ 8, 10],\n",
       "       [20, 25],\n",
       "       [32, 40]])"
      ]
     },
     "execution_count": 3,
     "metadata": {},
     "output_type": "execute_result"
    }
   ],
   "source": [
    "np.dot(X, Y.T)"
   ]
  },
  {
   "cell_type": "markdown",
   "metadata": {},
   "source": [
    "### Problem 2  \n",
    "\n",
    "This problem goes through a combination of python data manipulations as well as the full math projection using PCA.  We have divided the problem into multiple parts.\n",
    "\n"
   ]
  },
  {
   "cell_type": "markdown",
   "metadata": {},
   "source": [
    "### Problem 2a  (5 points)\n",
    "\n",
    "Download and load in the data set from the UCI archive https://archive.ics.uci.edu/ml/machine-learning-databases/ecoli/.  Print the dimensions and the first few rows to demonstrate a successful load."
   ]
  },
  {
   "cell_type": "code",
   "execution_count": 4,
   "metadata": {},
   "outputs": [
    {
     "name": "stdout",
     "output_type": "stream",
     "text": [
      "rows = 336, columns = 9\n"
     ]
    },
    {
     "data": {
      "text/html": [
       "<div>\n",
       "<style scoped>\n",
       "    .dataframe tbody tr th:only-of-type {\n",
       "        vertical-align: middle;\n",
       "    }\n",
       "\n",
       "    .dataframe tbody tr th {\n",
       "        vertical-align: top;\n",
       "    }\n",
       "\n",
       "    .dataframe thead th {\n",
       "        text-align: right;\n",
       "    }\n",
       "</style>\n",
       "<table border=\"1\" class=\"dataframe\">\n",
       "  <thead>\n",
       "    <tr style=\"text-align: right;\">\n",
       "      <th></th>\n",
       "      <th>sequence_name</th>\n",
       "      <th>mcg</th>\n",
       "      <th>gvh</th>\n",
       "      <th>lip</th>\n",
       "      <th>chg</th>\n",
       "      <th>aac</th>\n",
       "      <th>alm1</th>\n",
       "      <th>alm2</th>\n",
       "      <th>target</th>\n",
       "    </tr>\n",
       "  </thead>\n",
       "  <tbody>\n",
       "    <tr>\n",
       "      <th>0</th>\n",
       "      <td>AAT_ECOLI</td>\n",
       "      <td>0.49</td>\n",
       "      <td>0.29</td>\n",
       "      <td>0.48</td>\n",
       "      <td>0.5</td>\n",
       "      <td>0.56</td>\n",
       "      <td>0.24</td>\n",
       "      <td>0.35</td>\n",
       "      <td>cp</td>\n",
       "    </tr>\n",
       "    <tr>\n",
       "      <th>1</th>\n",
       "      <td>ACEA_ECOLI</td>\n",
       "      <td>0.07</td>\n",
       "      <td>0.40</td>\n",
       "      <td>0.48</td>\n",
       "      <td>0.5</td>\n",
       "      <td>0.54</td>\n",
       "      <td>0.35</td>\n",
       "      <td>0.44</td>\n",
       "      <td>cp</td>\n",
       "    </tr>\n",
       "    <tr>\n",
       "      <th>2</th>\n",
       "      <td>ACEK_ECOLI</td>\n",
       "      <td>0.56</td>\n",
       "      <td>0.40</td>\n",
       "      <td>0.48</td>\n",
       "      <td>0.5</td>\n",
       "      <td>0.49</td>\n",
       "      <td>0.37</td>\n",
       "      <td>0.46</td>\n",
       "      <td>cp</td>\n",
       "    </tr>\n",
       "    <tr>\n",
       "      <th>3</th>\n",
       "      <td>ACKA_ECOLI</td>\n",
       "      <td>0.59</td>\n",
       "      <td>0.49</td>\n",
       "      <td>0.48</td>\n",
       "      <td>0.5</td>\n",
       "      <td>0.52</td>\n",
       "      <td>0.45</td>\n",
       "      <td>0.36</td>\n",
       "      <td>cp</td>\n",
       "    </tr>\n",
       "    <tr>\n",
       "      <th>4</th>\n",
       "      <td>ADI_ECOLI</td>\n",
       "      <td>0.23</td>\n",
       "      <td>0.32</td>\n",
       "      <td>0.48</td>\n",
       "      <td>0.5</td>\n",
       "      <td>0.55</td>\n",
       "      <td>0.25</td>\n",
       "      <td>0.35</td>\n",
       "      <td>cp</td>\n",
       "    </tr>\n",
       "  </tbody>\n",
       "</table>\n",
       "</div>"
      ],
      "text/plain": [
       "  sequence_name   mcg   gvh   lip  chg   aac  alm1  alm2 target\n",
       "0     AAT_ECOLI  0.49  0.29  0.48  0.5  0.56  0.24  0.35     cp\n",
       "1    ACEA_ECOLI  0.07  0.40  0.48  0.5  0.54  0.35  0.44     cp\n",
       "2    ACEK_ECOLI  0.56  0.40  0.48  0.5  0.49  0.37  0.46     cp\n",
       "3    ACKA_ECOLI  0.59  0.49  0.48  0.5  0.52  0.45  0.36     cp\n",
       "4     ADI_ECOLI  0.23  0.32  0.48  0.5  0.55  0.25  0.35     cp"
      ]
     },
     "execution_count": 4,
     "metadata": {},
     "output_type": "execute_result"
    }
   ],
   "source": [
    "url = 'https://archive.ics.uci.edu/ml/machine-learning-databases/ecoli/ecoli.data'\n",
    "colnames = ['sequence_name', 'mcg', 'gvh', 'lip', 'chg', 'aac', 'alm1', 'alm2', 'target']\n",
    "df = pd.read_fwf(url, header=None)\n",
    "df.rename(columns=dict(zip(np.arange(0, 10), colnames)), inplace=True)\n",
    "\n",
    "print('rows = %i, columns = %i' %(df.shape[0], df.shape[1]))\n",
    "df.head()"
   ]
  },
  {
   "cell_type": "markdown",
   "metadata": {},
   "source": [
    "### Problem 2b  (10 points)\n",
    "Compute and print the covariance matrix for all columns excluding the first and last.  Rather than use the built-in function, compute this using python code for practice.  The following equation will suffice for this.\n",
    "\n",
    "Cov(X, Y) = Σ ( Xi - X ) ( Yi - Y ) / N \n"
   ]
  },
  {
   "cell_type": "code",
   "execution_count": 5,
   "metadata": {},
   "outputs": [
    {
     "data": {
      "text/html": [
       "<div>\n",
       "<style scoped>\n",
       "    .dataframe tbody tr th:only-of-type {\n",
       "        vertical-align: middle;\n",
       "    }\n",
       "\n",
       "    .dataframe tbody tr th {\n",
       "        vertical-align: top;\n",
       "    }\n",
       "\n",
       "    .dataframe thead th {\n",
       "        text-align: right;\n",
       "    }\n",
       "</style>\n",
       "<table border=\"1\" class=\"dataframe\">\n",
       "  <thead>\n",
       "    <tr style=\"text-align: right;\">\n",
       "      <th></th>\n",
       "      <th>mcg</th>\n",
       "      <th>gvh</th>\n",
       "      <th>lip</th>\n",
       "      <th>chg</th>\n",
       "      <th>aac</th>\n",
       "      <th>alm1</th>\n",
       "      <th>alm2</th>\n",
       "    </tr>\n",
       "  </thead>\n",
       "  <tbody>\n",
       "    <tr>\n",
       "      <th>mcg</th>\n",
       "      <td>0.037882</td>\n",
       "      <td>0.013115</td>\n",
       "      <td>0.002529</td>\n",
       "      <td>0.000373</td>\n",
       "      <td>0.005257</td>\n",
       "      <td>0.016670</td>\n",
       "      <td>0.006810</td>\n",
       "    </tr>\n",
       "    <tr>\n",
       "      <th>gvh</th>\n",
       "      <td>0.013115</td>\n",
       "      <td>0.021950</td>\n",
       "      <td>0.000574</td>\n",
       "      <td>0.000075</td>\n",
       "      <td>0.001266</td>\n",
       "      <td>0.005546</td>\n",
       "      <td>-0.003729</td>\n",
       "    </tr>\n",
       "    <tr>\n",
       "      <th>lip</th>\n",
       "      <td>0.002529</td>\n",
       "      <td>0.000574</td>\n",
       "      <td>0.007831</td>\n",
       "      <td>0.000753</td>\n",
       "      <td>0.000760</td>\n",
       "      <td>0.001829</td>\n",
       "      <td>-0.001067</td>\n",
       "    </tr>\n",
       "    <tr>\n",
       "      <th>chg</th>\n",
       "      <td>0.000373</td>\n",
       "      <td>0.000075</td>\n",
       "      <td>0.000753</td>\n",
       "      <td>0.000744</td>\n",
       "      <td>-0.000149</td>\n",
       "      <td>-0.000045</td>\n",
       "      <td>-0.000298</td>\n",
       "    </tr>\n",
       "    <tr>\n",
       "      <th>aac</th>\n",
       "      <td>0.005257</td>\n",
       "      <td>0.001266</td>\n",
       "      <td>0.000760</td>\n",
       "      <td>-0.000149</td>\n",
       "      <td>0.014976</td>\n",
       "      <td>0.007379</td>\n",
       "      <td>0.006475</td>\n",
       "    </tr>\n",
       "    <tr>\n",
       "      <th>alm1</th>\n",
       "      <td>0.016670</td>\n",
       "      <td>0.005546</td>\n",
       "      <td>0.001829</td>\n",
       "      <td>-0.000045</td>\n",
       "      <td>0.007379</td>\n",
       "      <td>0.046549</td>\n",
       "      <td>0.036566</td>\n",
       "    </tr>\n",
       "    <tr>\n",
       "      <th>alm2</th>\n",
       "      <td>0.006810</td>\n",
       "      <td>-0.003729</td>\n",
       "      <td>-0.001067</td>\n",
       "      <td>-0.000298</td>\n",
       "      <td>0.006475</td>\n",
       "      <td>0.036566</td>\n",
       "      <td>0.043853</td>\n",
       "    </tr>\n",
       "  </tbody>\n",
       "</table>\n",
       "</div>"
      ],
      "text/plain": [
       "           mcg       gvh       lip       chg       aac      alm1      alm2\n",
       "mcg   0.037882  0.013115  0.002529  0.000373  0.005257  0.016670  0.006810\n",
       "gvh   0.013115  0.021950  0.000574  0.000075  0.001266  0.005546 -0.003729\n",
       "lip   0.002529  0.000574  0.007831  0.000753  0.000760  0.001829 -0.001067\n",
       "chg   0.000373  0.000075  0.000753  0.000744 -0.000149 -0.000045 -0.000298\n",
       "aac   0.005257  0.001266  0.000760 -0.000149  0.014976  0.007379  0.006475\n",
       "alm1  0.016670  0.005546  0.001829 -0.000045  0.007379  0.046549  0.036566\n",
       "alm2  0.006810 -0.003729 -0.001067 -0.000298  0.006475  0.036566  0.043853"
      ]
     },
     "execution_count": 5,
     "metadata": {},
     "output_type": "execute_result"
    }
   ],
   "source": [
    "def cov_xy(m, y):\n",
    "    '''\n",
    "    Submit vectors as 1D arrays\n",
    "    '''\n",
    "    X = np.concatenate((m[:,np.newaxis], y[:,np.newaxis]), axis=1)\n",
    "    N = X.shape[0] - 1\n",
    "    X -= X.mean(axis=0)\n",
    "    C = (np.dot(X.T, X.conj()) / N).squeeze()\n",
    "    return C\n",
    "\n",
    "def cov_matrix(df, cols):\n",
    "    '''\n",
    "    Returns covariance matrix with column names\n",
    "    '''\n",
    "    # create empty dataframe with variance on the diagonals\n",
    "    cov_df = pd.DataFrame(np.diag(df[cols].var()), columns=cols, index=cols)\n",
    "\n",
    "    # populate cov_df empty dataframe with covariances\n",
    "    for X in cols:\n",
    "        for Y in cols:\n",
    "            # we already have the variances, so ignore when X == Y\n",
    "            if X != Y:\n",
    "                # populate empty dataframe with symmetrical value\n",
    "                _cov = cov_xy(df[X], df[Y])[0, 1]\n",
    "                cov_df.loc[Y, X] =  _cov\n",
    "            else:\n",
    "                pass\n",
    "    return cov_df\n",
    "\n",
    "cols = ['mcg', 'gvh', 'lip', 'chg', 'aac', 'alm1', 'alm2']\n",
    "C = cov_matrix(df, cols)\n",
    "C"
   ]
  },
  {
   "cell_type": "code",
   "execution_count": 6,
   "metadata": {},
   "outputs": [
    {
     "data": {
      "text/html": [
       "<div>\n",
       "<style scoped>\n",
       "    .dataframe tbody tr th:only-of-type {\n",
       "        vertical-align: middle;\n",
       "    }\n",
       "\n",
       "    .dataframe tbody tr th {\n",
       "        vertical-align: top;\n",
       "    }\n",
       "\n",
       "    .dataframe thead th {\n",
       "        text-align: right;\n",
       "    }\n",
       "</style>\n",
       "<table border=\"1\" class=\"dataframe\">\n",
       "  <thead>\n",
       "    <tr style=\"text-align: right;\">\n",
       "      <th></th>\n",
       "      <th>mcg</th>\n",
       "      <th>gvh</th>\n",
       "      <th>lip</th>\n",
       "      <th>chg</th>\n",
       "      <th>aac</th>\n",
       "      <th>alm1</th>\n",
       "      <th>alm2</th>\n",
       "    </tr>\n",
       "  </thead>\n",
       "  <tbody>\n",
       "    <tr>\n",
       "      <th>mcg</th>\n",
       "      <td>0.037882</td>\n",
       "      <td>0.013115</td>\n",
       "      <td>0.002529</td>\n",
       "      <td>0.000373</td>\n",
       "      <td>0.005257</td>\n",
       "      <td>0.016670</td>\n",
       "      <td>0.006810</td>\n",
       "    </tr>\n",
       "    <tr>\n",
       "      <th>gvh</th>\n",
       "      <td>0.013115</td>\n",
       "      <td>0.021950</td>\n",
       "      <td>0.000574</td>\n",
       "      <td>0.000075</td>\n",
       "      <td>0.001266</td>\n",
       "      <td>0.005546</td>\n",
       "      <td>-0.003729</td>\n",
       "    </tr>\n",
       "    <tr>\n",
       "      <th>lip</th>\n",
       "      <td>0.002529</td>\n",
       "      <td>0.000574</td>\n",
       "      <td>0.007831</td>\n",
       "      <td>0.000753</td>\n",
       "      <td>0.000760</td>\n",
       "      <td>0.001829</td>\n",
       "      <td>-0.001067</td>\n",
       "    </tr>\n",
       "    <tr>\n",
       "      <th>chg</th>\n",
       "      <td>0.000373</td>\n",
       "      <td>0.000075</td>\n",
       "      <td>0.000753</td>\n",
       "      <td>0.000744</td>\n",
       "      <td>-0.000149</td>\n",
       "      <td>-0.000045</td>\n",
       "      <td>-0.000298</td>\n",
       "    </tr>\n",
       "    <tr>\n",
       "      <th>aac</th>\n",
       "      <td>0.005257</td>\n",
       "      <td>0.001266</td>\n",
       "      <td>0.000760</td>\n",
       "      <td>-0.000149</td>\n",
       "      <td>0.014976</td>\n",
       "      <td>0.007379</td>\n",
       "      <td>0.006475</td>\n",
       "    </tr>\n",
       "    <tr>\n",
       "      <th>alm1</th>\n",
       "      <td>0.016670</td>\n",
       "      <td>0.005546</td>\n",
       "      <td>0.001829</td>\n",
       "      <td>-0.000045</td>\n",
       "      <td>0.007379</td>\n",
       "      <td>0.046549</td>\n",
       "      <td>0.036566</td>\n",
       "    </tr>\n",
       "    <tr>\n",
       "      <th>alm2</th>\n",
       "      <td>0.006810</td>\n",
       "      <td>-0.003729</td>\n",
       "      <td>-0.001067</td>\n",
       "      <td>-0.000298</td>\n",
       "      <td>0.006475</td>\n",
       "      <td>0.036566</td>\n",
       "      <td>0.043853</td>\n",
       "    </tr>\n",
       "  </tbody>\n",
       "</table>\n",
       "</div>"
      ],
      "text/plain": [
       "           mcg       gvh       lip       chg       aac      alm1      alm2\n",
       "mcg   0.037882  0.013115  0.002529  0.000373  0.005257  0.016670  0.006810\n",
       "gvh   0.013115  0.021950  0.000574  0.000075  0.001266  0.005546 -0.003729\n",
       "lip   0.002529  0.000574  0.007831  0.000753  0.000760  0.001829 -0.001067\n",
       "chg   0.000373  0.000075  0.000753  0.000744 -0.000149 -0.000045 -0.000298\n",
       "aac   0.005257  0.001266  0.000760 -0.000149  0.014976  0.007379  0.006475\n",
       "alm1  0.016670  0.005546  0.001829 -0.000045  0.007379  0.046549  0.036566\n",
       "alm2  0.006810 -0.003729 -0.001067 -0.000298  0.006475  0.036566  0.043853"
      ]
     },
     "execution_count": 6,
     "metadata": {},
     "output_type": "execute_result"
    }
   ],
   "source": [
    "# make sure above is correct\n",
    "pd.DataFrame(np.cov(df[cols].T), columns=cols, index=cols)"
   ]
  },
  {
   "cell_type": "code",
   "execution_count": 7,
   "metadata": {},
   "outputs": [
    {
     "name": "stdout",
     "output_type": "stream",
     "text": [
      "True\n",
      "True\n"
     ]
    }
   ],
   "source": [
    "# make sure above is correct\n",
    "print(np.allclose(cov_matrix(df, cols), df[cols].cov()))\n",
    "print(np.allclose(cov_matrix(df, cols), np.cov(df[cols].T)))"
   ]
  },
  {
   "cell_type": "markdown",
   "metadata": {},
   "source": [
    "### Problem 2c  (10 points)\n",
    "\n",
    "Compute the decomposition of the covariance matrix using singular value decomposition.  Using a python function is definitely the way to go here."
   ]
  },
  {
   "cell_type": "code",
   "execution_count": 10,
   "metadata": {},
   "outputs": [
    {
     "name": "stdout",
     "output_type": "stream",
     "text": [
      "u =  [[-3.41720629e-01 -7.29824958e-01  4.56914809e-01  3.52555665e-01\n",
      "  -1.29441525e-01  2.62199804e-02 -8.56193962e-03]\n",
      " [-9.17492644e-02 -5.28794379e-01 -7.04480258e-01 -3.42514767e-01\n",
      "  -1.39018617e-01  2.81111220e-01  2.89703065e-04]\n",
      " [-1.99698823e-02 -7.25012267e-02  9.24097367e-02 -1.46705018e-02\n",
      "   8.54762221e-01  4.93627297e-01 -1.06318528e-01]\n",
      " [ 9.74209562e-04 -1.16809378e-02  8.81896510e-03  1.64849996e-02\n",
      "   8.61437517e-02  6.21081678e-02  9.94100049e-01]\n",
      " [-1.47115119e-01 -4.80496808e-02  4.70463079e-01 -8.66343630e-01\n",
      "  -4.86492931e-02 -3.90505852e-02  1.64278490e-02]\n",
      " [-6.89914858e-01  7.21275410e-02 -2.54072739e-01 -1.83906883e-02\n",
      "   3.50569568e-01 -5.75266798e-01  9.64476070e-03]\n",
      " [-6.13827312e-01  4.18124394e-01  2.07514962e-02  8.37356323e-02\n",
      "  -3.17196689e-01  5.83358230e-01 -5.01770938e-03]] \n",
      "\n",
      "s =  [0.08970253 0.04243901 0.01463252 0.01288363 0.00853362 0.00493527\n",
      " 0.00065892] \n",
      "\n",
      "v =  [[-3.41720629e-01 -9.17492644e-02 -1.99698823e-02  9.74209562e-04\n",
      "  -1.47115119e-01 -6.89914858e-01 -6.13827312e-01]\n",
      " [-7.29824958e-01 -5.28794379e-01 -7.25012267e-02 -1.16809378e-02\n",
      "  -4.80496808e-02  7.21275410e-02  4.18124394e-01]\n",
      " [ 4.56914809e-01 -7.04480258e-01  9.24097367e-02  8.81896510e-03\n",
      "   4.70463079e-01 -2.54072739e-01  2.07514962e-02]\n",
      " [ 3.52555665e-01 -3.42514767e-01 -1.46705018e-02  1.64849996e-02\n",
      "  -8.66343630e-01 -1.83906883e-02  8.37356323e-02]\n",
      " [-1.29441525e-01 -1.39018617e-01  8.54762221e-01  8.61437517e-02\n",
      "  -4.86492931e-02  3.50569568e-01 -3.17196689e-01]\n",
      " [ 2.62199804e-02  2.81111220e-01  4.93627297e-01  6.21081678e-02\n",
      "  -3.90505852e-02 -5.75266798e-01  5.83358230e-01]\n",
      " [-8.56193962e-03  2.89703065e-04 -1.06318528e-01  9.94100049e-01\n",
      "   1.64278490e-02  9.64476070e-03 -5.01770938e-03]] \n",
      "\n"
     ]
    },
    {
     "data": {
      "text/plain": [
       "array([[ 3.78823845e-02,  1.31149254e-02,  2.52922530e-03,\n",
       "         3.73045487e-04,  5.25671464e-03,  1.66701386e-02,\n",
       "         6.81016525e-03],\n",
       "       [ 1.31149254e-02,  2.19504478e-02,  5.74328358e-04,\n",
       "         7.46268657e-05,  1.26597015e-03,  5.54567164e-03,\n",
       "        -3.72925373e-03],\n",
       "       [ 2.52922530e-03,  5.74328358e-04,  7.83141436e-03,\n",
       "         7.53020611e-04,  7.60135039e-04,  1.82886994e-03,\n",
       "        -1.06688699e-03],\n",
       "       [ 3.73045487e-04,  7.46268657e-05,  7.53020611e-04,\n",
       "         7.44047619e-04, -1.49298152e-04, -4.50426439e-05,\n",
       "        -2.98107676e-04],\n",
       "       [ 5.25671464e-03,  1.26597015e-03,  7.60135039e-04,\n",
       "        -1.49298152e-04,  1.49758200e-02,  7.37909915e-03,\n",
       "         6.47523188e-03],\n",
       "       [ 1.66701386e-02,  5.54567164e-03,  1.82886994e-03,\n",
       "        -4.50426439e-05,  7.37909915e-03,  4.65486247e-02,\n",
       "         3.65657196e-02],\n",
       "       [ 6.81016525e-03, -3.72925373e-03, -1.06688699e-03,\n",
       "        -2.98107676e-04,  6.47523188e-03,  3.65657196e-02,\n",
       "         4.38527639e-02]])"
      ]
     },
     "execution_count": 10,
     "metadata": {},
     "output_type": "execute_result"
    }
   ],
   "source": [
    "u, s, v = np.linalg.svd(C)\n",
    "print('u = ', u, '\\n')\n",
    "print('s = ', s, '\\n')\n",
    "print('v = ', v, '\\n')\n",
    "np.dot(u, np.dot(np.diag(s), v))"
   ]
  },
  {
   "cell_type": "markdown",
   "metadata": {},
   "source": [
    "### Problem 2d  (10 points)\n",
    "\n",
    "Compute the projection of the raw data onto the appropriate two eigenvectors.  Consider which columns should be projected and the normalizations."
   ]
  },
  {
   "cell_type": "code",
   "execution_count": 19,
   "metadata": {},
   "outputs": [
    {
     "name": "stdout",
     "output_type": "stream",
     "text": [
      "Eigenvalues \n",
      "[0.00065892 0.00493527 0.00853362 0.01288363 0.01463252 0.04243901\n",
      " 0.08970253]\n",
      "\n",
      "Eigenvectors \n",
      "[[-8.56193962e-03  2.62199804e-02 -1.29441525e-01  3.52555665e-01\n",
      "   4.56914809e-01 -7.29824958e-01 -3.41720629e-01]\n",
      " [ 2.89703065e-04  2.81111220e-01 -1.39018617e-01 -3.42514767e-01\n",
      "  -7.04480258e-01 -5.28794379e-01 -9.17492644e-02]\n",
      " [-1.06318528e-01  4.93627297e-01  8.54762221e-01 -1.46705018e-02\n",
      "   9.24097367e-02 -7.25012267e-02 -1.99698823e-02]\n",
      " [ 9.94100049e-01  6.21081678e-02  8.61437517e-02  1.64849996e-02\n",
      "   8.81896510e-03 -1.16809378e-02  9.74209562e-04]\n",
      " [ 1.64278490e-02 -3.90505852e-02 -4.86492931e-02 -8.66343630e-01\n",
      "   4.70463079e-01 -4.80496808e-02 -1.47115119e-01]\n",
      " [ 9.64476070e-03 -5.75266798e-01  3.50569568e-01 -1.83906883e-02\n",
      "  -2.54072739e-01  7.21275410e-02 -6.89914858e-01]\n",
      " [-5.01770938e-03  5.83358230e-01 -3.17196689e-01  8.37356323e-02\n",
      "   2.07514962e-02  4.18124394e-01 -6.13827312e-01]]\n",
      "\n",
      "np.dot(eigenvectors[1], eigenvectors[0]) = \n",
      " -6.175615574477433e-16 \n",
      "\n",
      "eigenvalues = \n",
      " [0.08970253 0.04243901 0.01463252 0.01288363 0.00853362 0.00493527\n",
      " 0.00065892] \n",
      "\n",
      "idx =  [6 5 4 3 2 1 0] \n",
      "\n",
      "eigenvectors =  [[-3.41720629e-01 -7.29824958e-01  4.56914809e-01  3.52555665e-01\n",
      "  -1.29441525e-01  2.62199804e-02 -8.56193962e-03]\n",
      " [-9.17492644e-02 -5.28794379e-01 -7.04480258e-01 -3.42514767e-01\n",
      "  -1.39018617e-01  2.81111220e-01  2.89703065e-04]\n",
      " [-1.99698823e-02 -7.25012267e-02  9.24097367e-02 -1.46705018e-02\n",
      "   8.54762221e-01  4.93627297e-01 -1.06318528e-01]\n",
      " [ 9.74209562e-04 -1.16809378e-02  8.81896510e-03  1.64849996e-02\n",
      "   8.61437517e-02  6.21081678e-02  9.94100049e-01]\n",
      " [-1.47115119e-01 -4.80496808e-02  4.70463079e-01 -8.66343630e-01\n",
      "  -4.86492931e-02 -3.90505852e-02  1.64278490e-02]\n",
      " [-6.89914858e-01  7.21275410e-02 -2.54072739e-01 -1.83906883e-02\n",
      "   3.50569568e-01 -5.75266798e-01  9.64476070e-03]\n",
      " [-6.13827312e-01  4.18124394e-01  2.07514962e-02  8.37356323e-02\n",
      "  -3.17196689e-01  5.83358230e-01 -5.01770938e-03]] \n",
      "\n",
      "eigenvectors[:,idx[0]] =  [-8.56193962e-03  2.89703065e-04 -1.06318528e-01  9.94100049e-01\n",
      "  1.64278490e-02  9.64476070e-03 -5.01770938e-03]\n"
     ]
    }
   ],
   "source": [
    "assert np.linalg.det(C) >= 0 \n",
    "\n",
    "eigenvalues, eigenvectors = np.linalg.eigh(C)\n",
    "print('Eigenvalues \\n%s\\n' %eigenvalues)\n",
    "print('Eigenvectors \\n%s\\n' %eigenvectors)\n",
    "\n",
    "# eigenvectors orthonormal\n",
    "print('np.dot(eigenvectors[1], eigenvectors[0]) = \\n', np.dot(eigenvectors[1], eigenvectors[0]), '\\n')\n",
    "\n",
    "for vec in eigenvectors:\n",
    "    assert np.allclose(1, np.linalg.norm(vec))\n",
    "#print(eigenvectors[:,1])\n",
    "\n",
    "# sort eigenvalues in desc order\n",
    "idx = np.argsort (-eigenvalues )\n",
    "eigenvalues = eigenvalues [ idx ]\n",
    "eigenvectors = eigenvectors [: , idx ]\n",
    "\n",
    "print('eigenvalues = \\n', eigenvalues, '\\n')\n",
    "print('idx = ', idx, '\\n')\n",
    "print('eigenvectors = ', eigenvectors, '\\n')\n",
    "\n",
    "print('eigenvectors[:,idx[0]] = ', eigenvectors[:,idx[0]])"
   ]
  },
  {
   "cell_type": "markdown",
   "metadata": {},
   "source": [
    "### Problem 2e  (10 points)\n",
    "\n",
    "Plot the projected points such that the 8 different classes can be visually identified.  Be sure to label the classes and axes.  Commont on the quality of the separation of the different classes using PCA."
   ]
  },
  {
   "cell_type": "code",
   "execution_count": 21,
   "metadata": {},
   "outputs": [
    {
     "data": {
      "text/html": [
       "<div>\n",
       "<style scoped>\n",
       "    .dataframe tbody tr th:only-of-type {\n",
       "        vertical-align: middle;\n",
       "    }\n",
       "\n",
       "    .dataframe tbody tr th {\n",
       "        vertical-align: top;\n",
       "    }\n",
       "\n",
       "    .dataframe thead th {\n",
       "        text-align: right;\n",
       "    }\n",
       "</style>\n",
       "<table border=\"1\" class=\"dataframe\">\n",
       "  <thead>\n",
       "    <tr style=\"text-align: right;\">\n",
       "      <th></th>\n",
       "      <th>sequence_name</th>\n",
       "      <th>mcg</th>\n",
       "      <th>gvh</th>\n",
       "      <th>lip</th>\n",
       "      <th>chg</th>\n",
       "      <th>aac</th>\n",
       "      <th>alm1</th>\n",
       "      <th>alm2</th>\n",
       "      <th>target</th>\n",
       "    </tr>\n",
       "  </thead>\n",
       "  <tbody>\n",
       "    <tr>\n",
       "      <th>0</th>\n",
       "      <td>AAT_ECOLI</td>\n",
       "      <td>0.49</td>\n",
       "      <td>0.29</td>\n",
       "      <td>0.48</td>\n",
       "      <td>0.5</td>\n",
       "      <td>0.56</td>\n",
       "      <td>0.24</td>\n",
       "      <td>0.35</td>\n",
       "      <td>cp</td>\n",
       "    </tr>\n",
       "    <tr>\n",
       "      <th>1</th>\n",
       "      <td>ACEA_ECOLI</td>\n",
       "      <td>0.07</td>\n",
       "      <td>0.40</td>\n",
       "      <td>0.48</td>\n",
       "      <td>0.5</td>\n",
       "      <td>0.54</td>\n",
       "      <td>0.35</td>\n",
       "      <td>0.44</td>\n",
       "      <td>cp</td>\n",
       "    </tr>\n",
       "    <tr>\n",
       "      <th>2</th>\n",
       "      <td>ACEK_ECOLI</td>\n",
       "      <td>0.56</td>\n",
       "      <td>0.40</td>\n",
       "      <td>0.48</td>\n",
       "      <td>0.5</td>\n",
       "      <td>0.49</td>\n",
       "      <td>0.37</td>\n",
       "      <td>0.46</td>\n",
       "      <td>cp</td>\n",
       "    </tr>\n",
       "    <tr>\n",
       "      <th>3</th>\n",
       "      <td>ACKA_ECOLI</td>\n",
       "      <td>0.59</td>\n",
       "      <td>0.49</td>\n",
       "      <td>0.48</td>\n",
       "      <td>0.5</td>\n",
       "      <td>0.52</td>\n",
       "      <td>0.45</td>\n",
       "      <td>0.36</td>\n",
       "      <td>cp</td>\n",
       "    </tr>\n",
       "    <tr>\n",
       "      <th>4</th>\n",
       "      <td>ADI_ECOLI</td>\n",
       "      <td>0.23</td>\n",
       "      <td>0.32</td>\n",
       "      <td>0.48</td>\n",
       "      <td>0.5</td>\n",
       "      <td>0.55</td>\n",
       "      <td>0.25</td>\n",
       "      <td>0.35</td>\n",
       "      <td>cp</td>\n",
       "    </tr>\n",
       "  </tbody>\n",
       "</table>\n",
       "</div>"
      ],
      "text/plain": [
       "  sequence_name   mcg   gvh   lip  chg   aac  alm1  alm2 target\n",
       "0     AAT_ECOLI  0.49  0.29  0.48  0.5  0.56  0.24  0.35     cp\n",
       "1    ACEA_ECOLI  0.07  0.40  0.48  0.5  0.54  0.35  0.44     cp\n",
       "2    ACEK_ECOLI  0.56  0.40  0.48  0.5  0.49  0.37  0.46     cp\n",
       "3    ACKA_ECOLI  0.59  0.49  0.48  0.5  0.52  0.45  0.36     cp\n",
       "4     ADI_ECOLI  0.23  0.32  0.48  0.5  0.55  0.25  0.35     cp"
      ]
     },
     "execution_count": 21,
     "metadata": {},
     "output_type": "execute_result"
    }
   ],
   "source": [
    "df.head()"
   ]
  },
  {
   "cell_type": "code",
   "execution_count": 27,
   "metadata": {},
   "outputs": [
    {
     "data": {
      "text/plain": [
       "<matplotlib.collections.PathCollection at 0x10dd67e10>"
      ]
     },
     "execution_count": 27,
     "metadata": {},
     "output_type": "execute_result"
    },
    {
     "data": {
      "image/png": "[encoded data removed]",
      "text/plain": [
       "<Figure size 1080x432 with 1 Axes>"
      ]
     },
     "metadata": {},
     "output_type": "display_data"
    }
   ],
   "source": [
    "import matplotlib.pyplot as plt\n",
    "import seaborn as sns\n",
    "%matplotlib inline\n",
    "\n",
    "df_eig = pd.DataFrame(eigenvectors[:, idx])\n",
    "\n",
    "fig, ax = plt.subplots(figsize=(15, 6))\n",
    "ax.scatter(df_eig[0], df_eig[1])"
   ]
  },
  {
   "cell_type": "code",
   "execution_count": 46,
   "metadata": {},
   "outputs": [
    {
     "data": {
      "image/png": "[encoded data removed]",
      "text/plain": [
       "<Figure size 1080x432 with 1 Axes>"
      ]
     },
     "metadata": {},
     "output_type": "display_data"
    }
   ],
   "source": [
    "import random\n",
    "from sklearn.decomposition import PCA\n",
    "\n",
    "def random_hex(seed):\n",
    "    np.random.seed(seed)\n",
    "    r = lambda: random.randint(0, 255)\n",
    "    return '#%02X%02X%02X' % (r(),r(),r())\n",
    "\n",
    "# map targets to colors randomly\n",
    "unq_tgts = df.target.unique()\n",
    "colors = [random_hex(i) for i,cls in zip(range(len(unq_tgts)), unq_tgts)]\n",
    "\n",
    "# perform PCA using sklearn\n",
    "pca = PCA(n_components=2, random_state=77)\n",
    "pca.fit(df[cols])\n",
    "df_pca = pd.DataFrame(pca.transform(df[cols]))\n",
    "\n",
    "# add target for plotting\n",
    "df_pca['target'] = df['target']\n",
    "\n",
    "# plot the first two PCs\n",
    "fig, ax = plt.subplots(figsize=(15, 6))\n",
    "i = 0\n",
    "for target, _df in df_pca.groupby('target'):\n",
    "    color = colors[i]\n",
    "    label = unq_tgts[i]\n",
    "    ax.scatter(_df[0], _df[1], color=color, label=label, alpha=.65)\n",
    "    i += 1\n",
    "ax.grid(alpha=.7)\n",
    "sns.despine()\n",
    "ax.set_xlabel('1st Principal Component')\n",
    "ax.set_ylabel('2nd Principal Component')\n",
    "ax.legend(loc='best')\n",
    "ax.set_title('Top 2 Principal Components\\nColored by Class')\n",
    "plt.show()"
   ]
  },
  {
   "cell_type": "code",
   "execution_count": 45,
   "metadata": {},
   "outputs": [
    {
     "data": {
      "image/png": "[encoded data removed]",
      "text/plain": [
       "<Figure size 1080x432 with 1 Axes>"
      ]
     },
     "metadata": {},
     "output_type": "display_data"
    }
   ],
   "source": [
    "pca = PCA(n_components=2, random_state=77)\n",
    "pca.fit(df[cols])\n",
    "df_pca = pd.DataFrame(pca.transform(df[cols]))\n",
    "df_pca['target'] = df['target']\n",
    "\n",
    "fig, ax = plt.subplots(figsize=(15, 6))\n",
    "i = 0\n",
    "for target, _df in df_pca.groupby('target'):\n",
    "    color = colors[i]\n",
    "    label = unq_tgts[i]\n",
    "    ax.scatter(_df[0], _df[1], color=color, label=label, alpha=.65)\n",
    "    i += 1\n",
    "ax.grid(alpha=.7)\n",
    "sns.despine()\n",
    "ax.set_xlabel('1st Principal Component')\n",
    "ax.set_ylabel('2nd Principal Component')\n",
    "ax.legend(loc='best')\n",
    "ax.set_title('Top 2 Principal Components\\nColored by Class')\n",
    "plt.show()"
   ]
  },
  {
   "cell_type": "code",
   "execution_count": 32,
   "metadata": {},
   "outputs": [
    {
     "name": "stdout",
     "output_type": "stream",
     "text": [
      "mcg     0.500060\n",
      "gvh     0.500000\n",
      "lip     0.495476\n",
      "chg     0.501488\n",
      "aac     0.500030\n",
      "alm1    0.500179\n",
      "alm2    0.499732\n",
      "dtype: float64\n",
      "         mcg           gvh       lip       chg      aac      alm1      alm2\n",
      "0   -0.01006 -2.100000e-01 -0.015476 -0.001488  0.05997 -0.260179 -0.149732\n",
      "1   -0.43006 -1.000000e-01 -0.015476 -0.001488  0.03997 -0.150179 -0.059732\n",
      "2    0.05994 -1.000000e-01 -0.015476 -0.001488 -0.01003 -0.130179 -0.039732\n",
      "3    0.08994 -1.000000e-02 -0.015476 -0.001488  0.01997 -0.050179 -0.139732\n",
      "4   -0.27006 -1.800000e-01 -0.015476 -0.001488  0.04997 -0.250179 -0.149732\n",
      "5    0.16994 -1.100000e-01 -0.015476 -0.001488 -0.14003 -0.120179 -0.039732\n",
      "6   -0.21006 -2.200000e-01 -0.015476 -0.001488 -0.06003 -0.270179 -0.159732\n",
      "7   -0.29006 -1.600000e-01 -0.015476 -0.001488  0.00997 -0.220179 -0.109732\n",
      "8   -0.30006 -6.000000e-02 -0.015476 -0.001488 -0.04003  0.009821  0.070268\n",
      "9   -0.08006 -1.000000e-01 -0.015476 -0.001488  0.05997 -0.320179 -0.199732\n",
      "10  -0.08006 -2.600000e-01 -0.015476 -0.001488  0.06997 -0.230179 -0.129732\n",
      "11  -0.25006 -2.000000e-02 -0.015476 -0.001488 -0.06003 -0.330179 -0.209732\n",
      "12  -0.11006 -1.800000e-01 -0.015476 -0.001488 -0.04003 -0.260179 -0.149732\n",
      "13   0.00994 -5.551115e-16 -0.015476 -0.001488 -0.04003 -0.180179 -0.149732\n",
      "14  -0.28006 -7.000000e-02 -0.015476 -0.001488 -0.02003 -0.340179 -0.219732\n",
      "15  -0.25006 -1.000000e-01 -0.015476 -0.001488 -0.04003 -0.060179  0.020268\n",
      "16  -0.16006 -5.000000e-02 -0.015476 -0.001488 -0.12003 -0.260179 -0.149732\n",
      "17  -0.06006 -2.300000e-01 -0.015476 -0.001488  0.04997  0.019821  0.080268\n",
      "18  -0.27006 -1.000000e-01 -0.015476 -0.001488 -0.11003 -0.220179 -0.119732\n",
      "19  -0.09006  7.000000e-02 -0.015476 -0.001488 -0.11003 -0.290179 -0.179732\n",
      "20  -0.10006 -5.000000e-02 -0.015476 -0.001488 -0.12003 -0.280179 -0.499732\n",
      "21  -0.19006 -2.700000e-01 -0.015476 -0.001488  0.22997 -0.450179 -0.359732\n",
      "22   0.00994  4.000000e-02 -0.015476 -0.001488 -0.09003 -0.160179 -0.069732\n",
      "23  -0.20006 -3.400000e-01 -0.015476 -0.001488  0.05997 -0.390179 -0.269732\n",
      "24  -0.14006 -1.100000e-01 -0.015476 -0.001488 -0.02003 -0.280179 -0.269732\n",
      "25  -0.21006 -1.300000e-01 -0.015476 -0.001488 -0.02003 -0.060179  0.020268\n",
      "26  -0.25006 -1.000000e-01 -0.015476 -0.001488 -0.03003 -0.170179 -0.079732\n",
      "27  -0.29006  1.000000e-02 -0.015476 -0.001488 -0.00003 -0.180179 -0.089732\n",
      "28  -0.07006 -1.300000e-01 -0.015476 -0.001488  0.02997 -0.150179 -0.059732\n",
      "29  -0.07006 -1.100000e-01 -0.015476 -0.001488 -0.03003 -0.190179 -0.089732\n",
      "..       ...           ...       ...       ...      ...       ...       ...\n",
      "306  0.12994  2.100000e-01 -0.015476 -0.001488  0.09997 -0.100179 -0.109732\n",
      "307  0.20994  3.600000e-01 -0.015476 -0.001488 -0.10003  0.039821 -0.179732\n",
      "308  0.17994  2.800000e-01 -0.015476 -0.001488 -0.07003 -0.060179 -0.079732\n",
      "309  0.13994  3.400000e-01 -0.015476 -0.001488 -0.13003 -0.050179 -0.099732\n",
      "310  0.23994 -3.000000e-02 -0.015476 -0.001488 -0.00003  0.069821 -0.079732\n",
      "311  0.24994  3.400000e-01 -0.015476 -0.001488 -0.15003  0.019821 -0.169732\n",
      "312  0.12994  1.500000e-01 -0.015476 -0.001488 -0.11003 -0.060179 -0.149732\n",
      "313  0.18994  1.700000e-01 -0.015476 -0.001488 -0.20003 -0.110179 -0.259732\n",
      "314  0.19994  2.100000e-01 -0.015476 -0.001488 -0.08003  0.339821  0.350268\n",
      "315  0.18994  3.000000e-01 -0.015476 -0.001488 -0.04003  0.069821 -0.239732\n",
      "316  0.13994  1.600000e-01 -0.015476 -0.001488 -0.09003 -0.110179 -0.299732\n",
      "317  0.12994  3.000000e-01 -0.015476 -0.001488 -0.04003 -0.190179 -0.209732\n",
      "318  0.15994  2.100000e-01 -0.015476 -0.001488 -0.09003 -0.000179 -0.149732\n",
      "319  0.18994  9.000000e-02 -0.015476 -0.001488 -0.04003 -0.060179  0.020268\n",
      "320  0.17994  1.700000e-01 -0.015476 -0.001488 -0.01003 -0.100179 -0.159732\n",
      "321  0.13994  2.800000e-01 -0.015476 -0.001488 -0.00003 -0.140179 -0.119732\n",
      "322  0.11994  2.800000e-01 -0.015476 -0.001488 -0.03003 -0.010179  0.040268\n",
      "323  0.25994  2.300000e-01 -0.015476 -0.001488 -0.06003 -0.110179 -0.109732\n",
      "324  0.13994  3.100000e-01 -0.015476 -0.001488 -0.13003 -0.110179 -0.059732\n",
      "325 -0.21006 -1.100000e-01 -0.015476 -0.001488  0.01997 -0.100179 -0.019732\n",
      "326  0.11994  3.300000e-01 -0.015476 -0.001488 -0.04003 -0.140179 -0.099732\n",
      "327  0.05994  4.000000e-02 -0.015476 -0.001488 -0.07003 -0.130179 -0.199732\n",
      "328  0.18994  1.600000e-01 -0.015476 -0.001488 -0.09003 -0.000179 -0.249732\n",
      "329  0.18994  1.500000e-01 -0.015476 -0.001488  0.12997 -0.020179 -0.089732\n",
      "330 -0.07006  9.000000e-02 -0.015476 -0.001488  0.01997 -0.010179  0.060268\n",
      "331  0.23994  6.000000e-02 -0.015476 -0.001488 -0.03003  0.179821 -0.199732\n",
      "332  0.20994  7.000000e-02 -0.015476 -0.001488 -0.02003 -0.150179 -0.179732\n",
      "333  0.10994  1.000000e-01 -0.015476 -0.001488 -0.06003 -0.110179 -0.119732\n",
      "334  0.08994  1.100000e-01 -0.015476 -0.001488 -0.08003 -0.080179 -0.129732\n",
      "335  0.23994  2.400000e-01 -0.015476 -0.001488 -0.19003  0.029821  0.020268\n",
      "\n",
      "[336 rows x 7 columns]\n"
     ]
    }
   ],
   "source": [
    "mu = df[cols].mean(axis=0)\n",
    "print(mu)\n",
    "\n",
    "df_0 = df[cols] - mu; print(df_0)\n",
    "# ax = plt.gca()\n",
    "# ax.axis([-3, 4, -3, 4])\n",
    "# ax.scatter(df_0[0], df_0[1], s=200, c=set2_colors[1])\n",
    "# ax.set_title('Raw and mean-subtracted, centered data')\n",
    "# ax.grid(True)"
   ]
  },
  {
   "cell_type": "code",
   "execution_count": 20,
   "metadata": {},
   "outputs": [
    {
     "ename": "NameError",
     "evalue": "name 'df_0' is not defined",
     "output_type": "error",
     "traceback": [
      "\u001b[0;31m---------------------------------------------------------------------------\u001b[0m",
      "\u001b[0;31mNameError\u001b[0m                                 Traceback (most recent call last)",
      "\u001b[0;32m<ipython-input-20-74cd35f4eb97>\u001b[0m in \u001b[0;36m<module>\u001b[0;34m()\u001b[0m\n\u001b[0;32m----> 1\u001b[0;31m \u001b[0mh1\u001b[0m \u001b[0;34m=\u001b[0m \u001b[0;34m(\u001b[0m\u001b[0meigenvectors\u001b[0m\u001b[0;34m[\u001b[0m\u001b[0;36m1\u001b[0m\u001b[0;34m]\u001b[0m\u001b[0;34m[\u001b[0m\u001b[0;36m0\u001b[0m\u001b[0;34m]\u001b[0m\u001b[0;34m/\u001b[0m\u001b[0meigenvectors\u001b[0m\u001b[0;34m[\u001b[0m\u001b[0;36m0\u001b[0m\u001b[0;34m]\u001b[0m\u001b[0;34m[\u001b[0m\u001b[0;36m0\u001b[0m\u001b[0;34m]\u001b[0m\u001b[0;34m)\u001b[0m\u001b[0;34m*\u001b[0m\u001b[0mdf_0\u001b[0m\u001b[0;34m.\u001b[0m\u001b[0mx\u001b[0m\u001b[0;34m\u001b[0m\u001b[0m\n\u001b[0m\u001b[1;32m      2\u001b[0m \u001b[0mh2\u001b[0m \u001b[0;34m=\u001b[0m \u001b[0;34m(\u001b[0m\u001b[0meigenvectors\u001b[0m\u001b[0;34m[\u001b[0m\u001b[0;36m1\u001b[0m\u001b[0;34m]\u001b[0m\u001b[0;34m[\u001b[0m\u001b[0;36m1\u001b[0m\u001b[0;34m]\u001b[0m\u001b[0;34m/\u001b[0m\u001b[0meigenvectors\u001b[0m\u001b[0;34m[\u001b[0m\u001b[0;36m0\u001b[0m\u001b[0;34m]\u001b[0m\u001b[0;34m[\u001b[0m\u001b[0;36m1\u001b[0m\u001b[0;34m]\u001b[0m\u001b[0;34m)\u001b[0m\u001b[0;34m*\u001b[0m\u001b[0mdf_0\u001b[0m\u001b[0;34m.\u001b[0m\u001b[0mx\u001b[0m\u001b[0;34m\u001b[0m\u001b[0m\n\u001b[1;32m      3\u001b[0m \u001b[0;34m\u001b[0m\u001b[0m\n\u001b[1;32m      4\u001b[0m \u001b[0max\u001b[0m \u001b[0;34m=\u001b[0m \u001b[0mplt\u001b[0m\u001b[0;34m.\u001b[0m\u001b[0mgca\u001b[0m\u001b[0;34m(\u001b[0m\u001b[0;34m)\u001b[0m\u001b[0;34m\u001b[0m\u001b[0m\n\u001b[1;32m      5\u001b[0m \u001b[0max\u001b[0m\u001b[0;34m.\u001b[0m\u001b[0mplot\u001b[0m\u001b[0;34m(\u001b[0m\u001b[0mdf_0\u001b[0m\u001b[0;34m.\u001b[0m\u001b[0mx\u001b[0m\u001b[0;34m,\u001b[0m \u001b[0mh1\u001b[0m\u001b[0;34m,\u001b[0m \u001b[0mcolor\u001b[0m\u001b[0;34m=\u001b[0m\u001b[0;34m'blue'\u001b[0m\u001b[0;34m,\u001b[0m \u001b[0mlabel\u001b[0m\u001b[0;34m=\u001b[0m\u001b[0;34m'PC1'\u001b[0m\u001b[0;34m)\u001b[0m\u001b[0;34m\u001b[0m\u001b[0m\n",
      "\u001b[0;31mNameError\u001b[0m: name 'df_0' is not defined"
     ]
    }
   ],
   "source": [
    "h1 = (eigenvectors[1][0]/eigenvectors[0][0])*df_0.x\n",
    "h2 = (eigenvectors[1][1]/eigenvectors[0][1])*df_0.x\n",
    "\n",
    "ax = plt.gca()\n",
    "ax.plot(df_0.x, h1, color='blue', label='PC1')\n",
    "ax.plot(df_0.x, h2, color='red', label='PC2')\n",
    "ax.axis([-2, 2, -2, 2])\n",
    "ax.scatter(df_0.x, df_0.y, s=200, c=set2_colors[1], label='Centered data')\n",
    "ax.set_title('Principal components and centered data')\n",
    "ax.grid(True)\n",
    "cible_border()\n",
    "legend = ax.legend(loc=4,frameon=True,framealpha=0.6, scatterpoints=1)\n",
    "rect = legend.get_frame()\n",
    "rect.set_facecolor(light_grey)\n",
    "rect.set_linewidth(0.6)\n",
    "plt.show()"
   ]
  },
  {
   "cell_type": "markdown",
   "metadata": {},
   "source": [
    "### Problem 2f (10 points)\n",
    "\n",
    "The PCA that you have just completed takes each data point and projects it using a weighted sum of features.  One could also do the opposite to map the features as a weighted sum of the data entries.  How could this be done?  What is a potential issue? Describe these in a few sentences (do not code it)."
   ]
  },
  {
   "cell_type": "code",
   "execution_count": null,
   "metadata": {},
   "outputs": [],
   "source": []
  },
  {
   "cell_type": "markdown",
   "metadata": {},
   "source": [
    "### Problem 3  MDS  (10 points)\n",
    "\n",
    "For the same data set, repeat 2e using sklearn's Multidimensional scaling algorithm.  "
   ]
  },
  {
   "cell_type": "code",
   "execution_count": null,
   "metadata": {},
   "outputs": [],
   "source": []
  },
  {
   "cell_type": "markdown",
   "metadata": {},
   "source": [
    "### Problem 4a  t-SNE  (5 points)\n",
    "\n",
    "Repeat 2e using a t-SNE plot with the default settings."
   ]
  },
  {
   "cell_type": "code",
   "execution_count": null,
   "metadata": {},
   "outputs": [],
   "source": []
  },
  {
   "cell_type": "markdown",
   "metadata": {},
   "source": [
    "### Problem 4b t-SNE perplexity  (5 points)\n",
    "\n",
    "Try out a few t-SNE plots by varying the perplexity.  State the best perplexity for separating the 8 different classes and describe your rationale in a sentence or two.  Report the average calculation time for the t-SNE projection over a number of iterations."
   ]
  },
  {
   "cell_type": "code",
   "execution_count": null,
   "metadata": {},
   "outputs": [],
   "source": []
  },
  {
   "cell_type": "markdown",
   "metadata": {},
   "source": [
    "### Problem 4c  t-SNE randomization (10 points)\n",
    "\n",
    "The S of t-SNE means stochastic or random, usually as a function of time.  Explore whether you can reproduce the result in 4b through a second projection and plot."
   ]
  },
  {
   "cell_type": "code",
   "execution_count": null,
   "metadata": {},
   "outputs": [],
   "source": []
  },
  {
   "cell_type": "markdown",
   "metadata": {},
   "source": [
    "### Problem 4d t-SNE Barnes-Hut  (5 points)\n",
    "\n",
    "The default t-SNE method of 4b uses the Barnes-Hut approximation.  Keeping the other parameters the same as 4b, plot the t-SNE result using the exact method.  Which method do you prefer?  Compare the average calculation time for the exact method over a number of iterations."
   ]
  },
  {
   "cell_type": "code",
   "execution_count": null,
   "metadata": {},
   "outputs": [],
   "source": []
  },
  {
   "cell_type": "markdown",
   "metadata": {},
   "source": [
    "### How many hours did this homework take?  \n",
    "\n",
    "This will not affect your grade.  We will be monitoring time spent on homework to be sure that we are not over-burdening students."
   ]
  },
  {
   "cell_type": "code",
   "execution_count": null,
   "metadata": {},
   "outputs": [],
   "source": []
  },
  {
   "cell_type": "markdown",
   "metadata": {},
   "source": [
    "### Last step (5 points)\n",
    "\n",
    "Save this notebook as LastnameFirstnameHW1.ipynb such as MuskElonHW1.ipynb.   Create a pdf of this notebook named similarly.  Submit both the python notebook and the pdf version to the Canvas dropbox.  We require both versions."
   ]
  },
  {
   "cell_type": "code",
   "execution_count": null,
   "metadata": {},
   "outputs": [],
   "source": []
  }
 ],
 "metadata": {
  "kernelspec": {
   "display_name": "Python 3",
   "language": "python",
   "name": "python3"
  },
  "language_info": {
   "codemirror_mode": {
    "name": "ipython",
    "version": 3
   },
   "file_extension": ".py",
   "mimetype": "text/x-python",
   "name": "python",
   "nbconvert_exporter": "python",
   "pygments_lexer": "ipython3",
   "version": "3.6.5"
  }
 },
 "nbformat": 4,
 "nbformat_minor": 2
}
